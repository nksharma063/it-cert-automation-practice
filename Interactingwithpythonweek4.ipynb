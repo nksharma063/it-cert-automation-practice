{
  "nbformat": 4,
  "nbformat_minor": 0,
  "metadata": {
    "colab": {
      "name": "Interactingwithpythonweek4.ipynb",
      "provenance": [],
      "collapsed_sections": [],
      "authorship_tag": "ABX9TyMdMEwl0hfkrpdIlFKMZHod",
      "include_colab_link": true
    },
    "kernelspec": {
      "name": "python3",
      "display_name": "Python 3"
    }
  },
  "cells": [
    {
      "cell_type": "markdown",
      "metadata": {
        "id": "view-in-github",
        "colab_type": "text"
      },
      "source": [
        "<a href=\"https://colab.research.google.com/github/nksharma063/it-cert-automation-practice/blob/master/Interactingwithpythonweek4.ipynb\" target=\"_parent\"><img src=\"https://colab.research.google.com/assets/colab-badge.svg\" alt=\"Open In Colab\"/></a>"
      ]
    },
    {
      "cell_type": "code",
      "metadata": {
        "id": "vcu2kZvTqTzm"
      },
      "source": [
        "def time_conversion(hours, minutes, seconds):\r\n",
        "  return hours * 3600 + minutes * 60 + seconds\r\n",
        "print(\"welcome to this converter\")\r\n",
        "\r\n",
        "con = \"y\"\r\n",
        "while(cont.lower() == 'y'):\r\n",
        "  hours = int(input(\"Enter the hours\"))\r\n",
        "  minutes = int(input(\"Enter the minutes\"))\r\n",
        "  seconds == int(input(\"Enter the seconds\"))\r\n",
        "  print(\"that {} seconds\".format(time_conversion(hours, minutes, seconds)))\r\n",
        "  cont = input(\"do youw ant another converstion to seconds [y  to contuinue]\")\r\n",
        "print(good_bye)"
      ],
      "execution_count": null,
      "outputs": []
    },
    {
      "cell_type": "code",
      "metadata": {
        "colab": {
          "base_uri": "https://localhost:8080/",
          "height": 129
        },
        "id": "Njq616oVjCAa",
        "outputId": "9712c270-6ead-401a-a847-bd941c06dc87"
      },
      "source": [
        "env\r\n",
        "echo $PATH"
      ],
      "execution_count": null,
      "outputs": [
        {
          "output_type": "error",
          "ename": "SyntaxError",
          "evalue": "ignored",
          "traceback": [
            "\u001b[0;36m  File \u001b[0;32m\"<ipython-input-2-73275d0ef526>\"\u001b[0;36m, line \u001b[0;32m2\u001b[0m\n\u001b[0;31m    echo $PATH\u001b[0m\n\u001b[0m         ^\u001b[0m\n\u001b[0;31mSyntaxError\u001b[0m\u001b[0;31m:\u001b[0m invalid syntax\n"
          ]
        }
      ]
    },
    {
      "cell_type": "code",
      "metadata": {
        "colab": {
          "base_uri": "https://localhost:8080/",
          "height": 129
        },
        "id": "xjaDvj1XjCoP",
        "outputId": "7243c158-f5d5-4f5d-aa5a-4d6dd033c489"
      },
      "source": [
        "import os\r\n",
        "print(os.environ.get(\"HOME\",\"\"))\r\n",
        "print(os.environ.get(\"SHELL\",\"\"))\r\n",
        "#commadn line command export FRUIT = $ABC\r\n",
        "print(os.environ.get(\"FRUIT\",\"\"))\r\n",
        "\r\n",
        "#print(os.system())\r\n",
        "print(os.name)\r\n",
        "print(os.error)\r\n"
      ],
      "execution_count": null,
      "outputs": [
        {
          "output_type": "error",
          "ename": "SyntaxError",
          "evalue": "ignored",
          "traceback": [
            "\u001b[0;36m  File \u001b[0;32m\"<ipython-input-12-db18bb101f62>\"\u001b[0;36m, line \u001b[0;32m4\u001b[0m\n\u001b[0;31m    export FRUIT = $ABC\u001b[0m\n\u001b[0m               ^\u001b[0m\n\u001b[0;31mSyntaxError\u001b[0m\u001b[0;31m:\u001b[0m invalid syntax\n"
          ]
        }
      ]
    },
    {
      "cell_type": "code",
      "metadata": {
        "colab": {
          "base_uri": "https://localhost:8080/"
        },
        "id": "CQW_1weLknZ-",
        "outputId": "b176459b-fd5f-4cdc-e32e-d32a763d7974"
      },
      "source": [
        "import sys\r\n",
        "print(sys.argv)\r\n",
        "# wc command counts value sof line, word and charcters of pyhton scripts\r\n",
        "#  $> check the exis  of program , in most of  unix like os exit status is 0 if everything is working fine and other if there is problem\r\n",
        "sys.exit can set code whihc we want if script is not executed or anyother thing\r\n",
        "\r\n",
        "export abc = abc # export can create new environmentg variable\r\n",
        "# file module to create read wrte append\r\n",
        "# shutil to check the utility of system\r\n",
        "# sys modile to play with system comamnds"
      ],
      "execution_count": null,
      "outputs": [
        {
          "output_type": "stream",
          "text": [
            "['/usr/local/lib/python3.6/dist-packages/ipykernel_launcher.py', '-f', '/root/.local/share/jupyter/runtime/kernel-8155a922-9450-448c-8efc-1aa3a5d5899f.json']\n"
          ],
          "name": "stdout"
        }
      ]
    },
    {
      "cell_type": "code",
      "metadata": {
        "colab": {
          "base_uri": "https://localhost:8080/"
        },
        "id": "HCTXwUImqaby",
        "outputId": "642f0c32-41fc-4e26-e307-ddfc29573bd8"
      },
      "source": [
        "import subprocess\r\n",
        "print(subprocess.run(['date']))"
      ],
      "execution_count": null,
      "outputs": [
        {
          "output_type": "stream",
          "text": [
            "CompletedProcess(args=['date'], returncode=0)\n"
          ],
          "name": "stdout"
        }
      ]
    },
    {
      "cell_type": "code",
      "metadata": {
        "colab": {
          "base_uri": "https://localhost:8080/"
        },
        "id": "edXnLFGIvGkv",
        "outputId": "e69f2d31-7879-48e9-b166-a5fa71910e75"
      },
      "source": [
        "subprocess.run(args=['sleep','1'])"
      ],
      "execution_count": null,
      "outputs": [
        {
          "output_type": "execute_result",
          "data": {
            "text/plain": [
              "CompletedProcess(args=['sleep', '1'], returncode=0)"
            ]
          },
          "metadata": {
            "tags": []
          },
          "execution_count": 22
        }
      ]
    },
    {
      "cell_type": "code",
      "metadata": {
        "colab": {
          "base_uri": "https://localhost:8080/",
          "height": 316
        },
        "id": "USR1hFdBvjuI",
        "outputId": "7f8b44bd-a82a-401b-ae8b-1e3d8a64437c"
      },
      "source": [
        "result = subprocess.run([\"host\",'8.8.8.8'], capture_output = True)\r\n",
        "print(result.returncode)\r\n",
        "print(result.stdout)"
      ],
      "execution_count": null,
      "outputs": [
        {
          "output_type": "error",
          "ename": "TypeError",
          "evalue": "ignored",
          "traceback": [
            "\u001b[0;31m---------------------------------------------------------------------------\u001b[0m",
            "\u001b[0;31mTypeError\u001b[0m                                 Traceback (most recent call last)",
            "\u001b[0;32m<ipython-input-25-9bd278552de2>\u001b[0m in \u001b[0;36m<module>\u001b[0;34m()\u001b[0m\n\u001b[0;32m----> 1\u001b[0;31m \u001b[0mresult\u001b[0m \u001b[0;34m=\u001b[0m \u001b[0msubprocess\u001b[0m\u001b[0;34m.\u001b[0m\u001b[0mrun\u001b[0m\u001b[0;34m(\u001b[0m\u001b[0;34m[\u001b[0m\u001b[0;34m\"host\"\u001b[0m\u001b[0;34m,\u001b[0m\u001b[0;34m'8.8.8.8'\u001b[0m\u001b[0;34m]\u001b[0m\u001b[0;34m,\u001b[0m \u001b[0mcapture_output\u001b[0m \u001b[0;34m=\u001b[0m \u001b[0;32mTrue\u001b[0m\u001b[0;34m)\u001b[0m\u001b[0;34m\u001b[0m\u001b[0;34m\u001b[0m\u001b[0m\n\u001b[0m\u001b[1;32m      2\u001b[0m \u001b[0mprint\u001b[0m\u001b[0;34m(\u001b[0m\u001b[0mresult\u001b[0m\u001b[0;34m.\u001b[0m\u001b[0mreturncode\u001b[0m\u001b[0;34m)\u001b[0m\u001b[0;34m\u001b[0m\u001b[0;34m\u001b[0m\u001b[0m\n\u001b[1;32m      3\u001b[0m \u001b[0mprint\u001b[0m\u001b[0;34m(\u001b[0m\u001b[0mresult\u001b[0m\u001b[0;34m.\u001b[0m\u001b[0mstdout\u001b[0m\u001b[0;34m)\u001b[0m\u001b[0;34m\u001b[0m\u001b[0;34m\u001b[0m\u001b[0m\n",
            "\u001b[0;32m/usr/lib/python3.6/subprocess.py\u001b[0m in \u001b[0;36mrun\u001b[0;34m(input, timeout, check, *popenargs, **kwargs)\u001b[0m\n\u001b[1;32m    421\u001b[0m         \u001b[0mkwargs\u001b[0m\u001b[0;34m[\u001b[0m\u001b[0;34m'stdin'\u001b[0m\u001b[0;34m]\u001b[0m \u001b[0;34m=\u001b[0m \u001b[0mPIPE\u001b[0m\u001b[0;34m\u001b[0m\u001b[0;34m\u001b[0m\u001b[0m\n\u001b[1;32m    422\u001b[0m \u001b[0;34m\u001b[0m\u001b[0m\n\u001b[0;32m--> 423\u001b[0;31m     \u001b[0;32mwith\u001b[0m \u001b[0mPopen\u001b[0m\u001b[0;34m(\u001b[0m\u001b[0;34m*\u001b[0m\u001b[0mpopenargs\u001b[0m\u001b[0;34m,\u001b[0m \u001b[0;34m**\u001b[0m\u001b[0mkwargs\u001b[0m\u001b[0;34m)\u001b[0m \u001b[0;32mas\u001b[0m \u001b[0mprocess\u001b[0m\u001b[0;34m:\u001b[0m\u001b[0;34m\u001b[0m\u001b[0;34m\u001b[0m\u001b[0m\n\u001b[0m\u001b[1;32m    424\u001b[0m         \u001b[0;32mtry\u001b[0m\u001b[0;34m:\u001b[0m\u001b[0;34m\u001b[0m\u001b[0;34m\u001b[0m\u001b[0m\n\u001b[1;32m    425\u001b[0m             \u001b[0mstdout\u001b[0m\u001b[0;34m,\u001b[0m \u001b[0mstderr\u001b[0m \u001b[0;34m=\u001b[0m \u001b[0mprocess\u001b[0m\u001b[0;34m.\u001b[0m\u001b[0mcommunicate\u001b[0m\u001b[0;34m(\u001b[0m\u001b[0minput\u001b[0m\u001b[0;34m,\u001b[0m \u001b[0mtimeout\u001b[0m\u001b[0;34m=\u001b[0m\u001b[0mtimeout\u001b[0m\u001b[0;34m)\u001b[0m\u001b[0;34m\u001b[0m\u001b[0;34m\u001b[0m\u001b[0m\n",
            "\u001b[0;31mTypeError\u001b[0m: __init__() got an unexpected keyword argument 'capture_output'"
          ]
        }
      ]
    },
    {
      "cell_type": "markdown",
      "metadata": {
        "id": "6aJbvphZ8ysp"
      },
      "source": [
        "Example 1"
      ]
    },
    {
      "cell_type": "code",
      "metadata": {
        "id": "08-fcAESzvt9"
      },
      "source": [
        "import re\r\n",
        "def show_time_of_pid(line):\r\n",
        "  pattern = r'^(\\w+ [0-9] [0-9]+:[0-9]+:[0-9]+) [\\w\\.]+ [\\w=]+\\[([0-9]+)\\]'\r\n",
        "  result = re.search(pattern, line)\r\n",
        "  return result\r\n",
        "\r\n",
        "print(show_time_of_pid(\"Jul 6 14:01:23 computer.name CRON[29440]: USER (good_user)\")) # Jul 6 14:01:23 pid:29440\r\n",
        "\r\n",
        "print(show_time_of_pid(\"Jul 6 14:02:08 computer.name jam_tag=psim[29187]: (UUID:006)\")) # Jul 6 14:02:08 pid:29187\r\n",
        "\r\n",
        "print(show_time_of_pid(\"Jul 6 14:02:09 computer.name jam_tag=psim[29187]: (UUID:007)\")) # Jul 6 14:02:09 pid:29187\r\n",
        "\r\n",
        "print(show_time_of_pid(\"Jul 6 14:03:01 computer.name CRON[29440]: USER (naughty_user)\")) # Jul 6 14:03:01 pid:29440\r\n",
        "\r\n",
        "print(show_time_of_pid(\"Jul 6 14:03:40 computer.name cacheclient[29807]: start syncing from \\\"0xDEADBEEF\\\"\")) # Jul 6 14:03:40 pid:29807\r\n",
        "\r\n",
        "print(show_time_of_pid(\"Jul 6 14:04:01 computer.name CRON[29440]: USER (naughty_user)\")) # Jul 6 14:04:01 pid:29440\r\n",
        "\r\n",
        "print(show_time_of_pid(\"Jul 6 14:05:01 computer.name CRON[29440]: USER (naughty_user)\")) # Jul 6 14:05:01 pid:29440"
      ],
      "execution_count": null,
      "outputs": []
    },
    {
      "cell_type": "markdown",
      "metadata": {
        "id": "ICLEEIMW80il"
      },
      "source": [
        "Example2"
      ]
    },
    {
      "cell_type": "code",
      "metadata": {
        "id": "oRlq5E3c81-0"
      },
      "source": [
        "import sys\r\n",
        "import re\r\n",
        "logfile = sys.argv[1]\r\n",
        "with open(logfile) as f:\r\n",
        "  for line in f:\r\n",
        "    if \"CRON\" not in line:\r\n",
        "      continue\r\n",
        "    pattern = r\"USER \\((\\w+)\\)$\"\r\n",
        "    result = re.search(pattern, line)\r\n",
        "    return result[1]"
      ],
      "execution_count": null,
      "outputs": []
    },
    {
      "cell_type": "code",
      "metadata": {
        "id": "coz86Otj-F-C"
      },
      "source": [
        "import re\r\n",
        "   def show_time_of_pid(line):\r\n",
        "        pattern = r'^(\\w+ [0-9] [0-9]+:[0-9]+:[0-9]+) [\\w\\.]+ [\\w=]+\\[([0-9]+)\\]'\r\n",
        "        result = re.search(pattern, line)\r\n",
        "        return \"{} pid:{} \".format(result[1], result[2])\r\n",
        "\r\n",
        "  print(show_time_of_pid(\"Jul 6 14:01:23 computer.name CRON[29440]: USER (good_user)\")) # Jul 6 14:01:23 pid:29440\r\n",
        "\r\n",
        "  print(show_time_of_pid(\"Jul 6 14:02:08 computer.name jam_tag=psim[29187]: (UUID:006)\")) # Jul 6 14:02:08 pid:29187\r\n",
        "\r\n",
        "  print(show_time_of_pid(\"Jul 6 14:02:09 computer.name jam_tag=psim[29187]: (UUID:007)\")) # Jul 6 14:02:09 pid:29187\r\n",
        "\r\n",
        "  print(show_time_of_pid(\"Jul 6 14:03:01 computer.name CRON[29440]: USER (naughty_user)\")) # Jul 6 14:03:01 pid:29440\r\n",
        "\r\n",
        "  print(show_time_of_pid(\"Jul 6 14:03:40 computer.name cacheclient[29807]: start syncing from \\\"0xDEADBEEF\\\"\")) # Jul 6 14:03:40 pid:29807\r\n",
        "\r\n",
        "  print(show_time_of_pid(\"Jul 6 14:04:01 computer.name CRON[29440]: USER (naughty_user)\")) # Jul 6 14:04:01 pid:29440\r\n",
        "\r\n",
        "  print(show_time_of_pid(\"Jul 6 14:05:01 computer.name CRON[29440]: USER (naughty_user)\")) # Jul 6 14:05:01 pid:29440"
      ],
      "execution_count": null,
      "outputs": []
    },
    {
      "cell_type": "code",
      "metadata": {
        "id": "Gq7C0b97-JwG"
      },
      "source": [
        "import re\r\n",
        "\r\n",
        "def show_time_of_pid(line):\r\n",
        "  pattern=r\"^(?P<date_time>(?:Jan|Feb|Mar|Apr|May|Jun|Jul|Aug|Sep|Oct|Nov|Dec)\\s+\\d{,2}\\s+\\d{2}:\\d{2}:\\d{2}).*\\[(?P<pid>\\d+)\\]\"\r\n",
        "  re_result = re.search(pattern, line)\r\n",
        "\r\n",
        "  result = f\"{re_result.group('date_time')} pid:{re_result.group('pid')}\"\r\n",
        "\r\n",
        "  return result\r\n",
        "\r\n",
        "print(show_time_of_pid(\"Jul 6 14:01:23 computer.name CRON[29440]: USER (good_user)\"))"
      ],
      "execution_count": null,
      "outputs": []
    },
    {
      "cell_type": "code",
      "metadata": {
        "id": "qCiDdRq2-NUu"
      },
      "source": [
        "import re\r\n",
        "    def show_time_of_pid(line):\r\n",
        "        pattern = r\"(^\\w* .\\d*.\\d*:\\d*:\\d+)(.*)\\[(\\d+)\\]\"\r\n",
        "        result = re.search(pattern, line)\r\n",
        "        return \"{} pid:{}\".format(result.group(1), result.group(3))\r\n",
        "\r\n",
        "    print(show_time_of_pid(\"Jul 6 14:01:23 computer.name CRON[29440]: USER (good_user)\")"
      ],
      "execution_count": null,
      "outputs": []
    },
    {
      "cell_type": "code",
      "metadata": {
        "id": "wvCqQk89-QQO"
      },
      "source": [
        "import re\r\n",
        "def show_time_of_pid(line):\r\n",
        "  pattern = r\"(\\w+ \\d+ \\d+:\\d+:\\d+)+.*?\\[(\\d+)\\]\"\r\n",
        "  result = re.findall(pattern, line)\r\n",
        "  return \"{} pid:{}\".format(result[0][0], result[0][1])"
      ],
      "execution_count": null,
      "outputs": []
    },
    {
      "cell_type": "markdown",
      "metadata": {
        "id": "ubfzBVcg_Uwl"
      },
      "source": [
        "Counting number of names or anythingin log files t process"
      ]
    },
    {
      "cell_type": "code",
      "metadata": {
        "colab": {
          "base_uri": "https://localhost:8080/"
        },
        "id": "4ME5C7AX_4e6",
        "outputId": "2417ec71-3c07-4c0e-b1f6-fd9741a5ca98"
      },
      "source": [
        "username = {}\r\n",
        "name = \"good_user\"\r\n",
        "username[name] = username.get(name, 0) + 1\r\n",
        "print(username)\r\n",
        "username[name] = username.get(name, 0) + 1 # name is key and 0 is default value inc ase value is not in dictionary\r\n",
        "print(username)"
      ],
      "execution_count": null,
      "outputs": [
        {
          "output_type": "stream",
          "text": [
            "{'good_user': 1}\n",
            "{'good_user': 2}\n"
          ],
          "name": "stdout"
        }
      ]
    },
    {
      "cell_type": "markdown",
      "metadata": {
        "id": "u4PQp4vBBnkz"
      },
      "source": [
        "Improvisation i code\r\n",
        "\r\n",
        "logfile can be log generated data\r\n"
      ]
    },
    {
      "cell_type": "code",
      "metadata": {
        "id": "u8jcyiWw_5AV"
      },
      "source": [
        "import sys\r\n",
        "import re\r\n",
        "logfile = sys.argv[1] # we can pass one arguement while running the program\r\n",
        "usernames = {}\r\n",
        "with open(logfile) as f:\r\n",
        "  for line in f:\r\n",
        "    if \"CRON\" not in line:\r\n",
        "      continue\r\n",
        "    pattern = r\"USER \\((\\w+)\\)$\"\r\n",
        "    result = re.search(pattern, line)\r\n",
        "    if result is None:\r\n",
        "      continue\r\n",
        "    name = result[1]\r\n",
        "    usernames[name] = usernames.get(name, 0) + 1\r\n",
        "print(username)"
      ],
      "execution_count": null,
      "outputs": []
    },
    {
      "cell_type": "markdown",
      "metadata": {
        "id": "5zhYNZxXHmA3"
      },
      "source": [
        "Final Lab\r\n"
      ]
    },
    {
      "cell_type": "markdown",
      "metadata": {
        "id": "Ls7qsqMvH64t"
      },
      "source": [
        "In the /data directory, there's a file named fishy.log, which contains the system log. Log entries are written in this format:\r\n",
        "\r\n",
        "Month Day hour:minute:second mycomputername \"process_name\"[\"random 5 digit number\"] \"ERROR/INFO/WARN\" \"Error description\"\r\n",
        "\r\n",
        "For every process, the runtime log that's generated contains a timestamp and appropriate message alongside. You can view all logs using the command below:"
      ]
    },
    {
      "cell_type": "markdown",
      "metadata": {
        "id": "CgDb83MXICcx"
      },
      "source": [
        "Find an error\r\n",
        "In this lab, we'll search for the CRON error that failed to start. To do this, we'll use a python script to search log files for a particular type of ERROR log. In this case, we'll search for a CRON error within the fishy.log file that failed to start by narrowing our search to \"CRON ERROR Failed to start\".\r\n",
        "\r\n",
        "To get started, let's create a python script named find_error.py within scripts directory using nano editor."
      ]
    },
    {
      "cell_type": "code",
      "metadata": {
        "id": "u2pgjI_1IFLM"
      },
      "source": [
        "cd ~/scripts\r\n",
        "nano find_error.py\r\n",
        "#!/usr/bin/env python3\r\n",
        "import sys\r\n",
        "import os\r\n",
        "import re"
      ],
      "execution_count": null,
      "outputs": []
    },
    {
      "cell_type": "markdown",
      "metadata": {
        "id": "3xsxPStFINRg"
      },
      "source": [
        "The sys module provides information about the Python interpreter's constants, functions, and methods. The os module provides a portable way of using operating system dependent functionality with Python.\r\n",
        "\r\n",
        "Regular Expression (RegEx) is a sequence of characters that defines a search pattern. We can use regular expressions using re module.\r\n",
        "\r\n",
        "Now, write a function error_search that takes log_file as a parameter and returns returned_errors. Define the error_search function and pass the log file to it as a parameter."
      ]
    },
    {
      "cell_type": "code",
      "metadata": {
        "id": "1to94BnXIPjc"
      },
      "source": [
        "def error_search(log_file):"
      ],
      "execution_count": null,
      "outputs": []
    },
    {
      "cell_type": "markdown",
      "metadata": {
        "id": "k20gkpaPISxp"
      },
      "source": [
        "To allow us to search all log files for any type of logs, we'll be making our script consistent and dynamic.\r\n",
        "\r\n",
        "Define an input function to receive the type of ERROR that the end-user would like to search and assign to a variable named error.\r\n",
        "\r\n",
        "The input() function takes the input from the user and then evaluates the expression. This means Python automatically identifies whether the user entered a string, a number, or a list. If the input provided isn't correct then Python will raise either a syntax error or exception. The program flow will stop until the user has given an input.\r\n",
        "\r\n",
        "Later in the script, we'll iterate over this user input and the log file to produce results. Following the input function, now initialize the list returned_errors. This will enlist all the ERROR logs as specified by the end-user through the input function."
      ]
    },
    {
      "cell_type": "code",
      "metadata": {
        "id": "neZHq8MxIV8u"
      },
      "source": [
        "  error = input(\"What is the error? \")\r\n",
        "  returned_errors = []"
      ],
      "execution_count": null,
      "outputs": []
    },
    {
      "cell_type": "markdown",
      "metadata": {
        "id": "AYKCfsfiIYQE"
      },
      "source": [
        "Use the Python file's handling methods to open the log file in reading mode and use 'UTF-8' encoding."
      ]
    },
    {
      "cell_type": "code",
      "metadata": {
        "id": "oeKdSQfYIaIK"
      },
      "source": [
        "  with open(log_file, mode='r',encoding='UTF-8') as file:"
      ],
      "execution_count": null,
      "outputs": []
    },
    {
      "cell_type": "markdown",
      "metadata": {
        "id": "wwdKH4PaIg46"
      },
      "source": [
        "We'll now read each log separately from the fishy.log file using the readlines() method. As mentioned earlier, we'll iterate over user input to get the desired search results. For this, we'll create a list to store all the patterns (user input) that will be searched. This list is named error_patterns and, initially it has a pattern \"error\" to filter out all the ERROR logs only. You can change this to view other types of logs such as INFO and WARN. You can also empty initialize the list to fetch all types of logs, irrespective of their type.\r\n",
        "\r\n",
        "We'll add the whole user input to this list error_patterns."
      ]
    },
    {
      "cell_type": "code",
      "metadata": {
        "id": "wUnS0JocIj2L"
      },
      "source": [
        "    for log in  file.readlines():\r\n",
        "      error_patterns = [\"error\"]\r\n",
        "      for i in range(len(error.split(' '))):\r\n",
        "        error_patterns.append(r\"{}\".format(error.split(' ')[i].lower()))"
      ],
      "execution_count": null,
      "outputs": []
    },
    {
      "cell_type": "markdown",
      "metadata": {
        "id": "VeoASKj0Iod-"
      },
      "source": [
        "Now, let's use the search() method (present in re module) to check whether the file fishy.log has the user defined pattern and, if it is available, append them to the list returned_errors."
      ]
    },
    {
      "cell_type": "code",
      "metadata": {
        "id": "NyIyy9bMIqpS"
      },
      "source": [
        "      if all(re.search(error_pattern, log.lower()) for error_pattern in error_patterns):\r\n",
        "        returned_errors.append(log)"
      ],
      "execution_count": null,
      "outputs": []
    },
    {
      "cell_type": "markdown",
      "metadata": {
        "id": "C0PGZXykItcM"
      },
      "source": [
        "Next, close the file fishy.log and return the results stored in the list returned_errors."
      ]
    },
    {
      "cell_type": "code",
      "metadata": {
        "id": "z6VQtWKCIv6C"
      },
      "source": [
        "    file.close()\r\n",
        "  return returned_errors"
      ],
      "execution_count": null,
      "outputs": []
    },
    {
      "cell_type": "markdown",
      "metadata": {
        "id": "Yh5pTpc2Iydr"
      },
      "source": [
        "Great job! You've successfully defined a function to store all the logs defined as a CRON error that fails to start. In the next section, we'll generate a new file consisting of the logs based on your search within /data directory."
      ]
    },
    {
      "cell_type": "markdown",
      "metadata": {
        "id": "-0xXpHWdI4VD"
      },
      "source": [
        "Create an output file\r\n",
        "Let's define another function file_output that takes returned_errors, returned by a previous function, as a formal parameter."
      ]
    },
    {
      "cell_type": "code",
      "metadata": {
        "id": "th4rxReBI0AX"
      },
      "source": [
        "def file_output(returned_errors):"
      ],
      "execution_count": null,
      "outputs": []
    },
    {
      "cell_type": "markdown",
      "metadata": {
        "id": "nNJayhZeI8JL"
      },
      "source": [
        "Using Python file handling methods, write returned_errors into the errors_found.log file by opening the file in writing mode. For defining the output file, we'll use the method os.path.expanduser ('~'), which returns the home directory of your system instance. Then, we'll concatenate this path (to the home directory) to the file errors_found.log in /data directory."
      ]
    },
    {
      "cell_type": "code",
      "metadata": {
        "id": "dpMhEW9oI_Qa"
      },
      "source": [
        "  with open(os.path.expanduser('~') + '/data/errors_found.log', 'w') as file:"
      ],
      "execution_count": null,
      "outputs": []
    },
    {
      "cell_type": "markdown",
      "metadata": {
        "id": "r1tF0bLOJB79"
      },
      "source": [
        "Next, write all the logs to the output file by iterating over returned_errors."
      ]
    },
    {
      "cell_type": "code",
      "metadata": {
        "id": "pFHSpzzvJCzz"
      },
      "source": [
        "    for error in returned_errors:\r\n",
        "      file.write(error)\r\n",
        "    file.close()"
      ],
      "execution_count": null,
      "outputs": []
    },
    {
      "cell_type": "markdown",
      "metadata": {
        "id": "uBJxpLHtJMtd"
      },
      "source": [
        "Function call\r\n",
        "Now, let's call the functions and run the script.\r\n",
        "\r\n",
        "Define the main function and call both functions that we defined in the earlier sections.\r\n",
        "\r\n",
        "The variable log_file takes in the path to the log file passed as a parameter. In our case, the file is fishy.log. Call the first function i.e., error_search() and pass the variable log_file to the function. This function will search and return a list of errors that would be stored in the variable returned_errors. Call the second function file_output and pass the variable returned_errors as a parameter.\r\n",
        "\r\n",
        "sys.exit(0) is used to exit from Python, the optional argument passed can be an integer giving the exit status (defaulting to zero), or another type of object. If it is an integer, zero is considered \"successful termination\" and any nonzero value is considered an \"abnormal termination\" by shells."
      ]
    },
    {
      "cell_type": "markdown",
      "metadata": {
        "id": "dX8tojRdJSiP"
      },
      "source": [
        "The complete file find_error.py should now look like this:"
      ]
    },
    {
      "cell_type": "code",
      "metadata": {
        "id": "40BufRjeJPQM"
      },
      "source": [
        "if __name__ == \"__main__\":\r\n",
        "  log_file = sys.argv[1]\r\n",
        "  returned_errors = error_search(log_file)\r\n",
        "  file_output(returned_errors)\r\n",
        "  sys.exit(0)"
      ],
      "execution_count": null,
      "outputs": []
    },
    {
      "cell_type": "markdown",
      "metadata": {
        "id": "59rTB9GAInRT"
      },
      "source": [
        ""
      ]
    },
    {
      "cell_type": "code",
      "metadata": {
        "id": "PjxQ3C_1HpYX"
      },
      "source": [
        "#!/usr/bin/env python3\r\n",
        "import sys\r\n",
        "import os\r\n",
        "import re\r\n",
        "\r\n",
        "\r\n",
        "def error_search(log_file):\r\n",
        "  error = input(\"What is the error? \")\r\n",
        "  returned_errors = []\r\n",
        "  with open(log_file, mode='r',encoding='UTF-8') as file:\r\n",
        "    for log in  file.readlines():\r\n",
        "      error_patterns = [\"error\"]\r\n",
        "      for i in range(len(error.split(' '))):\r\n",
        "        error_patterns.append(r\"{}\".format(error.split(' ')[i].lower()))\r\n",
        "      if all(re.search(error_pattern, log.lower()) for error_pattern in error_patterns):\r\n",
        "        returned_errors.append(log)\r\n",
        "    file.close()\r\n",
        "  return returned_errors\r\n",
        "\r\n",
        "  \r\n",
        "def file_output(returned_errors):\r\n",
        "  with open(os.path.expanduser('~') + '/data/errors_found.log', 'w') as file:\r\n",
        "    for error in returned_errors:\r\n",
        "      file.write(error)\r\n",
        "    file.close()\r\n",
        "if __name__ == \"__main__\":\r\n",
        "  log_file = sys.argv[1]\r\n",
        "  returned_errors = error_search(log_file)\r\n",
        "  file_output(returned_errors)\r\n",
        "  sys.exit(0)"
      ],
      "execution_count": null,
      "outputs": []
    },
    {
      "cell_type": "code",
      "metadata": {
        "id": "TnmhLgwvHuPi"
      },
      "source": [
        "sudo chmod +x find_error.py"
      ],
      "execution_count": null,
      "outputs": []
    },
    {
      "cell_type": "code",
      "metadata": {
        "id": "enBQSJ54HwNk"
      },
      "source": [
        "./find_error.py ~/data/fishy.log"
      ],
      "execution_count": null,
      "outputs": []
    },
    {
      "cell_type": "code",
      "metadata": {
        "id": "yCSSFRYyHxz4"
      },
      "source": [
        "CRON ERROR Failed to start"
      ],
      "execution_count": null,
      "outputs": []
    },
    {
      "cell_type": "code",
      "metadata": {
        "id": "CibWN-35H0Us"
      },
      "source": [
        "cat ~/data/errors_found.log"
      ],
      "execution_count": null,
      "outputs": []
    },
    {
      "cell_type": "markdown",
      "metadata": {
        "id": "cPwCxHxSBs_-"
      },
      "source": [
        "Practice quiz\r\n"
      ]
    }
  ]
}