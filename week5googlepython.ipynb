{
  "nbformat": 4,
  "nbformat_minor": 0,
  "metadata": {
    "colab": {
      "name": "week5googlepython",
      "provenance": [],
      "collapsed_sections": [],
      "authorship_tag": "ABX9TyMu6LZK5nrUIUyWuQUL70QO",
      "include_colab_link": true
    },
    "kernelspec": {
      "display_name": "Python 3",
      "name": "python3"
    }
  },
  "cells": [
    {
      "cell_type": "markdown",
      "metadata": {
        "id": "view-in-github",
        "colab_type": "text"
      },
      "source": [
        "<a href=\"https://colab.research.google.com/github/nksharma063/it-cert-automation-practice/blob/master/week5googlepython.ipynb\" target=\"_parent\"><img src=\"https://colab.research.google.com/assets/colab-badge.svg\" alt=\"Open In Colab\"/></a>"
      ]
    },
    {
      "cell_type": "code",
      "metadata": {
        "colab": {
          "base_uri": "https://localhost:8080/",
          "height": 129
        },
        "id": "IeRpNGjoFDVU",
        "outputId": "67662df5-d82a-47de-a143-83ae42c67e80"
      },
      "source": [
        "`654`"
      ],
      "execution_count": null,
      "outputs": [
        {
          "output_type": "error",
          "ename": "SyntaxError",
          "evalue": "ignored",
          "traceback": [
            "\u001b[0;36m  File \u001b[0;32m\"<ipython-input-1-565acf9c176f>\"\u001b[0;36m, line \u001b[0;32m1\u001b[0m\n\u001b[0;31m    Classes and there Instances\u001b[0m\n\u001b[0m                              ^\u001b[0m\n\u001b[0;31mSyntaxError\u001b[0m\u001b[0;31m:\u001b[0m invalid syntax\n"
          ]
        }
      ]
    },
    {
      "cell_type": "markdown",
      "metadata": {
        "id": "oAtxgbnEFCCz"
      },
      "source": [
        "Classes and there Instances\r\n",
        "example 1"
      ]
    },
    {
      "cell_type": "code",
      "metadata": {
        "colab": {
          "base_uri": "https://localhost:8080/",
          "height": 231
        },
        "id": "ozDTJEcIE2YN",
        "outputId": "a036a787-3226-4e8c-f626-ffc268781b53"
      },
      "source": [
        "class Flower:\r\n",
        "  color = 'unknown'\r\n",
        "\r\n",
        "rose = Flower()\r\n",
        "rose.color = \"Red\"\r\n",
        "\r\n",
        "violet = Flower()\r\n",
        "violet.color = \"Blue\"\r\n",
        "\r\n",
        "this_pun_is_for_you = Flower()\r\n",
        "\r\n",
        "print(\"Roses are {},\".format(rose.color))\r\n",
        "print(\"violets are {},\".format(violet.color))\r\n",
        "print(this_pun_is_for_you) "
      ],
      "execution_count": null,
      "outputs": [
        {
          "output_type": "error",
          "ename": "TypeError",
          "evalue": "ignored",
          "traceback": [
            "\u001b[0;31m---------------------------------------------------------------------------\u001b[0m",
            "\u001b[0;31mTypeError\u001b[0m                                 Traceback (most recent call last)",
            "\u001b[0;32m<ipython-input-3-43119b611f03>\u001b[0m in \u001b[0;36m<module>\u001b[0;34m()\u001b[0m\n\u001b[1;32m      8\u001b[0m \u001b[0mviolet\u001b[0m\u001b[0;34m.\u001b[0m\u001b[0mcolor\u001b[0m \u001b[0;34m=\u001b[0m \u001b[0;34m\"Blue\"\u001b[0m\u001b[0;34m\u001b[0m\u001b[0;34m\u001b[0m\u001b[0m\n\u001b[1;32m      9\u001b[0m \u001b[0;34m\u001b[0m\u001b[0m\n\u001b[0;32m---> 10\u001b[0;31m \u001b[0mthis_pun_is_for_you\u001b[0m \u001b[0;34m=\u001b[0m \u001b[0mFlower\u001b[0m\u001b[0;34m(\u001b[0m\u001b[0mrose\u001b[0m\u001b[0;34m,\u001b[0m\u001b[0mviolet\u001b[0m\u001b[0;34m)\u001b[0m\u001b[0;34m\u001b[0m\u001b[0;34m\u001b[0m\u001b[0m\n\u001b[0m\u001b[1;32m     11\u001b[0m \u001b[0;34m\u001b[0m\u001b[0m\n\u001b[1;32m     12\u001b[0m \u001b[0mprint\u001b[0m\u001b[0;34m(\u001b[0m\u001b[0;34m\"Roses are {},\"\u001b[0m\u001b[0;34m.\u001b[0m\u001b[0mformat\u001b[0m\u001b[0;34m(\u001b[0m\u001b[0mrose\u001b[0m\u001b[0;34m.\u001b[0m\u001b[0mcolor\u001b[0m\u001b[0;34m)\u001b[0m\u001b[0;34m)\u001b[0m\u001b[0;34m\u001b[0m\u001b[0;34m\u001b[0m\u001b[0m\n",
            "\u001b[0;31mTypeError\u001b[0m: object() takes no parameters"
          ]
        }
      ]
    },
    {
      "cell_type": "code",
      "metadata": {
        "colab": {
          "base_uri": "https://localhost:8080/"
        },
        "id": "VT8cQAS-F6aE",
        "outputId": "e40db586-1cde-4036-b0c7-91d5e077c27f"
      },
      "source": [
        "class INDIA:\r\n",
        "  Education = ''\r\n",
        "  Gender = ''\r\n",
        "  State = ''\r\n",
        "  Religion = ''\r\n",
        "  def details(self):\r\n",
        "    return self.Education,self.Gender,self.State,self.Religion\r\n",
        "\r\n",
        "\r\n",
        "neeraj = INDIA()\r\n",
        "neeraj.Education = 'B.Tech'\r\n",
        "neeraj.Gender = 'Male'\r\n",
        "neeraj.State = 'Delhi'\r\n",
        "neeraj.Religion = 'Hindu'\r\n",
        "\r\n",
        "\r\n",
        "neha = INDIA()\r\n",
        "neha.Education = 'B.com'\r\n",
        "neha.Gender = 'Female'\r\n",
        "neha.State = 'Delhi'\r\n",
        "neha.Religion = 'Hindu'\r\n",
        "\r\n",
        "print(neeraj.details())\r\n",
        "\r\n",
        "#def person(a):\r\n",
        " # return a.Education ,a.State, a.Religion, a.Gender\r\n",
        "\r\n",
        "#print(person(neeraj))\r\n",
        "#print(neha.Education and neha.State)\r\n",
        "#print(neeraj.Education and neeraj.State)\r\n",
        "\r\n",
        "\r\n"
      ],
      "execution_count": null,
      "outputs": [
        {
          "output_type": "stream",
          "text": [
            "('B.Tech', 'Male', 'Delhi', 'Hindu')\n"
          ],
          "name": "stdout"
        }
      ]
    },
    {
      "cell_type": "code",
      "metadata": {
        "colab": {
          "base_uri": "https://localhost:8080/"
        },
        "id": "ZlmyA5b7HEMF",
        "outputId": "5141c18b-5840-4956-bfc7-a5e9fb06c455"
      },
      "source": [
        ""
      ],
      "execution_count": null,
      "outputs": [
        {
          "output_type": "stream",
          "text": [
            "No Python documentation found for 'INDIA'.\n",
            "Use help() to get the interactive help utility.\n",
            "Use help(str) for help on the str class.\n",
            "\n"
          ],
          "name": "stdout"
        }
      ]
    },
    {
      "cell_type": "code",
      "metadata": {
        "colab": {
          "base_uri": "https://localhost:8080/"
        },
        "id": "eoGA9YHJJ3JB",
        "outputId": "13625bd8-3337-4325-948b-255e2db41d09"
      },
      "source": [
        "class Person:\r\n",
        "    apples = 0\r\n",
        "    ideas = 0\r\n",
        "\r\n",
        "johanna = Person()\r\n",
        "johanna.apples = 1\r\n",
        "johanna.ideas = 1\r\n",
        "\r\n",
        "martin = Person()\r\n",
        "martin.apples = 2\r\n",
        "martin.ideas = 1\r\n",
        "\r\n",
        "def exchange_apples(a, b):\r\n",
        "  temp= a.apples\r\n",
        "  a.apples = b.apples\r\n",
        "  b.apples = temp\r\n",
        "  return a.apples,b.apples\r\n",
        "def exchange_ideas(a,b):\r\n",
        "  X = a.ideas + b.ideas\r\n",
        "  a.ideas = X\r\n",
        "  b.ideas = X\r\n",
        "  return a.ideas, b.ideas\r\n",
        "\r\n",
        "exchange_apples(johanna, martin)\r\n",
        "print(\"Johanna has {} apples and Martin has {} apples\".format(johanna.apples, martin.apples))\r\n",
        "exchange_ideas(johanna, martin)\r\n",
        "print(\"Johanna has {} ideas and Martin has {} ideas\".format(johanna.ideas, martin.ideas))\r\n",
        "\r\n",
        "  \r\n",
        "\r\n",
        "\r\n"
      ],
      "execution_count": null,
      "outputs": [
        {
          "output_type": "stream",
          "text": [
            "Johanna has 2 apples and Martin has 1 apples\n",
            "Johanna has 2 ideas and Martin has 2 ideas\n"
          ],
          "name": "stdout"
        }
      ]
    },
    {
      "cell_type": "code",
      "metadata": {
        "colab": {
          "base_uri": "https://localhost:8080/"
        },
        "id": "I4i0mBfH0p2D",
        "outputId": "e13fae95-04c0-4198-9d70-bad55e697fc9"
      },
      "source": [
        "class Furniture:\r\n",
        "\tcolor = \"\"\r\n",
        "\tmaterial = \"\"\r\n",
        "\r\n",
        "table = Furniture()\r\n",
        "table.color = \"brown\"\r\n",
        "table.material = \"wood\"\r\n",
        "\r\n",
        "couch = Furniture()\r\n",
        "couch.color = \"red\"\r\n",
        "couch.material = \"leather\"\r\n",
        "\r\n",
        "def describe_furniture(piece):\r\n",
        "\treturn (\"This piece of furniture is made of {} {}\".format(piece.color, piece.material))\r\n",
        "\r\n",
        "print(describe_furniture(table)) \r\n",
        "# Should be \"This piece of furniture is made of brown wood\"\r\n",
        "print(describe_furniture(couch)) \r\n",
        "# Should be \"This piece of furniture is made of red leather\""
      ],
      "execution_count": null,
      "outputs": [
        {
          "output_type": "stream",
          "text": [
            "This piece of furniture is made of brown wood\n",
            "This piece of furniture is made of red leather\n"
          ],
          "name": "stdout"
        }
      ]
    },
    {
      "cell_type": "code",
      "metadata": {
        "id": "McP0AU1T3EyZ"
      },
      "source": [
        "class Dog:\r\n",
        "  years = 0\r\n",
        "  def dog_years(a):\r\n",
        "   return a.years * 7\r\n",
        "    \r\n",
        "fido=Dog()\r\n",
        "fido.years=3\r\n",
        "print(fido.dog_years())"
      ],
      "execution_count": null,
      "outputs": []
    },
    {
      "cell_type": "code",
      "metadata": {
        "colab": {
          "base_uri": "https://localhost:8080/"
        },
        "id": "hxOBzH8jJHEm",
        "outputId": "b797979c-4d32-40ba-aebb-b2ceea3bef25"
      },
      "source": [
        "class Dog:\r\n",
        "  years = 0\r\n",
        "  name = \"\"\r\n",
        "  def dog_details(woof):\r\n",
        "    return   woof.years * 7,woof.name\r\n",
        "\r\n",
        "nikhil_dog = Dog()\r\n",
        "nikhil_dog.name = 'jerry'\r\n",
        "nikhil_dog.years = 1.2\r\n",
        "\r\n",
        "print(\"Nme of nikhil_dog And age are\",nikhil_dog.dog_details())\r\n"
      ],
      "execution_count": null,
      "outputs": [
        {
          "output_type": "stream",
          "text": [
            "Nme of nikhil_dog And age are (8.4, 'jerry')\n"
          ],
          "name": "stdout"
        }
      ]
    },
    {
      "cell_type": "code",
      "metadata": {
        "colab": {
          "background_save": true,
          "base_uri": "https://localhost:8080/"
        },
        "id": "w-GPU6XdLmN7",
        "outputId": "2da0396d-74b3-4dac-e410-35c53462d425"
      },
      "source": [
        "class Person:\r\n",
        "    def __init__(self, name,age,gender):\r\n",
        "        self.name = name\r\n",
        "        self.age = age\r\n",
        "        self.gender = gender\r\n",
        "    #def __str__(self):\r\n",
        "        # Should return \"hi, my name is \" followed by the name of the Person.\r\n",
        "        #return {\"hi, my name is {}\".format(self.name)}\r\n",
        "    def greeting(self):\r\n",
        "      return self.name,self.age,self.gender\r\n",
        "\r\n",
        "# Create a new instance with a name of your choice\r\n",
        "some_person = Person(\"neeraj\", 31, \"M\")\r\n",
        "# Call the greeting method\r\n",
        "print(some_person.greeting())\r\n"
      ],
      "execution_count": null,
      "outputs": [
        {
          "output_type": "stream",
          "text": [
            "hi, my name is neeraj\n"
          ],
          "name": "stdout"
        }
      ]
    },
    {
      "cell_type": "code",
      "metadata": {
        "colab": {
          "base_uri": "https://localhost:8080/",
          "height": 214
        },
        "id": "Xrb_6cuYWcVY",
        "outputId": "59a784fe-6781-465a-deb1-a1c3ad8ab068"
      },
      "source": [
        "class Clothing:\r\n",
        "  material = \"\"\r\n",
        "  def __init__(self, name):\r\n",
        "    self.name = name\r\n",
        "  \r\n",
        "class Shirt(Clothing):\r\n",
        "   material = \"Cotton\"\r\n",
        "\r\n",
        "US_POLO_M = Shirt(\"Polo\")\r\n",
        "\r\n",
        "print(\"the material and name of shirt are {} and {}\".format(self.name, self.material))\r\n",
        "\r\n"
      ],
      "execution_count": null,
      "outputs": [
        {
          "output_type": "error",
          "ename": "NameError",
          "evalue": "ignored",
          "traceback": [
            "\u001b[0;31m---------------------------------------------------------------------------\u001b[0m",
            "\u001b[0;31mNameError\u001b[0m                                 Traceback (most recent call last)",
            "\u001b[0;32m<ipython-input-2-87d68baf8c44>\u001b[0m in \u001b[0;36m<module>\u001b[0;34m()\u001b[0m\n\u001b[1;32m      9\u001b[0m \u001b[0mUS_POLO_M\u001b[0m \u001b[0;34m=\u001b[0m \u001b[0mShirt\u001b[0m\u001b[0;34m(\u001b[0m\u001b[0;34m\"Polo\"\u001b[0m\u001b[0;34m)\u001b[0m\u001b[0;34m\u001b[0m\u001b[0;34m\u001b[0m\u001b[0m\n\u001b[1;32m     10\u001b[0m \u001b[0;34m\u001b[0m\u001b[0m\n\u001b[0;32m---> 11\u001b[0;31m \u001b[0mprint\u001b[0m\u001b[0;34m(\u001b[0m\u001b[0;34m\"the material and name of shirt are {} and {}\"\u001b[0m\u001b[0;34m.\u001b[0m\u001b[0mformat\u001b[0m\u001b[0;34m(\u001b[0m\u001b[0mself\u001b[0m\u001b[0;34m.\u001b[0m\u001b[0mname\u001b[0m\u001b[0;34m,\u001b[0m \u001b[0mself\u001b[0m\u001b[0;34m.\u001b[0m\u001b[0mmaterial\u001b[0m\u001b[0;34m)\u001b[0m\u001b[0;34m)\u001b[0m\u001b[0;34m\u001b[0m\u001b[0;34m\u001b[0m\u001b[0m\n\u001b[0m\u001b[1;32m     12\u001b[0m \u001b[0;34m\u001b[0m\u001b[0m\n",
            "\u001b[0;31mNameError\u001b[0m: name 'self' is not defined"
          ]
        }
      ]
    },
    {
      "cell_type": "code",
      "metadata": {
        "id": "HRsIkQ1JcQXK"
      },
      "source": [
        ">>> class Animal:\r\n",
        "...     sound = \"\"\r\n",
        "...     def __init__(self, name):\r\n",
        "...         self.name = name\r\n",
        "...     def speak(self):\r\n",
        "...         print(\"{sound} I'm {name}! {sound}\".format(\r\n",
        "...             name=self.name, sound=self.sound))\r\n",
        "... \r\n",
        ">>> class Piglet(Animal):\r\n",
        "...     sound = \"Oink!\"\r\n",
        "... \r\n",
        ">>> class Cow(Animal):\r\n",
        "...     sound = \"Moooo\"\r\n",
        "..."
      ],
      "execution_count": null,
      "outputs": []
    },
    {
      "cell_type": "code",
      "metadata": {
        "colab": {
          "base_uri": "https://localhost:8080/"
        },
        "id": "mga_jfmtgAPO",
        "outputId": "3171435b-5477-4abf-d7f9-d73adfb7c38b"
      },
      "source": [
        "class Animal:\r\n",
        "  sound = \"\"\r\n",
        "  def __init__(self,name):\r\n",
        "    self.name = name\r\n",
        "  def speak(self):\r\n",
        "    return \"{sound} I am {name} and i sound like {sound}\".format(name=self.name,sound=self.sound)\r\n",
        "\r\n",
        "class Pig(Animal):\r\n",
        "  sound = \"Oink\"\r\n",
        "class Cow(Animal):\r\n",
        "  sound = \"Mooooo\"\r\n",
        "class Dog(Animal):\r\n",
        "  sound = \"woof\"\r\n",
        "class Cat(Animal):\r\n",
        "  sound = \"Meow\"\r\n",
        "class Sparrow(Animal):\r\n",
        "  sound = \"Humming\"\r\n",
        "\r\n",
        "Animal1 = Pig(\"piggy\")\r\n",
        "Animal2 = Cow(\"Cowwy\")\r\n",
        "Animal3 = Dog(\"Jerry\")\r\n",
        "Animal4 = Cat(\"Catty\")\r\n",
        "Animal5 = Sparrow(\"Birdyyy\")\r\n",
        "\r\n",
        "print(Animal1.speak())\r\n",
        "print(Animal2.speak())\r\n",
        "print(Animal3.speak())\r\n",
        "print(Animal4.speak())\r\n",
        "print(Animal5.speak())\r\n"
      ],
      "execution_count": null,
      "outputs": [
        {
          "output_type": "stream",
          "text": [
            "Oink I am piggy and i sound like Oink\n",
            "Mooooo I am Cowwy and i sound like Mooooo\n",
            "woof I am Jerry and i sound like woof\n",
            "Meow I am Catty and i sound like Meow\n",
            "Humming I am Birdyyy and i sound like Humming\n"
          ],
          "name": "stdout"
        }
      ]
    },
    {
      "cell_type": "code",
      "metadata": {
        "colab": {
          "base_uri": "https://localhost:8080/"
        },
        "id": "d-A1WaugkVYE",
        "outputId": "d87da019-4474-46c4-bb2c-f367a84138ba"
      },
      "source": [
        "class Sweets:\r\n",
        "  taste = \"\"\r\n",
        "  def __init__(self,name,ingr1,ingr2):\r\n",
        "    self.name = name\r\n",
        "    self.ingr1 = ingr1\r\n",
        "    self.ingr2 = ingr2\r\n",
        "\r\n",
        "  def __str__(self):\r\n",
        "    return self.name, self.ingr1, self.ingr2\r\n",
        "  def dish_details(self):\r\n",
        "    return \"{name} contains {ingr1} and {ingr2}\".format(name = self.name, ingr1 = self.ingr1, ingr2 = self.ingr2)\r\n",
        "class besanladoo(Sweets):\r\n",
        "  taste = \"Sweet\"\r\n",
        "class kajukatli(Sweets):\r\n",
        "  taste = \"Sweet\"\r\n",
        "\r\n",
        "besanladdoplain = besanladoo(\"besanladoo\",\"besan\",\"ghee\")\r\n",
        "besanladdokaju = besanladoo(\"kajuladoo\",\"kaju\",\"ghee\")\r\n",
        "kajukatli1 = kajukatli(\"kajukatli\",\"kaju\",\"mewa\")\r\n",
        "\r\n",
        "print(besanladdoplain.dish_details())\r\n",
        "print(besanladdokaju.dish_details())\r\n",
        "print(kajukatli1.dish_details)\r\n"
      ],
      "execution_count": null,
      "outputs": [
        {
          "output_type": "stream",
          "text": [
            "besanladoo contains besan and ghee\n",
            "kajuladoo contains kaju and ghee\n",
            "<bound method Sweets.dish_details of <__main__.kajukatli object at 0x7fa4b5f5b0f0>>\n"
          ],
          "name": "stdout"
        }
      ]
    },
    {
      "cell_type": "code",
      "metadata": {
        "colab": {
          "base_uri": "https://localhost:8080/",
          "height": 163
        },
        "id": "XpkTkPK2JPAR",
        "outputId": "1fd54800-6a3c-4172-fd28-36c5acd067d4"
      },
      "source": [
        "besanladdo is Sweets"
      ],
      "execution_count": null,
      "outputs": [
        {
          "output_type": "error",
          "ename": "NameError",
          "evalue": "ignored",
          "traceback": [
            "\u001b[0;31m---------------------------------------------------------------------------\u001b[0m",
            "\u001b[0;31mNameError\u001b[0m                                 Traceback (most recent call last)",
            "\u001b[0;32m<ipython-input-11-62f8f8cd47c5>\u001b[0m in \u001b[0;36m<module>\u001b[0;34m()\u001b[0m\n\u001b[0;32m----> 1\u001b[0;31m \u001b[0mbesanladdo\u001b[0m \u001b[0;32mis\u001b[0m \u001b[0mSweets\u001b[0m\u001b[0;34m\u001b[0m\u001b[0;34m\u001b[0m\u001b[0m\n\u001b[0m",
            "\u001b[0;31mNameError\u001b[0m: name 'besanladdo' is not defined"
          ]
        }
      ]
    },
    {
      "cell_type": "code",
      "metadata": {
        "colab": {
          "base_uri": "https://localhost:8080/"
        },
        "id": "kwfHMv7I4wTw",
        "outputId": "8d0d5228-4680-4293-aa8f-3e2d16883e4e"
      },
      "source": [
        "class Clothing:\r\n",
        "  stock={'name': [],'material' :[], 'number':[]}\r\n",
        "  def __init__(self,name):\r\n",
        "    self.name = name\r\n",
        "    material = \"\"\r\n",
        "  def add_item(self, name, material, amount):\r\n",
        "    Clothing.stock['name'].append(self.name)\r\n",
        "    Clothing.stock['material'].append(self.material)\r\n",
        "    Clothing.stock['number'].append(amount)\r\n",
        "  \r\n",
        "  def Stock_by_Material(self, material):\r\n",
        "    count=0\r\n",
        "    n=0\r\n",
        "    for item in Clothing.stock['material']:\r\n",
        "      if item == material:\r\n",
        "        count += Clothing.stock['number'][n]\r\n",
        "        n+=1\r\n",
        "    return count\r\n",
        "\r\n",
        "class shirt(Clothing):\r\n",
        "  material=\"Cotton\"\r\n",
        "class pants(Clothing):\r\n",
        "  material=\"Cotton\"\r\n",
        "  \r\n",
        "polo = shirt(\"Polo\")\r\n",
        "sweatpants = pants(\"Sweatpants\")\r\n",
        "polo.add_item(polo.name, polo.material, 4)\r\n",
        "sweatpants.add_item(sweatpants.name, sweatpants.material, 6)\r\n",
        "current_stock = polo.Stock_by_Material(\"Cotton\")\r\n",
        "print(current_stock)"
      ],
      "execution_count": null,
      "outputs": [
        {
          "output_type": "stream",
          "text": [
            "10\n"
          ],
          "name": "stdout"
        }
      ]
    },
    {
      "cell_type": "code",
      "metadata": {
        "id": "wju5vGRqJEg5"
      },
      "source": [
        "class Animal:\r\n",
        "    name = \"\"\r\n",
        "    category = \"\"\r\n",
        "    \r\n",
        "    def __init__(self, name):\r\n",
        "        self.name = name\r\n",
        "    \r\n",
        "    def set_category(self, category):\r\n",
        "        self.category = category\r\n",
        "class Turtle(Animal):\r\n",
        "    category = \"reptile\" \r\n",
        "print(Turtle.category)\r\n",
        "class Snake(Animal):\r\n",
        "    category = 'reptile'\r\n",
        "    name = 'conda'\r\n",
        "class Zoo:\r\n",
        "    current_animals = {'name':[],'category':[],'total':[]}\r\n",
        "    def __init__(self):\r\n",
        "        self.current_animals = {}\r\n",
        "    \r\n",
        "    def add_animal(self, animal):\r\n",
        "        self.current_animals[animal.name] = animal.category\r\n",
        "    \r\n",
        "    def total_of_category(self, category):\r\n",
        "        result = 0\r\n",
        "        for animal in self.current_animals.values():\r\n",
        "            if animal == category:\r\n",
        "                result += 1\r\n",
        "        return result\r\n",
        "\r\n",
        "zoo = Zoo()   \r\n",
        "\r\n",
        "turtle = Turtle(\"Turtle\") #create an instance of the Turtle class\r\n",
        "snake = Snake(\"Snake\") #create an instance of the Snake class\r\n",
        "\r\n",
        "zoo.add_animal(turtle)\r\n",
        "zoo.add_animal(snake)\r\n",
        "\r\n",
        "print(zoo.total_of_category(\"reptile\")) #how many zoo animal types in the reptile category"
      ],
      "execution_count": null,
      "outputs": []
    },
    {
      "cell_type": "markdown",
      "metadata": {
        "id": "UU0bbA4uJOsc"
      },
      "source": [
        ""
      ]
    }
  ]
}