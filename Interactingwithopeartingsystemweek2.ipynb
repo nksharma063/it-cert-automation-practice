{
  "nbformat": 4,
  "nbformat_minor": 0,
  "metadata": {
    "colab": {
      "name": "Interactingwithopeartingsystemweek2.ipynb",
      "provenance": [],
      "collapsed_sections": [],
      "authorship_tag": "ABX9TyOeDYsdx/EAK1D2VDeR8Alr",
      "include_colab_link": true
    },
    "kernelspec": {
      "name": "python3",
      "display_name": "Python 3"
    }
  },
  "cells": [
    {
      "cell_type": "markdown",
      "metadata": {
        "id": "view-in-github",
        "colab_type": "text"
      },
      "source": [
        "<a href=\"https://colab.research.google.com/github/nksharma063/it-cert-automation-practice/blob/master/Interactingwithopeartingsystemweek2.ipynb\" target=\"_parent\"><img src=\"https://colab.research.google.com/assets/colab-badge.svg\" alt=\"Open In Colab\"/></a>"
      ]
    },
    {
      "cell_type": "code",
      "metadata": {
        "id": "sKXTBMXcdD-K"
      },
      "source": [
        "file = open(abc.txt) # file is in the same directory in which we have scripting file.\r\n",
        "\r\n",
        "file.readline() # will read first line and then second line and the further from current posistion of cursor.\r\n",
        "file.read() # will read complete file from the current position of the cursor.\r\n",
        "\r\n",
        "file.close() # we need to cose the file so other people can user that same file \r\n",
        "\r\n"
      ],
      "execution_count": null,
      "outputs": []
    },
    {
      "cell_type": "markdown",
      "metadata": {
        "id": "4_GqwaMhmKKP"
      },
      "source": [
        "Another method to open and close file"
      ]
    },
    {
      "cell_type": "code",
      "metadata": {
        "id": "4z8r_uWVmOT4"
      },
      "source": [
        "with open(abc.txt) as file:\r\n",
        "  for line in file:\r\n",
        "    print(line)"
      ],
      "execution_count": null,
      "outputs": []
    },
    {
      "cell_type": "markdown",
      "metadata": {
        "id": "S3bJ2bShoDei"
      },
      "source": [
        "print line and remove the next line charcter \r\n"
      ]
    },
    {
      "cell_type": "code",
      "metadata": {
        "id": "-oOeagZwoRot"
      },
      "source": [
        "with open(abc.txt) as file:\r\n",
        "  for line in file:\r\n",
        "    print(line.strip().upper()) # ant fuction can use\r\n",
        "\r\n",
        "# this particular method can be used eith soem script but when closed we cant acces the file for surther purpose.\r\n"
      ],
      "execution_count": null,
      "outputs": []
    },
    {
      "cell_type": "markdown",
      "metadata": {
        "id": "h0Eq13tNpvp-"
      },
      "source": [
        "now the other file method"
      ]
    },
    {
      "cell_type": "code",
      "metadata": {
        "id": "nsJMshwrpxyJ"
      },
      "source": [
        "file = open('abc.txt')\r\n",
        "files = file.readlines()\r\n",
        "file.close()\r\n",
        "\r\n",
        "#even after closing the file we can have variable and there data but heavy files cna take lot of memory"
      ],
      "execution_count": null,
      "outputs": []
    },
    {
      "cell_type": "markdown",
      "metadata": {
        "id": "am4q2m7VvxbQ"
      },
      "source": [
        "opening a file with different modes\r\n",
        "'w' write mode : to write something on new files which we want to create, if we will use write mode on existing file the all contents will be deleted\r\n",
        "'r' read mode : to read something from the file\r\n",
        "'a' append mode : to write something on existibg file\r\n",
        "'r+' read write mdoe : to read content from file and write content to file. "
      ]
    },
    {
      "cell_type": "code",
      "metadata": {
        "id": "EZs1M7UGvtVM"
      },
      "source": [
        "with open('abc.txt', 'w') as file:\r\n",
        "  file.write('abcdefgh')"
      ],
      "execution_count": null,
      "outputs": []
    },
    {
      "cell_type": "markdown",
      "metadata": {
        "id": "UIs3j_7hyawr"
      },
      "source": [
        "Lab1"
      ]
    },
    {
      "cell_type": "code",
      "metadata": {
        "id": "uqBhlBJ1yWjL"
      },
      "source": [
        "guests = open(\"guests.txt\", \"w\")\r\n",
        "initial_guests = [\"Bob\", \"Andrea\", \"Manuel\", \"Polly\", \"Khalid\"]\r\n",
        "\r\n",
        "for guest in initial_guests:\r\n",
        "    guests.write(guest + \"\\n\")\r\n",
        "    \r\n",
        "guests.close()"
      ],
      "execution_count": null,
      "outputs": []
    },
    {
      "cell_type": "code",
      "metadata": {
        "id": "cv0HLrbZyaFf"
      },
      "source": [
        "with open(\"guests.txt\") as guests:\r\n",
        "    for guest in guests:\r\n",
        "        print(guest)"
      ],
      "execution_count": null,
      "outputs": []
    },
    {
      "cell_type": "code",
      "metadata": {
        "id": "j8dx0Epvyq4q"
      },
      "source": [
        "new_guests = [\"Sam\", \"Danielle\", \"Jacob\"]\r\n",
        "\r\n",
        "\r\n",
        "with open(\"guests.txt\", \"a\") as guests:\r\n",
        "    for i in new_guests:\r\n",
        "        guests.write(i + \"\\n\")\r\n",
        "\r\n"
      ],
      "execution_count": null,
      "outputs": []
    },
    {
      "cell_type": "code",
      "metadata": {
        "id": "jvjM-X7FyzLa"
      },
      "source": [
        "with open(\"guests.txt\") as guests:\r\n",
        "    for guest in guests:\r\n",
        "        print(guest)"
      ],
      "execution_count": null,
      "outputs": []
    },
    {
      "cell_type": "markdown",
      "metadata": {
        "id": "elW3oOK8zwJj"
      },
      "source": [
        "filtering checkout guest from list"
      ]
    },
    {
      "cell_type": "code",
      "metadata": {
        "id": "gIbhYSRkzvD2"
      },
      "source": [
        "checked_out=[\"Andrea\", \"Manuel\", \"Khalid\"]\r\n",
        "temp_list=[]\r\n",
        "\r\n",
        "with open(\"guests.txt\", \"r\") as guests:\r\n",
        "    for guest in guests:\r\n",
        "        temp_list.append(guest.strip())\r\n",
        "print(temp_list)        \r\n",
        "\r\n",
        "with open(\"guests.txt\", \"w\") as guests:\r\n",
        "    for guest in temp_list:\r\n",
        "        if guest not in checked_out:\r\n",
        "            guests.write(guest + \"\\n\")\r\n"
      ],
      "execution_count": null,
      "outputs": []
    },
    {
      "cell_type": "code",
      "metadata": {
        "id": "3q5XthHQ0-BP"
      },
      "source": [
        "\"\"\"checked_out=[\"Andrea\", \"Manuel\", \"Khalid\"]\r\n",
        "temp_guest_list = []\r\n",
        "with open('guests.txt','r') as guests:\r\n",
        "  for guest in guests:\r\n",
        "    temp_guest_list.append(guest.strip())\r\n",
        "with open(\"guests.txt\", 'w') as guests:\r\n",
        "  for guest in temp_guest_list:\r\n",
        "    if guest not in checked_out:\r\n",
        "      guest.write(guest + \"\\n\") \"\"\""
      ],
      "execution_count": null,
      "outputs": []
    },
    {
      "cell_type": "code",
      "metadata": {
        "id": "hdfJSekjz5T0"
      },
      "source": [
        "with open(\"guests.txt\") as guests:\r\n",
        "    for line in guests:\r\n",
        "        print(line)\r\n",
        "\r\n"
      ],
      "execution_count": null,
      "outputs": []
    },
    {
      "cell_type": "markdown",
      "metadata": {
        "id": "03_Za_K_0dtG"
      },
      "source": [
        "check who is checked in and who is not"
      ]
    },
    {
      "cell_type": "code",
      "metadata": {
        "id": "S_X4Z_epz6DF"
      },
      "source": [
        "guests_to_check = ['Bob', 'Andrea']\r\n",
        "checked_in = []\r\n",
        "\r\n",
        "with open(\"guests.txt\",\"r\") as guests:\r\n",
        "    for g in guests:\r\n",
        "        checked_in.append(g.strip())\r\n",
        "    for check in guests_to_check:\r\n",
        "        if check in checked_in:\r\n",
        "            print(\"{} is checked in\".format(check))\r\n",
        "        else:\r\n",
        "            print(\"{} is not checked in\".format(check))"
      ],
      "execution_count": null,
      "outputs": []
    },
    {
      "cell_type": "code",
      "metadata": {
        "id": "VIlMd-5G2Kr9"
      },
      "source": [
        "guest_to_check = ['Bob', 'Andrea']\r\n",
        "checked_in = []\r\n",
        "with open(\"guests.txt\", \"r\") as guests:\r\n",
        "  for guest in guests:\r\n",
        "    checked_in.append(guest.strip())\r\n",
        "  for guest in guest_to_check:\r\n",
        "    if guest in checked_in:\r\n",
        "      print(\"{} is not checked in\".format(guest))\r\n",
        "    else:\r\n",
        "      print(\"{} is not checked in\".format(guest))"
      ],
      "execution_count": null,
      "outputs": []
    },
    {
      "cell_type": "markdown",
      "metadata": {
        "id": "bEtfasyQ4NQL"
      },
      "source": [
        "OS module for files"
      ]
    },
    {
      "cell_type": "code",
      "metadata": {
        "colab": {
          "base_uri": "https://localhost:8080/"
        },
        "id": "awCZE_Iw4Our",
        "outputId": "8b1e6567-6898-44c1-e126-fe9be94411e9"
      },
      "source": [
        "\r\n",
        "with open(\"abc.txt\",'w') as exp1:\r\n",
        "  exp1.write('abcdefghijklmnopqrstuvwxyx')\r\n",
        "  print(exp1)"
      ],
      "execution_count": null,
      "outputs": [
        {
          "output_type": "stream",
          "text": [
            "<_io.TextIOWrapper name='abc.txt' mode='w' encoding='UTF-8'>\n"
          ],
          "name": "stdout"
        }
      ]
    },
    {
      "cell_type": "code",
      "metadata": {
        "colab": {
          "base_uri": "https://localhost:8080/"
        },
        "id": "3Ch73Uun4SGj",
        "outputId": "3260ff50-ead6-4647-fb44-1e737ad5c835"
      },
      "source": [
        "with open('abc.txt','r') as exp1:\r\n",
        "  for text in exp1:\r\n",
        "    print(text.strip().upper())\r\n"
      ],
      "execution_count": null,
      "outputs": [
        {
          "output_type": "stream",
          "text": [
            "ABCDEFGHIJKLMNOPQRSTUVWXYX\n"
          ],
          "name": "stdout"
        }
      ]
    },
    {
      "cell_type": "code",
      "metadata": {
        "id": "Ddzm6L6L57a5"
      },
      "source": [
        "file = open('abc.txt','w')\r\n",
        "file.write('abcdef')\r\n",
        "file.close()"
      ],
      "execution_count": null,
      "outputs": []
    },
    {
      "cell_type": "code",
      "metadata": {
        "colab": {
          "base_uri": "https://localhost:8080/",
          "height": 35
        },
        "id": "_kmY0Okl5nZk",
        "outputId": "f64d1810-07b8-4995-d6b7-3fe7a5443f7e"
      },
      "source": [
        "file = open('abc.txt','r')\r\n",
        "\r\n",
        "file.read()\r\n"
      ],
      "execution_count": null,
      "outputs": [
        {
          "output_type": "execute_result",
          "data": {
            "application/vnd.google.colaboratory.intrinsic+json": {
              "type": "string"
            },
            "text/plain": [
              "'abcdef'"
            ]
          },
          "metadata": {
            "tags": []
          },
          "execution_count": 16
        }
      ]
    },
    {
      "cell_type": "code",
      "metadata": {
        "colab": {
          "base_uri": "https://localhost:8080/"
        },
        "id": "wSN2jwl751oS",
        "outputId": "f9d50af8-c455-4a12-9a4e-3e24ef1a06f7"
      },
      "source": [
        "import os\r\n",
        "os.remove(\"filepath nor mae\")\r\n",
        "os,rename(\"file name\",\"new file name\")\r\n",
        "os.path.exists(\"file name\")\r\n",
        "os.path.getmtime(\"filename\")\r\n",
        "os.path.getsize(\"filename\")\r\n",
        "os.path.isfile(\"filename\")\r\n",
        "import datetime\r\n",
        "a = os.path.getmtime(\"filename\")\r\n",
        "os.path.abspath(\"file.txt\") # t know about abspath of file directory\r\n",
        "datetime.datetime.fromtimestamp(a)\r\n",
        "\r\n"
      ],
      "execution_count": null,
      "outputs": [
        {
          "output_type": "stream",
          "text": [
            "<_io.TextIOWrapper name='abc.txt' mode='r' encoding='UTF-8'>\n"
          ],
          "name": "stdout"
        }
      ]
    },
    {
      "cell_type": "markdown",
      "metadata": {
        "id": "3TFkytpc9Mjo"
      },
      "source": [
        "example 2"
      ]
    },
    {
      "cell_type": "code",
      "metadata": {
        "id": "BQjbEjji6cSv"
      },
      "source": [
        "import os\r\n",
        "file= \"file.dat\"\r\n",
        "if os.path.isfile(file):\r\n",
        "    print(os.path.isfile(file))\r\n",
        "    print(os.path.getsize(file))\r\n",
        "else:\r\n",
        "\tprint(os.path.isfile(file))\r\n",
        "    print(\"File not found\")\r\n"
      ],
      "execution_count": null,
      "outputs": []
    },
    {
      "cell_type": "code",
      "metadata": {
        "colab": {
          "base_uri": "https://localhost:8080/",
          "height": 35
        },
        "id": "3mTs2ybT-p-e",
        "outputId": "48c23712-7ef1-41a6-9edd-2053654e58eb"
      },
      "source": [
        "os.name"
      ],
      "execution_count": null,
      "outputs": [
        {
          "output_type": "execute_result",
          "data": {
            "application/vnd.google.colaboratory.intrinsic+json": {
              "type": "string"
            },
            "text/plain": [
              "'posix'"
            ]
          },
          "metadata": {
            "tags": []
          },
          "execution_count": 18
        }
      ]
    },
    {
      "cell_type": "markdown",
      "metadata": {
        "id": "ylDFgG4p_yJ3"
      },
      "source": [
        "Practice quiz managing file and directories"
      ]
    },
    {
      "cell_type": "markdown",
      "metadata": {
        "id": "cm-Zx1jX_4fI"
      },
      "source": [
        "example1 "
      ]
    },
    {
      "cell_type": "code",
      "metadata": {
        "id": "rUwijFMJ_3C3"
      },
      "source": [
        "import os\r\n",
        "def create_python_script(filename):\r\n",
        "  comments = \"# Start of a new Python program\"\r\n",
        "  with open(filename, \"w\") as file:\r\n",
        "    file.write(comments)\r\n",
        "  filesize = os.path.getsize(filename)\r\n",
        "  return filesize\r\n",
        "  \r\n",
        "\r\n",
        "print(create_python_script(\"program.py\"))"
      ],
      "execution_count": null,
      "outputs": []
    },
    {
      "cell_type": "code",
      "metadata": {
        "id": "4I8dyaJdsWKz"
      },
      "source": [
        "import os\r\n",
        "\r\n",
        "def new_directory(directory, filename):\r\n",
        "  # Before creating a new directory, check to see if it already exists\r\n",
        "  if os.path.isdir(directory) == False:\r\n",
        "    os.mkdir(directory)\r\n",
        "\r\n",
        "  # Create the new file inside of the new directory\r\n",
        "  os.chdir(directory)\r\n",
        "  with open (filename, \"w\") as file:\r\n",
        "    pass\r\n",
        "  #os.chdir(\"..\")\r\n",
        "  # Return the list of files in the new directory\r\n",
        "  # return os.listdir(directory)\r\n",
        "  return os.listdir()\r\n",
        "\r\n",
        "print(new_directory(\"PythonPrograms\", \"script.py\"))"
      ],
      "execution_count": null,
      "outputs": []
    },
    {
      "cell_type": "markdown",
      "metadata": {
        "id": "9kbuvsO_JALh"
      },
      "source": [
        "example4"
      ]
    },
    {
      "cell_type": "code",
      "metadata": {
        "id": "jsHegwgV-qsv"
      },
      "source": [
        "import os\r\n",
        "import datetime\r\n",
        "\r\n",
        "def file_date(filename):\r\n",
        "  # Create the file in the current directory\r\n",
        "  with open(filename,'w') as file:\r\n",
        "    pass\r\n",
        "\r\n",
        "  a = os.path.getmtime(filename)\r\n",
        "  \r\n",
        "  # Convert the timestamp into a readable format, then into a string\r\n",
        "  timestamp = datetime.datetime.fromtimestamp(a)\r\n",
        "  date = timestamp.date()# Return just the date portion \r\n",
        "  # Hint: how many characters are in “yyyy-mm-dd”? \r\n",
        "  return (\"{}\".format(date))\r\n",
        "\r\n",
        "print(file_date(\"newfile.txt\")) \r\n",
        "# Should be today's date in the format of yyyy-mm-dd"
      ],
      "execution_count": null,
      "outputs": []
    },
    {
      "cell_type": "markdown",
      "metadata": {
        "id": "DZfLNIkcK6Hz"
      },
      "source": [
        "example5"
      ]
    },
    {
      "cell_type": "code",
      "metadata": {
        "id": "zmw_eatJK8R3"
      },
      "source": [
        "import os\r\n",
        "def parent_directory():\r\n",
        "  # Create a relative path to the parent \r\n",
        "  # of the current working directory \r\n",
        "  relative_parent = os.path.join(os.getcwd(),'..')\r\n",
        "  abs_path = os.path.abspath(relative_parent)\r\n",
        "  # Return the absolute path of the parent directory\r\n",
        "  return abs_path\r\n",
        "\r\n",
        "print(parent_directory())"
      ],
      "execution_count": null,
      "outputs": []
    },
    {
      "cell_type": "markdown",
      "metadata": {
        "id": "4G9zDL1tAVSp"
      },
      "source": [
        "CSV files"
      ]
    },
    {
      "cell_type": "code",
      "metadata": {
        "id": "sEPkbJC6AYUJ"
      },
      "source": [
        "\r\n",
        "import csv \r\n",
        "\r\n",
        "with open('abc.csv','w') as file:\r\n",
        "  file_csv = csv.reader(file)\r\n",
        "  for row in file_csv:\r\n",
        "    a,b,c = row #if row has 3 variables and fit te result accordingly.\r\n",
        "\r\n",
        "  \r\n"
      ],
      "execution_count": null,
      "outputs": []
    },
    {
      "cell_type": "code",
      "metadata": {
        "colab": {
          "base_uri": "https://localhost:8080/"
        },
        "id": "TGBzCIXADJqN",
        "outputId": "c2156291-e9d6-405f-d06d-e5b9768a9e0d"
      },
      "source": [
        "import csv\r\n",
        "hosts = [[\"worstation.local\",\"192.168.1.1\"], [\"webserver.local\",\"192.168.2.1\"]]\r\n",
        "\r\n",
        "with open('hosts.csv','w') as file:\r\n",
        "  writer = csv.writer(file)\r\n",
        "  writer.writerows(hosts)\r\n",
        "  print(file)\r\n",
        "with open('hosts.csv','a') as file:\r\n",
        "  writer = csv.writer(file)\r\n",
        "  writer.writerow([\"playstation\",\"192.168.1.1\"])\r\n",
        "  "
      ],
      "execution_count": null,
      "outputs": [
        {
          "output_type": "stream",
          "text": [
            "<_io.TextIOWrapper name='hosts.csv' mode='w' encoding='UTF-8'>\n"
          ],
          "name": "stdout"
        }
      ]
    },
    {
      "cell_type": "markdown",
      "metadata": {
        "id": "GoCXc_9rC2Dp"
      },
      "source": [
        "Generating Dictionaries from csv files\r\n"
      ]
    },
    {
      "cell_type": "code",
      "metadata": {
        "id": "U6l-699Q8znb"
      },
      "source": [
        "with open(\"example.csv\",'r+') as example:\r\n",
        "  a = csv.Dictreader(example) # just to convert csv data into dictionary format with earding acess\r\n",
        "  for row in a:\r\n",
        "    print((\"{} has {} users\").format(row['name'], row['users']))\r\n",
        "\r\n",
        "\r\n"
      ],
      "execution_count": null,
      "outputs": []
    },
    {
      "cell_type": "code",
      "metadata": {
        "id": "3uIwvkmX92_8"
      },
      "source": [
        "users = [{\"name\": \"Sol Mansi\", \"username\": \"solm\", \"department\": \"IT infrastructure\"},\r\n",
        "{\"name\" : \"Lio Nelson\", \"username\": \"lion\", \"department\": \"Development\"},\r\n",
        "{\"name\": \"Charlie Grey\", \"username\": \"greyc\", \"department\": \"Development\"}]\r\n",
        "\r\n",
        "keys = [\"name\",\"username\",\"department\"]\r\n",
        "\r\n",
        "with open(users.csv, 'r+') as dict:\r\n",
        "  object1 = csv.Dictwriter(dict, fieldname = keys)\r\n",
        "  object1.writeheader()\r\n",
        "  object1.writerows(users)"
      ],
      "execution_count": 1,
      "outputs": []
    },
    {
      "cell_type": "markdown",
      "metadata": {
        "id": "GkvmIvapgFVX"
      },
      "source": [
        "Practice Quiz\r\n",
        "example 1"
      ]
    },
    {
      "cell_type": "code",
      "metadata": {
        "colab": {
          "base_uri": "https://localhost:8080/"
        },
        "id": "p_8IYMuxgDwS",
        "outputId": "330740e2-f1df-499c-c7b1-3a6d91b3f8f0"
      },
      "source": [
        "import os\r\n",
        "import csv\r\n",
        "\r\n",
        "# Create a file with data in it\r\n",
        "def create_file(filename):\r\n",
        "  with open(filename, \"w\") as file:\r\n",
        "    file.write(\"name,color,type\\n\")\r\n",
        "    file.write(\"carnation,pink,annual\\n\")\r\n",
        "    file.write(\"daffodil,yellow,perennial\\n\")\r\n",
        "    file.write(\"iris,blue,perennial\\n\")\r\n",
        "    file.write(\"poinsettia,red,perennial\\n\")\r\n",
        "    file.write(\"sunflower,yellow,annual\\n\")\r\n",
        "\r\n",
        "# Read the file contents and format the information about each row\r\n",
        "def contents_of_file(filename):\r\n",
        "  return_string = \"\"\r\n",
        "\r\n",
        "  # Call the function to create the file \r\n",
        "  create_file(filename)\r\n",
        "\r\n",
        "  # Open the file\r\n",
        "  with open(filename, 'r') as file:\r\n",
        "    # Read the rows of the file into a dictionary\r\n",
        "    file_read =csv.DictReader(file)\r\n",
        "    # Process each item of the dictionary\r\n",
        "    for row in file_read:\r\n",
        "      return_string += \"a {} {} is {}\\n\".format(row[\"color\"], row[\"name\"], row[\"type\"])\r\n",
        "  return return_string\r\n",
        "\r\n",
        "#Call the function\r\n",
        "print(contents_of_file(\"flowers.csv\"))"
      ],
      "execution_count": 1,
      "outputs": [
        {
          "output_type": "stream",
          "text": [
            "a pink carnation is annual\n",
            "a yellow daffodil is perennial\n",
            "a blue iris is perennial\n",
            "a red poinsettia is perennial\n",
            "a yellow sunflower is annual\n",
            "\n"
          ],
          "name": "stdout"
        }
      ]
    },
    {
      "cell_type": "code",
      "metadata": {
        "colab": {
          "base_uri": "https://localhost:8080/"
        },
        "id": "_HpVCrZLLg5_",
        "outputId": "ee98cf4e-8e1c-47d1-ffad-9b1bfc5f6427"
      },
      "source": [
        "import os\r\n",
        "import csv\r\n",
        "\r\n",
        "# Create a file with data in it\r\n",
        "def create_file(filename):\r\n",
        "  with open(filename, \"w\") as file:\r\n",
        "    file.write(\"name,color,type\\n\")\r\n",
        "    file.write(\"carnation,pink,annual\\n\")\r\n",
        "    file.write(\"daffodil,yellow,perennial\\n\")\r\n",
        "    file.write(\"iris,blue,perennial\\n\")\r\n",
        "    file.write(\"poinsettia,red,perennial\\n\")\r\n",
        "    file.write(\"sunflower,yellow,annual\\n\")\r\n",
        "\r\n",
        "# Read the file contents and format the information about each row\r\n",
        "def contents_of_file(filename):\r\n",
        "  return_string = \"\"\r\n",
        "\r\n",
        "  # Call the function to create the file \r\n",
        "  create_file(filename)\r\n",
        "\r\n",
        "  # Open the file\r\n",
        "  with open(filename, 'r') as file:\r\n",
        "    # Read the rows of the file\r\n",
        "    rows = csv.reader(file)\r\n",
        "    rows = list(rows)\r\n",
        "    # Process each row\r\n",
        "    for row in rows[1:]:\r\n",
        "      color,name,type = row\r\n",
        "      # Format the return string for data rows only\r\n",
        "      return_string += \"a {} {} is {}\\n\".format(color,name,type)\r\n",
        "  return return_string\r\n",
        "\r\n",
        "#Call the function\r\n",
        "print(contents_of_file(\"flowers.csv\"))"
      ],
      "execution_count": 6,
      "outputs": [
        {
          "output_type": "stream",
          "text": [
            "a carnation pink is annual\n",
            "a daffodil yellow is perennial\n",
            "a iris blue is perennial\n",
            "a poinsettia red is perennial\n",
            "a sunflower yellow is annual\n",
            "\n"
          ],
          "name": "stdout"
        }
      ]
    },
    {
      "cell_type": "code",
      "metadata": {
        "colab": {
          "base_uri": "https://localhost:8080/",
          "height": 129
        },
        "id": "Ziv63Wl-gX8G",
        "outputId": "0e672e3b-ff0d-4747-9bcd-eb5dc88ba877"
      },
      "source": [
        "#!/usr/bin/env python3\r\n",
        "\r\n",
        "import csv\r\n",
        "\r\n",
        "def read_employees(file_location):\r\n",
        "    with open('/home/student-03-5a6ca843f128/data/employees.csv', 'r') as file:\r\n",
        "         csv.register_dialect('empDialect', skipinitialspace=True, strict = Tru$\r\n",
        "         employee_file = csv.DictReader(file, dialect = 'empDialect')\r\n",
        "         employee_list = []\r\n",
        "         for data in employee_file:\r\n",
        "             employee_list.append(data)\r\n",
        "    return employee_list\r\n",
        "employee_list = read_employees('/home/student-03-5a6ca843f128/data/employees.cs$\r\n",
        "#print(employee_list)\r\n",
        "\r\n",
        "def process_data(employee_list):\r\n",
        "    department_list = []\r\n",
        "    for employee_data in employee_list:\r\n",
        "        department_list.append(employee_data['Department'])\r\n",
        "    department_data = {}\r\n",
        "    for department_name in set(department_list):\r\n",
        "        department_data[department_name] = department_list.count(department_name)\r\n",
        "    return department_data\r\n",
        "dictionary = process_data(employee_list)\r\n",
        "print(dictionary)\r\n",
        "\r\n",
        "def write_report(dictionary, report_file):\r\n",
        "  with open(report_file, \"w+\") as f:\r\n",
        "    for k in sorted(dictionary):\r\n",
        "      f.write(str(k)+':'+str(dictionary[k])+'\\n')\r\n",
        "    f.close()\r\n",
        "write_report(dictionary, '<report_file>')"
      ],
      "execution_count": 7,
      "outputs": [
        {
          "output_type": "error",
          "ename": "SyntaxError",
          "evalue": "ignored",
          "traceback": [
            "\u001b[0;36m  File \u001b[0;32m\"<ipython-input-7-39fdd7ee696e>\"\u001b[0;36m, line \u001b[0;32m7\u001b[0m\n\u001b[0;31m    csv.register_dialect('empDialect', skipinitialspace=True, strict = Tru$\u001b[0m\n\u001b[0m                                                                          ^\u001b[0m\n\u001b[0;31mSyntaxError\u001b[0m\u001b[0;31m:\u001b[0m invalid syntax\n"
          ]
        }
      ]
    },
    {
      "cell_type": "code",
      "metadata": {
        "id": "BGvbO71J9Chr"
      },
      "source": [
        "\r\n"
      ],
      "execution_count": null,
      "outputs": []
    }
  ]
}