{
  "nbformat": 4,
  "nbformat_minor": 0,
  "metadata": {
    "colab": {
      "name": "Week7 project1.ipynb",
      "provenance": [],
      "authorship_tag": "ABX9TyPxfH8DQD3jOt3efkRr1fNZ",
      "include_colab_link": true
    },
    "kernelspec": {
      "name": "python3",
      "display_name": "Python 3"
    }
  },
  "cells": [
    {
      "cell_type": "markdown",
      "metadata": {
        "id": "view-in-github",
        "colab_type": "text"
      },
      "source": [
        "<a href=\"https://colab.research.google.com/github/nksharma063/it-cert-automation-practice/blob/master/Week7_project1.ipynb\" target=\"_parent\"><img src=\"https://colab.research.google.com/assets/colab-badge.svg\" alt=\"Open In Colab\"/></a>"
      ]
    },
    {
      "cell_type": "markdown",
      "metadata": {
        "id": "kEl1comucizm"
      },
      "source": [
        "Write a Python script\r\n",
        "This is the challenge section of the lab where you'll write a script that uses PIL to perform the following operations:\r\n",
        "\r\n",
        "Iterate through each file in the folder\r\n",
        "For each file:\r\n",
        "Rotate the image 90° clockwise\r\n",
        "Resize the image from 192x192 to 128x128\r\n",
        "Save the image to a new folder in .jpeg format\r\n",
        "Use a nano editor for this purpose. You can name the file however you'd like. And make sure to save the updated images in the folder: /opt/icons/\r\n",
        "\r\n",
        "You'll use lots of methods from PIL to complete this exercise. You can refer to Pillow for detailed explanations and have a look at the tutorials to help you build the script and complete the task."
      ]
    },
    {
      "cell_type": "code",
      "metadata": {
        "id": "W3N4lXaKchga"
      },
      "source": [
        "#!/usr/bin/env python3\r\n",
        "import os\r\n",
        "from PIL import Image\r\n",
        "\r\n",
        "cwd = os.getcwd()\r\n",
        "path = cwd + '/images/'\r\n",
        "new_path = '/opt/icons/'\r\n",
        "\r\n",
        "if not os.path.exists(new_path):\r\n",
        "    os.makedirs(new_path)\r\n",
        "\r\n",
        "for file in os.listdir(path):\r\n",
        "    if not file.startswith('.'):\r\n",
        "        im = Image.open(path + file)\r\n",
        "        im.convert('RGB').rotate(270).resize((128,128)).save(new_path + file, '$\r\n",
        "        im.close()"
      ],
      "execution_count": null,
      "outputs": []
    }
  ]
}