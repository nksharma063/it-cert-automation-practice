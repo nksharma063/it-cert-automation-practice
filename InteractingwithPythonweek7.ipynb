{
  "nbformat": 4,
  "nbformat_minor": 0,
  "metadata": {
    "colab": {
      "name": "InteractingwithPythonweek7.ipynb",
      "provenance": [],
      "collapsed_sections": [],
      "authorship_tag": "ABX9TyNSPWJOUXSZ3pX/wtDTf1JM",
      "include_colab_link": true
    },
    "kernelspec": {
      "name": "python3",
      "display_name": "Python 3"
    }
  },
  "cells": [
    {
      "cell_type": "markdown",
      "metadata": {
        "id": "view-in-github",
        "colab_type": "text"
      },
      "source": [
        "<a href=\"https://colab.research.google.com/github/nksharma063/it-cert-automation-practice/blob/master/InteractingwithPythonweek7.ipynb\" target=\"_parent\"><img src=\"https://colab.research.google.com/assets/colab-badge.svg\" alt=\"Open In Colab\"/></a>"
      ]
    },
    {
      "cell_type": "markdown",
      "metadata": {
        "id": "70vR26BwXt-z"
      },
      "source": [
        "Exercise - 1\r\n",
        "We'll be working with a log file named syslog.log, which contains logs related to ticky.\r\n",
        "\r\n",
        "You can view this file using:"
      ]
    },
    {
      "cell_type": "code",
      "metadata": {
        "id": "MFVlp342XiR_"
      },
      "source": [
        "cat syslog.log"
      ],
      "execution_count": null,
      "outputs": []
    },
    {
      "cell_type": "markdown",
      "metadata": {
        "id": "TgMmiahgYAYc"
      },
      "source": [
        "The log lines follow a pattern similar to the ones we've seen before. Something like this:\r\n",
        "\r\n",
        "May 27 11:45:40 ubuntu.local ticky: INFO: Created ticket [#1234] (username)\r\n",
        "\r\n",
        "Jun 1 11:06:48 ubuntu.local ticky: ERROR: Connection to DB failed (username)\r\n",
        "\r\n",
        "When the service runs correctly, it logs an INFO message to syslog. It then states what it did and states the username and ticket number related to the event. If the service encounters a problem, it logs an ERROR message to syslog. This error message indicates what was wrong and states the username that triggered the action that caused the problem.\r\n",
        "\r\n",
        "In this section, we'll search and view different types of error messages. The error messages for ticky details the problems with the file with a timestamp for when each problem occurred.\r\n",
        "\r\n",
        "These are a few kinds of listed error:\r\n",
        "\r\n",
        "Timeout while retrieving information\r\n",
        "The ticket was modified while updating\r\n",
        "Connection to DB failed\r\n",
        "Tried to add information to a closed ticket\r\n",
        "Permission denied while closing ticket\r\n",
        "Ticket doesn't exist\r\n",
        "To grep all the logs from ticky, use the following command:"
      ]
    },
    {
      "cell_type": "code",
      "metadata": {
        "id": "pNPMs_yWYBAk"
      },
      "source": [
        "grep ticky syslog.log"
      ],
      "execution_count": null,
      "outputs": []
    },
    {
      "cell_type": "markdown",
      "metadata": {
        "id": "IZCDdmizYF6v"
      },
      "source": [
        "In order to search all the ERROR logs, use the following command:"
      ]
    },
    {
      "cell_type": "code",
      "metadata": {
        "colab": {
          "base_uri": "https://localhost:8080/",
          "height": 129
        },
        "id": "m6nBsb5XYFeQ",
        "outputId": "9c531a27-ba06-45f2-cb4a-c310790bf63e"
      },
      "source": [
        "grep \"ERROR\" syslog.log"
      ],
      "execution_count": 1,
      "outputs": [
        {
          "output_type": "error",
          "ename": "SyntaxError",
          "evalue": "ignored",
          "traceback": [
            "\u001b[0;36m  File \u001b[0;32m\"<ipython-input-1-216d90bdc226>\"\u001b[0;36m, line \u001b[0;32m1\u001b[0m\n\u001b[0;31m    grep \"ERROR\" syslog.log\u001b[0m\n\u001b[0m               ^\u001b[0m\n\u001b[0;31mSyntaxError\u001b[0m\u001b[0;31m:\u001b[0m invalid syntax\n"
          ]
        }
      ]
    },
    {
      "cell_type": "markdown",
      "metadata": {
        "id": "Vo5rtR4cYKQi"
      },
      "source": [
        "To enlist all the ERROR messages of specific kind use the below syntax.\r\n",
        "\r\n",
        "Syntax: grep ERROR [message] [file-name]"
      ]
    },
    {
      "cell_type": "code",
      "metadata": {
        "id": "emtkOVDlYHx4"
      },
      "source": [
        "grep \"ERROR Tried to add information to closed ticket\" syslog.log"
      ],
      "execution_count": null,
      "outputs": []
    },
    {
      "cell_type": "markdown",
      "metadata": {
        "id": "XlR3GAaAYQt3"
      },
      "source": [
        "Let's now write a few regular expressions using a python3 interpreter.\r\n",
        "\r\n",
        "We can also grep the ERROR/INFO messages in a pythonic way using a regular expression. Let's now write a few regular expressions using a python3 interpreter.\r\n",
        "\r\n",
        "Open Python shell using the command below:"
      ]
    },
    {
      "cell_type": "code",
      "metadata": {
        "id": "YcgJz44NYRSr"
      },
      "source": [
        "python3"
      ],
      "execution_count": null,
      "outputs": []
    },
    {
      "cell_type": "markdown",
      "metadata": {
        "id": "h1pxmorDYTi5"
      },
      "source": [
        "This opens a Shell. Python provides a Python Shell (also known as Python Interactive Shell), which is used to execute a single Python command and get the result.\r\n",
        "\r\n",
        "Import the regular expression module (re)."
      ]
    },
    {
      "cell_type": "code",
      "metadata": {
        "id": "bb5gJNEVYX0g"
      },
      "source": [
        "import re\r\n",
        "line = \"May 27 11:45:40 ubuntu.local ticky: INFO: Created ticket [#1234] (username)\""
      ],
      "execution_count": null,
      "outputs": []
    },
    {
      "cell_type": "markdown",
      "metadata": {
        "id": "zZ247n0bYW34"
      },
      "source": [
        "To match a string stored in line variable, we use the search() method by defining a pattern."
      ]
    },
    {
      "cell_type": "code",
      "metadata": {
        "id": "uExLzxaqYcQg"
      },
      "source": [
        "re.search(r\"ticky: INFO: ([\\w ]*) \", line)"
      ],
      "execution_count": null,
      "outputs": []
    },
    {
      "cell_type": "markdown",
      "metadata": {
        "id": "PyNEStNJYeZI"
      },
      "source": [
        "Output:"
      ]
    },
    {
      "cell_type": "code",
      "metadata": {
        "id": "zchPRetKYiMs"
      },
      "source": [
        "<_sre.SRE_Match object; span=(29, 57), match='ticky: INFO: Created ticket '>"
      ],
      "execution_count": null,
      "outputs": []
    },
    {
      "cell_type": "markdown",
      "metadata": {
        "id": "HNn-Qf5KYkdN"
      },
      "source": [
        "You can also get the ERROR message as we did for the INFO log above from the ERROR log line."
      ]
    },
    {
      "cell_type": "code",
      "metadata": {
        "id": "PXyFC-iHYmpO"
      },
      "source": [
        "line = \"May 27 11:45:40 ubuntu.local ticky: ERROR: Error creating ticket [#1234] (username)\""
      ],
      "execution_count": null,
      "outputs": []
    },
    {
      "cell_type": "markdown",
      "metadata": {
        "id": "rm1BJk6oYpuI"
      },
      "source": [
        "To match a string stored in a line variable, we use the search() method by defining a pattern."
      ]
    },
    {
      "cell_type": "code",
      "metadata": {
        "id": "4y0G1r45YqPf"
      },
      "source": [
        "re.search(r\"ticky: ERROR: ([\\w ]*) \", line)"
      ],
      "execution_count": null,
      "outputs": []
    },
    {
      "cell_type": "markdown",
      "metadata": {
        "id": "0w5bJ2qMYtSx"
      },
      "source": [
        "Output:"
      ]
    },
    {
      "cell_type": "code",
      "metadata": {
        "id": "SLpQN_tbYtwN"
      },
      "source": [
        "<_sre.SRE_Match object; span=(29, 65), match='ticky: ERROR: Error creating ticket '>"
      ],
      "execution_count": null,
      "outputs": []
    },
    {
      "cell_type": "markdown",
      "metadata": {
        "id": "1rpAV2sgYxme"
      },
      "source": [
        "Now that you know how to use regular expressions with Python, start fetching logs of ticky for a specific username. We'll need them in later sections."
      ]
    },
    {
      "cell_type": "markdown",
      "metadata": {
        "id": "DVV-X2ZGY2F7"
      },
      "source": [
        "Exercise - 2\r\n",
        "Now, use the Python interactive shell to create a dictionary."
      ]
    },
    {
      "cell_type": "code",
      "metadata": {
        "id": "xQbLG-g-YyJT"
      },
      "source": [
        "fruit = {\"oranges\": 3, \"apples\": 5, \"bananas\": 7, \"pears\": 2}"
      ],
      "execution_count": null,
      "outputs": []
    },
    {
      "cell_type": "markdown",
      "metadata": {
        "id": "Z-EcevmCY5eZ"
      },
      "source": [
        "Call the sorted function to sort the items in the dictionary."
      ]
    },
    {
      "cell_type": "code",
      "metadata": {
        "id": "bf6wW_tyY8d6"
      },
      "source": [
        "sorted(fruit.items())"
      ],
      "execution_count": null,
      "outputs": []
    },
    {
      "cell_type": "markdown",
      "metadata": {
        "id": "Js2go3hnY-ue"
      },
      "source": [
        "output"
      ]
    },
    {
      "cell_type": "code",
      "metadata": {
        "id": "edHrf6rrY_vR"
      },
      "source": [
        "[('apples', 5), ('bananas', 7), ('oranges', 3), ('pears', 2)]"
      ],
      "execution_count": null,
      "outputs": []
    },
    {
      "cell_type": "markdown",
      "metadata": {
        "id": "-XGbuN6BZFfG"
      },
      "source": [
        "We'll now sort the dictionary using the item's key. For this use the operator module.\r\n",
        "\r\n",
        "Pass the function itemgetter() as an argument to the sorted() function. Since the second element of tuple needs to be sorted, pass the argument 0 to the itemgetter function of the operator module"
      ]
    },
    {
      "cell_type": "code",
      "metadata": {
        "id": "il39q8_9ZGIL"
      },
      "source": [
        "import operator"
      ],
      "execution_count": null,
      "outputs": []
    },
    {
      "cell_type": "code",
      "metadata": {
        "id": "YPokyf6mZKw4"
      },
      "source": [
        "sorted(fruit.items(), key=operator.itemgetter(0))"
      ],
      "execution_count": null,
      "outputs": []
    },
    {
      "cell_type": "markdown",
      "metadata": {
        "id": "qW0YHDppZMVc"
      },
      "source": [
        "Output:"
      ]
    },
    {
      "cell_type": "code",
      "metadata": {
        "id": "EnUqcrJXZNpn"
      },
      "source": [
        "[('apples', 5), ('bananas', 7), ('oranges', 3), ('pears', 2)]"
      ],
      "execution_count": null,
      "outputs": []
    },
    {
      "cell_type": "markdown",
      "metadata": {
        "id": "CTnvRwsVZQHf"
      },
      "source": [
        "To sort a dictionary based on its values, pass the argument 1 to the itemgetter function of the operator module."
      ]
    },
    {
      "cell_type": "code",
      "metadata": {
        "id": "82rfqorkZR08"
      },
      "source": [
        "sorted(fruit.items(), key=operator.itemgetter(1))"
      ],
      "execution_count": null,
      "outputs": []
    },
    {
      "cell_type": "markdown",
      "metadata": {
        "id": "ZBUk4QlKZTkf"
      },
      "source": [
        "Output:"
      ]
    },
    {
      "cell_type": "code",
      "metadata": {
        "id": "Kan9KmjvZVRW"
      },
      "source": [
        "[('pears', 2), ('oranges', 3), ('apples', 5), ('bananas', 7)]"
      ],
      "execution_count": null,
      "outputs": []
    },
    {
      "cell_type": "markdown",
      "metadata": {
        "id": "D4plT69GZX0s"
      },
      "source": [
        "Finally, you can also reverse the order of the sort using the reverse parameter. This parameter takes in a boolean argument.\r\n",
        "\r\n",
        "To sort the fruit object from most to least occurrence, we pass the argument reverse=True."
      ]
    },
    {
      "cell_type": "code",
      "metadata": {
        "id": "x6YJHO7LZZtP"
      },
      "source": [
        "sorted(fruit.items(), key = operator.itemgetter(1), reverse=True)"
      ],
      "execution_count": null,
      "outputs": []
    },
    {
      "cell_type": "markdown",
      "metadata": {
        "id": "nEGxUoszZbur"
      },
      "source": [
        "utput:"
      ]
    },
    {
      "cell_type": "code",
      "metadata": {
        "id": "GcMiMgwoZdXb"
      },
      "source": [
        "[('bananas', 7), ('apples', 5), ('oranges', 3), ('pears', 2)]"
      ],
      "execution_count": null,
      "outputs": []
    },
    {
      "cell_type": "markdown",
      "metadata": {
        "id": "7o5wtShFZgPt"
      },
      "source": [
        "You can see the fruit object is now sorted from the most to the least number of occurrences.\r\n",
        "\r\n",
        "Great job practice these skills! You can further practice this by sorting the logs that you would fetch using regular expressions from the previous section.\r\n",
        "\r\n",
        "Exit the shell using exit()"
      ]
    },
    {
      "cell_type": "markdown",
      "metadata": {
        "id": "-z_91bKtZjx4"
      },
      "source": [
        "Exercise - 3\r\n",
        "We'll now work with a file named csv_to_html.py. This file converts the data in a CSV file into an HTML file that contains a table with the data. Let's practice this with an example file.\r\n",
        "\r\n",
        "Create a new CSV file."
      ]
    },
    {
      "cell_type": "code",
      "metadata": {
        "id": "XI0gwvq_ZhMi"
      },
      "source": [
        "nano user_emails.csv"
      ],
      "execution_count": null,
      "outputs": []
    },
    {
      "cell_type": "markdown",
      "metadata": {
        "id": "JUicgvIdZoYZ"
      },
      "source": [
        "Full Name, Email Address\r\n",
        "Blossom Gill, blossom@abc.edu\r\n",
        "Hayes Delgado, nonummy@utnisia.com\r\n",
        "Petra Jones, ac@abc.edu\r\n",
        "Oleg Noel, noel@liberomauris.ca\r\n",
        "Ahmed Miller, ahmed.miller@nequenonquam.co.uk\r\n",
        "Macaulay Douglas, mdouglas@abc.edu\r\n",
        "Aurora Grant, enim.non@abc.edu\r\n",
        "Madison Mcintosh, mcintosh@nisiaenean.net\r\n",
        "Montana Powell, montanap@semmagna.org\r\n",
        "Rogan Robinson, rr.robinson@abc.edu\r\n",
        "Simon Rivera, sri@abc.edu\r\n",
        "Benedict Pacheco, bpacheco@abc.edu\r\n",
        "Maisie Hendrix, mai.hendrix@abc.edu\r\n",
        "Xaviera Gould, xlg@utnisia.net\r\n",
        "Oren Rollins, oren@semmagna.com\r\n",
        "Flavia Santiago, flavia@utnisia.net\r\n",
        "Jackson Owens, jackowens@abc.edu\r\n",
        "Britanni Humphrey, britanni@ut.net\r\n",
        "Kirk Nixon, kirknixon@abc.edu\r\n",
        "Bree Campbell, breee@utnisia.net"
      ]
    },
    {
      "cell_type": "markdown",
      "metadata": {
        "id": "nZ-l1GKIZtEM"
      },
      "source": [
        "Save the file by clicking Ctrl-o, Enter key, and Ctrl-x.\r\n",
        "\r\n",
        "Give executable permission to the script file csv_to_html.py."
      ]
    },
    {
      "cell_type": "code",
      "metadata": {
        "id": "d8BeDkjYZn4g"
      },
      "source": [
        "sudo chmod +x csv_to_html.py"
      ],
      "execution_count": null,
      "outputs": []
    },
    {
      "cell_type": "code",
      "metadata": {
        "id": "HoZl1QCQdcKF"
      },
      "source": [
        ""
      ],
      "execution_count": null,
      "outputs": []
    },
    {
      "cell_type": "markdown",
      "metadata": {
        "id": "Tdx6ZsY9dczq"
      },
      "source": [
        "csv to html conversion"
      ]
    },
    {
      "cell_type": "code",
      "metadata": {
        "id": "sE3MtkqCav3E"
      },
      "source": [
        "#!/usr/bin/env python3\r\n",
        "import sys\r\n",
        "import csv\r\n",
        "import os\r\n",
        "\r\n",
        "def process_csv(csv_file):\r\n",
        "    \"\"\"Turn the contents of the CSV file into a list of lists\"\"\"\r\n",
        "    print(\"Processing {}\".format(csv_file))\r\n",
        "    with open(csv_file,\"r\") as datafile:\r\n",
        "        data = list(csv.reader(datafile))\r\n",
        "    return data\r\n",
        "\r\n",
        "def data_to_html(title, data):\r\n",
        "    \"\"\"Turns a list of lists into an HTML table\"\"\"\r\n",
        "\r\n",
        "    # HTML Headers\r\n",
        "    html_content = \"\"\"\r\n",
        "<html>\r\n",
        "<head>\r\n",
        "<style>\r\n",
        "table {\r\n",
        "  width: 25%;\r\n",
        "  font-family: arial, sans-serif;\r\n",
        "  border-collapse: collapse;\r\n",
        "}\r\n",
        "\r\n",
        "tr:nth-child(odd) {\r\n",
        "  background-color: #dddddd;\r\n",
        "}\r\n",
        "\r\n",
        "td, th {\r\n",
        "  border: 1px solid #dddddd;\r\n",
        "  text-align: left;\r\n",
        "  padding: 8px;\r\n",
        "}\r\n",
        "</style>\r\n",
        "</head>\r\n",
        "<body>\r\n",
        "\"\"\"\r\n",
        "\r\n",
        "\r\n",
        "    # Add the header part with the given title\r\n",
        "    html_content += \"<h2>{}</h2><table>\".format(title)\r\n",
        "\r\n",
        "    # Add each row in data as a row in the table\r\n",
        "    # The first line is special and gets treated separately\r\n",
        "    for i, row in enumerate(data):\r\n",
        "        html_content += \"<tr>\"\r\n",
        "        for column in row:\r\n",
        "\t\t            if i == 0:\r\n",
        "                html_content += \"<th>{}</th>\".format(column)\r\n",
        "            else:\r\n",
        "                html_content += \"<td>{}</td>\".format(column)\r\n",
        "        html_content += \"</tr>\"\r\n",
        "\r\n",
        "    html_content += \"\"\"</tr></table></body></html>\"\"\"\r\n",
        "    return html_content\r\n",
        "\r\n",
        "def write_html_file(html_string, html_file):\r\n",
        "\r\n",
        "    # Making a note of whether the html file we're writing exists or not\r\n",
        "    if os.path.exists(html_file):\r\n",
        "        print(\"{} already exists. Overwriting...\".format(html_file))\r\n",
        "\r\n",
        "    with open(html_file,'w') as htmlfile:\r\n",
        "        htmlfile.write(html_string)\r\n",
        "    print(\"Table succesfully written to {}\".format(html_file))\r\n",
        "\r\n",
        "def main():\r\n",
        "    \"\"\"Verifies the arguments and then calls the processing function\"\"\"\r\n",
        "    # Check that command-line arguments are included\r\n",
        "    if len(sys.argv) < 3:\r\n",
        "        print(\"ERROR: Missing command-line argument!\")\r\n",
        "        print(\"Exiting program...\")\r\n",
        "        sys.exit(1)\r\n",
        "\r\n",
        "    # Open the files\r\n",
        "    csv_file = sys.argv[1]\r\n",
        "\r\n",
        "    # Check that file extensions are included\r\n",
        "    if \".csv\" not in csv_file:\r\n",
        "        print('Missing \".csv\" file extension from first command-line argument!')\r\n",
        "        print(\"Exiting program...\")\r\n",
        "        sys.exit(1)\r\n",
        "\r\n",
        "    if \".html\" not in html_file:\r\n",
        "        print('Missing \".html\" file extension from second command-line argument$\r\n",
        "        print(\"Exiting program...\")\r\n",
        "        sys.exit(1)\r\n",
        "\r\n",
        "    # Check that the csv file exists\r\n",
        "    if not os.path.exists(csv_file):\r\n",
        "        print(\"{} does not exist\".format(csv_file))\r\n",
        "        print(\"Exiting program...\")\r\n",
        "        sys.exit(1)\r\n",
        "        # Process the data and turn it into an HTML\r\n",
        "    data = process_csv(csv_file)\r\n",
        "    title = os.path.splitext(os.path.basename(csv_file))[0].replace(\"_\", \" \").t$\r\n",
        "    html_string = data_to_html(title, data)\r\n",
        "    write_html_file(html_string, html_file)\r\n",
        "\r\n",
        "if __name__ == \"__main__\":\r\n",
        "    main()\r\n",
        "\r\n"
      ],
      "execution_count": null,
      "outputs": []
    },
    {
      "cell_type": "markdown",
      "metadata": {
        "id": "0EMihI8udkDW"
      },
      "source": [
        "Save the file by clicking Ctrl-o, Enter key, and Ctrl-x.\r\n",
        "\r\n",
        "Give executable permission to the script file csv_to_html.py."
      ]
    },
    {
      "cell_type": "code",
      "metadata": {
        "id": "F5S0VBgAdhSe"
      },
      "source": [
        "sudo chmod +x csv_to_html.py"
      ],
      "execution_count": null,
      "outputs": []
    },
    {
      "cell_type": "markdown",
      "metadata": {
        "id": "DxH9UUUZdoAV"
      },
      "source": [
        "To visualize the data in the user_emails.csv file, you have to generate a webpage that'll be served by the webserver running on the machine.\r\n",
        "\r\n",
        "The script csv_to_html.py takes in two arguments, the CSV file, and location that would host the HTML page generated. Give write permission to the directory that would host that HTML page:"
      ]
    },
    {
      "cell_type": "code",
      "metadata": {
        "id": "pC7xPwUidohB"
      },
      "source": [
        "sudo chmod  o+w /var/www/html"
      ],
      "execution_count": null,
      "outputs": []
    },
    {
      "cell_type": "markdown",
      "metadata": {
        "id": "BGelH-MPdsN_"
      },
      "source": [
        "Next, run the script csv_to_html.py script by passing two arguments: user_emails.csv file and the path /var/www/html/. Also, append a name to the path with an HTML extension. This should be the name that you want the HTML file to be created with."
      ]
    },
    {
      "cell_type": "code",
      "metadata": {
        "id": "wXS7s7Ftdsvj"
      },
      "source": [
        "./csv_to_html.py user_emails.csv /var/www/html/<html-filename>.html"
      ],
      "execution_count": null,
      "outputs": []
    },
    {
      "cell_type": "markdown",
      "metadata": {
        "id": "Tp4IJo01dw9s"
      },
      "source": [
        "Replace <html-filename> with the new name.\r\n",
        "\r\n",
        "Navigate to the /var/www/html directory. Here, you'll find an HTML file created with the filename you passed to the above script."
      ]
    },
    {
      "cell_type": "code",
      "metadata": {
        "id": "bn0JSVd4dxfm"
      },
      "source": [
        "ls /var/www/html"
      ],
      "execution_count": null,
      "outputs": []
    },
    {
      "cell_type": "markdown",
      "metadata": {
        "id": "TaA03eOId2Ap"
      },
      "source": [
        "Now, to view this HTML page, open any web-browser and enter the following URL in the search bar.\r\n",
        "\r\n",
        "[linux-instance-external-IP]/[html-filename].html"
      ]
    },
    {
      "cell_type": "markdown",
      "metadata": {
        "id": "Q5MgPC2ld6OQ"
      },
      "source": [
        "Generate reports\r\n",
        "Now, we're going to practice creating a script, named ticky_check.py, that generates two different reports from this internal ticketing system log file i.e., syslog.log. This script will create the following reports:\r\n",
        "\r\n",
        "The ranking of errors generated by the system: A list of all the error messages logged and how many times each error was found, sorted by the most common error to the least common error. This report doesn't take into account the users involved.\r\n",
        "The user usage statistics for the service: A list of all users that have used the system, including how many info messages and how many error messages they've generated. This report is sorted by username.\r\n",
        "To create these reports write a python script named ticky_check.py. Use nano editor for this."
      ]
    },
    {
      "cell_type": "markdown",
      "metadata": {
        "id": "3wCczmSDeHf5"
      },
      "source": [
        "*italicized text*Here's your challenge: Write a script to generate two different reports based on the ranking of errors generated by the system and the user usage statistics for the service. You'll write the script on your own, but we'll guide you throughout.\r\n",
        "\r\n",
        "First, import all the Python modules that you'll use in this Python script. After importing the necessary modules, initialize two dictionaries: one for the number of different error messages and another to count the number of entries for each user (splitting between INFO and ERROR).\r\n",
        "\r\n",
        "Now, parse through each log entry in the syslog.log file by iterating over the file.\r\n",
        "\r\n",
        "For each log entry, you'll have to first check if it matches the INFO or ERROR message formats. You should use regular expressions for this. When you get a successful match, add one to the corresponding value in the per_user dictionary. If you get an ERROR message, add one to the corresponding entry in the error dictionary by using proper data structure.\r\n",
        "\r\n",
        "After you've processed the log entries from the syslog.log file, you need to sort both the per_user and error dictionary before creating CSV report files.\r\n",
        "\r\n",
        "Keep in mind that:\r\n",
        "\r\n",
        "The error dictionary should be sorted by the number of errors from most common to least common.\r\n",
        "The user dictionary should be sorted by username.\r\n",
        "Insert column names as (\"Error\", \"Count\") at the zero index position of the sorted error dictionary. And insert column names as (\"Username\", \"INFO\", \"ERROR\") at the zero index position of the sorted per_user dictionary.\r\n",
        "\r\n",
        "After sorting these dictionaries, store them in two different files: error_message.csv and user_statistics.csv.\r\n",
        "\r\n",
        "Save the ticky_check.py file by clicking Ctrl-o, Enter key, and Ctrl-x."
      ]
    },
    {
      "cell_type": "code",
      "metadata": {
        "id": "XQPLRln7d7AK"
      },
      "source": [
        "nano ticky_check.py\r\n",
        "#!/usr/bin/env python3\r\n",
        "import re\r\n",
        "import csv\r\n",
        "import operator\r\n",
        "\r\n",
        "error_messages = {}\r\n",
        "per_user = {}\r\n",
        "logfile =r\"/home/<username>/syslog.log\"\r\n",
        "pattern = r\"(INFO|ERROR) ([\\w' ]+|[\\w\\[\\]#' ]+) (\\(\\w+\\)|\\(\\w+\\.\\w+\\))$\"\r\n",
        "\r\n",
        "with open(logfile, \"r\") as f:\r\n",
        "\tfor line in f:\r\n",
        "\t\tresult = re.search(pattern, line)\r\n",
        "\t\tif result is None:\r\n",
        "\t\t\tcontinue\r\n",
        "\t\tif result.groups()[0] == \"INFO\":\r\n",
        "\t\t\tcategory = result.groups()[0]\r\n",
        "\t\t\tmessage = result.groups()[1]\r\n",
        "\t\t\tname = str(result.groups()[2])[1:-1]\r\n",
        "\t\t\tif name in per_user:\r\n",
        "\t\t\t\tuser = per_user[name]\r\n",
        "\t\t\t\tuser[category] += 1\r\n",
        "\t\t\telse:\r\n",
        "\t\t\t\tper_user[name] = {'INFO':1, 'ERROR':0}\r\n",
        "\t\tif result.groups()[0] == \"ERROR\":\r\n",
        "\t\t\tcategory = result.groups()[0]\r\n",
        "\t\t\tmessage = result.groups()[1]\r\n",
        "\t\t\tname = str(result.groups()[2])[1:-1]\r\n",
        "\t\t\terror_messages[message] = error_messages.get(message, 0) + 1\r\n",
        "\t\t\tif name in per_user:\r\n",
        "\t\t\t\tuser = per_user[name]\r\n",
        "\t\t\t\tuser[category] += 1\r\n",
        "\t\t\telse:\r\n",
        "\t\t\t\tper_user[name] = {'INFO':0, 'ERROR':1}\r\n",
        "\r\n",
        "sorted_messages = [(\"Error\", \"Count\")] + sorted(error_messages.items(), key = operator.itemgetter(1), reverse=True)\r\n",
        "#sorted_messages = [(\"Error\", \"Count\")] + sorted(error_messages.items(), key = lambda x: x[1], reverse=True)\r\n",
        "sorted_users = [(\"Username\", \"INFO\", \"ERROR\")] + sorted(per_user.items())[0:8]\r\n",
        "#sorted_users = [(\"Username\", \"INFO\", \"ERROR\")] + sorted(per_user.items())\r\n",
        "\r\n",
        "with open(\"error_message.csv\", \"w\") as error_file:\r\n",
        "\tfor line in sorted_messages:\r\n",
        "\t\terror_file.write(\"{}, {}\\n\".format(line[0], line[1]))\r\n",
        "\r\n",
        "with open(\"user_statistics.csv\", \"w\") as user_file:\r\n",
        "\tfor line in sorted_users:\r\n",
        "\t\tif isinstance(line[1], dict):\r\n",
        "\t\t\tuser_file.write(\"{}, {}, {}\\n\".format(line[0], line[1].get(\"INFO\"), line[1].get(\"ERROR\")))\r\n",
        "\t\telse:\r\n",
        "\t\t\tuser_file.write(\"{}, {}, {}\\n\".format(line[0], line[1], line[2]))"
      ],
      "execution_count": null,
      "outputs": []
    },
    {
      "cell_type": "markdown",
      "metadata": {
        "id": "m9GZMjqUeOcl"
      },
      "source": [
        "Visualize reports\r\n",
        "First, give executable permission to the Python script ticky_check.py."
      ]
    },
    {
      "cell_type": "code",
      "metadata": {
        "id": "Pz3ZyYkBePB2"
      },
      "source": [
        "chmod +x ticky_check.py"
      ],
      "execution_count": null,
      "outputs": []
    },
    {
      "cell_type": "markdown",
      "metadata": {
        "id": "uoHffW49eR-3"
      },
      "source": [
        "Run the ticky_check.py by using the following command:"
      ]
    },
    {
      "cell_type": "code",
      "metadata": {
        "id": "ra0yyhWIeSq7"
      },
      "source": [
        "./ticky_check.py"
      ],
      "execution_count": null,
      "outputs": []
    },
    {
      "cell_type": "markdown",
      "metadata": {
        "id": "yBSHxA2meWRS"
      },
      "source": [
        "Executing ticky_check.py will generate two report file __error_message.csv __and user_statistics.csv.\r\n",
        "\r\n",
        "You can now visualize the __error_message.csv __and user_statistics.csv by converting them to HTML pages. To do this, pass the files one by one to the script csv_to _html.py file, like we did in the previous section.\r\n",
        "\r\n",
        "To convert the error_message.csv into HTML file run the following command:"
      ]
    },
    {
      "cell_type": "code",
      "metadata": {
        "colab": {
          "base_uri": "https://localhost:8080/",
          "height": 129
        },
        "id": "5jWlUlDkeWzb",
        "outputId": "1ca632dc-13e1-4281-b3b7-cbee4e5956b3"
      },
      "source": [
        "./csv_to_html.py error_message.csv /var/www/html/<html-filename>.html"
      ],
      "execution_count": 2,
      "outputs": [
        {
          "output_type": "error",
          "ename": "SyntaxError",
          "evalue": "ignored",
          "traceback": [
            "\u001b[0;36m  File \u001b[0;32m\"<ipython-input-2-9a014e2c6e7a>\"\u001b[0;36m, line \u001b[0;32m1\u001b[0m\n\u001b[0;31m    ./csv_to_html.py error_message.csv /var/www/html/<html-filename>.html\u001b[0m\n\u001b[0m    ^\u001b[0m\n\u001b[0;31mSyntaxError\u001b[0m\u001b[0;31m:\u001b[0m invalid syntax\n"
          ]
        }
      ]
    },
    {
      "cell_type": "markdown",
      "metadata": {
        "id": "25fSjs2BeagL"
      },
      "source": [
        "Replace <html-filename> with the name of your choice.\r\n",
        "\r\n",
        "To convert user_statistics.csv into HTML file, run the following command:\r\n",
        "\r\n",
        "./csv_to"
      ]
    },
    {
      "cell_type": "code",
      "metadata": {
        "colab": {
          "base_uri": "https://localhost:8080/",
          "height": 129
        },
        "id": "RjpQ-8PLeY2o",
        "outputId": "6ad183cf-3a0f-484b-e0f9-e1cc193a61da"
      },
      "source": [
        "./csv_to_html.py user_statistics.csv /var/www/html/<html-filename>.html"
      ],
      "execution_count": 3,
      "outputs": [
        {
          "output_type": "error",
          "ename": "SyntaxError",
          "evalue": "ignored",
          "traceback": [
            "\u001b[0;36m  File \u001b[0;32m\"<ipython-input-3-2db04abf0c56>\"\u001b[0;36m, line \u001b[0;32m1\u001b[0m\n\u001b[0;31m    ./csv_to_html.py user_statistics.csv /var/www/html/<html-filename>.html\u001b[0m\n\u001b[0m    ^\u001b[0m\n\u001b[0;31mSyntaxError\u001b[0m\u001b[0;31m:\u001b[0m invalid syntax\n"
          ]
        }
      ]
    },
    {
      "cell_type": "markdown",
      "metadata": {
        "id": "i_dGQH5kefBX"
      },
      "source": [
        "Replace <html-filename> with the name of your choice.\r\n",
        "\r\n",
        "To convert user_statistics.csv into HTML file, run the following command:"
      ]
    },
    {
      "cell_type": "code",
      "metadata": {
        "id": "DKNTy_Alecdt"
      },
      "source": [
        "./csv_to_html.py user_statistics.csv /var/www/html/<html-filename>.html"
      ],
      "execution_count": null,
      "outputs": []
    },
    {
      "cell_type": "markdown",
      "metadata": {
        "id": "xrdlongueiWv"
      },
      "source": [
        "Replace <html-filename> with the new name\r\n",
        "\r\n",
        "Now, to view these HTML pages, open any web-browser and enter the following URL in the search bar.\r\n",
        "\r\n",
        "[linux-instance-external-IP]/[html-filename].html\r\n",
        "\r\n",
        "Output:"
      ]
    }
  ]
}