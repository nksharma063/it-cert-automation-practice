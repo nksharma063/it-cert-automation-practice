{
  "nbformat": 4,
  "nbformat_minor": 0,
  "metadata": {
    "colab": {
      "name": "week4googleIT.ipynb",
      "provenance": [],
      "collapsed_sections": [],
      "authorship_tag": "ABX9TyOMV+fytOZ+I2O1CunnKZC3",
      "include_colab_link": true
    },
    "kernelspec": {
      "name": "python3",
      "display_name": "Python 3"
    }
  },
  "cells": [
    {
      "cell_type": "markdown",
      "metadata": {
        "id": "view-in-github",
        "colab_type": "text"
      },
      "source": [
        "<a href=\"https://colab.research.google.com/github/nksharma063/it-cert-automation-practice/blob/master/week4googleIT.ipynb\" target=\"_parent\"><img src=\"https://colab.research.google.com/assets/colab-badge.svg\" alt=\"Open In Colab\"/></a>"
      ]
    },
    {
      "cell_type": "markdown",
      "metadata": {
        "id": "7LW0selkVVZO"
      },
      "source": [
        "Exxample 1"
      ]
    },
    {
      "cell_type": "code",
      "metadata": {
        "id": "YnpTFXwcVPp0"
      },
      "source": [
        "def initials(phrase):\r\n",
        "    words = phrase.upper()\r\n",
        "    words = words.split()\r\n",
        "    ' '.join(words)\r\n",
        "    result = \"\"\r\n",
        "    for word in words:\r\n",
        "        result += word[0]\r\n",
        "    return result\r\n",
        "\r\n",
        "print(initials(\"Universal Serial Bus\")) # Should be: USB\r\n",
        "print(initials(\"local area network\")) # Should be: LAN\r\n",
        "print(initials(\"Operating system\")) # Should be: OS"
      ],
      "execution_count": null,
      "outputs": []
    },
    {
      "cell_type": "markdown",
      "metadata": {
        "id": "W-hSuju8Wo-m"
      },
      "source": [
        "Example2"
      ]
    },
    {
      "cell_type": "code",
      "metadata": {
        "id": "-KeTIsUYWrAU"
      },
      "source": [
        "def student_grade(name, grade):\r\n",
        "\treturn \"{} received {}% on the exam\".format(name,grade)\r\n",
        "\r\n",
        "print(student_grade(\"Reed\", 80))\r\n",
        "print(student_grade(\"Paige\", 92))\r\n",
        "print(student_grade(\"Jesse\", 85))"
      ],
      "execution_count": null,
      "outputs": []
    },
    {
      "cell_type": "markdown",
      "metadata": {
        "id": "WQlFvksjXEhf"
      },
      "source": [
        "Practice Quiz\r\n",
        "Q1\r\n"
      ]
    },
    {
      "cell_type": "code",
      "metadata": {
        "id": "FbFZqXg7XHuG"
      },
      "source": [
        "def is_palindrome(input_string):\r\n",
        "\t# We'll create two strings, to compare them\r\n",
        "\tnew_string = \"\"\r\n",
        "\treverse_string = \"\"\r\n",
        "\t# Traverse through each letter of the input string\r\n",
        "\tfor character in input_string:\r\n",
        "\t\t# Add any non-blank letters to the \r\n",
        "\t\t# end of one string, and to the front\r\n",
        "\t\t# of the other string. \r\n",
        "\t\tif character!=\" \":\r\n",
        "\t\t\tnew_string = character + new_string\r\n",
        "\t\t\treverse_string = reverse_string + character\r\n",
        "\t# Compare the strings\r\n",
        "\tif new_string.lower() == reverse_string.lower():\r\n",
        "\t\treturn True\r\n",
        "\treturn False\r\n",
        "\r\n",
        "print(is_palindrome(\"Never Odd or Even\")) # Should be True\r\n",
        "print(is_palindrome(\"abc\")) # Should be False\r\n",
        "print(is_palindrome(\"kayak\")) # Should be True"
      ],
      "execution_count": null,
      "outputs": []
    },
    {
      "cell_type": "markdown",
      "metadata": {
        "id": "FIKeR2gMYjCP"
      },
      "source": [
        "q2"
      ]
    },
    {
      "cell_type": "code",
      "metadata": {
        "id": "gtO8BqqyYkxA"
      },
      "source": [
        "def convert_distance(miles):\r\n",
        "\tkm = miles * 1.6 \r\n",
        "\tresult = \"{} miles equals {:.1f} km\".format(miles, km)\r\n",
        "\treturn result\r\n",
        "\r\n",
        "print(convert_distance(12)) # Should be: 12 miles equals 19.2 km\r\n",
        "print(convert_distance(5.5)) # Should be: 5.5 miles equals 8.8 km\r\n",
        "print(convert_distance(11)) # Should be: 11 miles equals 17.6 km"
      ],
      "execution_count": null,
      "outputs": []
    },
    {
      "cell_type": "markdown",
      "metadata": {
        "id": "bGXdQe70Zixv"
      },
      "source": [
        "q3"
      ]
    },
    {
      "cell_type": "code",
      "metadata": {
        "id": "WIzB_1oTZkHx"
      },
      "source": [
        "def nametag(first_name, last_name):\r\n",
        "\treturn(\"{X} {Y[0]}.\".format(X=first_name, Y=last_name))\r\n",
        "\r\n",
        "print(nametag(\"Jane\", \"Smith\")) \r\n",
        "# Should display \"Jane S.\" \r\n",
        "print(nametag(\"Francesco\", \"Rinaldi\")) \r\n",
        "# Should display \"Francesco R.\" \r\n",
        "print(nametag(\"Jean-Luc\", \"Grand-Pierre\")) \r\n",
        "# Should display \"Jean-Luc G.\" "
      ],
      "execution_count": null,
      "outputs": []
    },
    {
      "cell_type": "markdown",
      "metadata": {
        "id": "fDEV4SkURSFV"
      },
      "source": [
        "q4"
      ]
    },
    {
      "cell_type": "code",
      "metadata": {
        "colab": {
          "base_uri": "https://localhost:8080/"
        },
        "id": "Vrn6FA7kagm9",
        "outputId": "e160a059-901c-47cb-ebdb-49ec19f4e9bf"
      },
      "source": [
        "def replace_ending(sentence, old, new):\r\n",
        "\t# Check if the old string is at the end of the sentence \r\n",
        "\tif sentence.endswith(old):\r\n",
        "\t\t# Using i as the slicing index, combine the part\r\n",
        "\t\t# of the sentence up to the matched string at the \r\n",
        "\t\t# end with the new string\r\n",
        "\t\t#a = sentence.split()\r\n",
        "\t\t#i = len(sentence) - len(a[-1])\r\n",
        "\t\tnew_sentence = sentence.replace(old,new)\r\n",
        "\t\treturn new_sentence\r\n",
        "\r\n",
        "\t# Return the original sentence if there is no match \r\n",
        "\treturn sentence\r\n",
        "\t\r\n",
        "print(replace_ending(\"It's raining cats and cats\", \"cats\", \"dogs\")) \r\n",
        "# Should display \"It's raining cats and dogs\"\r\n",
        "print(replace_ending(\"She sells seashells by the seashore\", \"seashells\", \"donuts\")) \r\n",
        "# Should display \"She sells seashells by the seashore\"\r\n",
        "print(replace_ending(\"The weather is nice in May\", \"may\", \"april\")) \r\n",
        "# Should display \"The weather is nice in May\"\r\n",
        "print(replace_ending(\"The weather is nice in May\", \"May\", \"April\")) \r\n",
        "# Should display \"The weather is nice in April\""
      ],
      "execution_count": null,
      "outputs": [
        {
          "output_type": "stream",
          "text": [
            "It's raining dogs and dogs\n",
            "She sells seashells by the seashore\n",
            "The weather is nice in May\n",
            "The weather is nice in April\n"
          ],
          "name": "stdout"
        }
      ]
    },
    {
      "cell_type": "markdown",
      "metadata": {
        "id": "Ak3geL0xRUz5"
      },
      "source": [
        "Practice Quiz"
      ]
    },
    {
      "cell_type": "code",
      "metadata": {
        "id": "MkECMsRodMqv"
      },
      "source": [
        "def skip_elements(elements):\r\n",
        "\t# Initialize variables\r\n",
        "\tnew_list = []\r\n",
        "\ti = 0\r\n",
        "\r\n",
        "\t# Iterate through the list\r\n",
        "\tfor words in elements:\r\n",
        "\t\t# Does this element belong in the resulting list?\r\n",
        "\t\tif i <= len(elements):\r\n",
        "\t\t\t# Add this element to the resulting list\r\n",
        "\t\t\tnew_list.append(elements[i])\r\n",
        "\t\t# Increment i\r\n",
        "\t\ti=i+2\r\n",
        "\r\n",
        "\treturn new_list\r\n",
        "\r\n",
        "print(skip_elements([\"a\", \"b\", \"c\", \"d\", \"e\", \"f\", \"g\"])) # Should be ['a', 'c', 'e', 'g']\r\n",
        "print(skip_elements(['Orange', 'Pineapple', 'Strawberry', 'Kiwi', 'Peach'])) # Should be ['Orange', 'Strawberry', 'Peach']\r\n",
        "print(skip_elements([])) # Should be []\r\n",
        "\r\n",
        "\r\n"
      ],
      "execution_count": null,
      "outputs": []
    },
    {
      "cell_type": "code",
      "metadata": {
        "colab": {
          "base_uri": "https://localhost:8080/"
        },
        "id": "vUE5PY-xR2p9",
        "outputId": "73c11495-bcc5-4daf-d2fe-cb54e5d28300"
      },
      "source": [
        "def skip_elements(sentence):\r\n",
        "  new_list = []\r\n",
        "  i = 0\r\n",
        "  for item in sentence:\r\n",
        "    if i <= len(sentence):\r\n",
        "      new_list.append(sentence[i])\r\n",
        "    i = i + 2\r\n",
        "  return new_list\r\n",
        "print(skip_elements([\"a\", \"b\", \"c\", \"d\", \"e\", \"f\", \"g\"])) # Should be ['a', 'c', 'e', 'g']\r\n",
        "print(skip_elements(['Orange', 'Pineapple', 'Strawberry', 'Kiwi', 'Peach'])) # Should be ['Orange', 'Strawberry', 'Peach']\r\n",
        "print(skip_elements([])) # Should be []\r\n",
        "\r\n"
      ],
      "execution_count": null,
      "outputs": [
        {
          "output_type": "stream",
          "text": [
            "['a', 'c', 'e', 'g']\n",
            "['Orange', 'Strawberry', 'Peach']\n",
            "[]\n"
          ],
          "name": "stdout"
        }
      ]
    },
    {
      "cell_type": "markdown",
      "metadata": {
        "id": "tb95NW28pWEP"
      },
      "source": [
        "we assigned three vimmutable variables to a tuple and the worked n just one size which was extracted as a variable from file info to process in fucngtion"
      ]
    },
    {
      "cell_type": "code",
      "metadata": {
        "colab": {
          "base_uri": "https://localhost:8080/"
        },
        "id": "HjrljzCXWCLN",
        "outputId": "80a14453-40a2-4d45-88ea-21094f8221b9"
      },
      "source": [
        "def file_size(file_info):\r\n",
        "  name, type, size = file_info\r\n",
        "  return(\"{:.2f}\".format(size/1024))\r\n",
        "print(file_size(('Class Assignment', 'docx', 17875))) # Should print 17.46\r\n",
        "print(file_size(('Notes', 'txt', 496))) # Should print 0.48\r\n",
        "print(file_size(('Program', 'py', 1239))) # Should print 1.21"
      ],
      "execution_count": null,
      "outputs": [
        {
          "output_type": "stream",
          "text": [
            "17.46\n",
            "0.48\n",
            "1.21\n"
          ],
          "name": "stdout"
        }
      ]
    },
    {
      "cell_type": "code",
      "metadata": {
        "colab": {
          "base_uri": "https://localhost:8080/"
        },
        "id": "_KL7QLuHpToN",
        "outputId": "f9acfeac-514a-4494-b16d-85e803f2a3d8"
      },
      "source": [
        "def skip_elements(sentence):\r\n",
        "  new_list = []\r\n",
        "  for i, word in enumerate(sentence):\r\n",
        "    if i%2==0:\r\n",
        "      new_list.append(sentence[i])\r\n",
        "  return new_list\r\n",
        "print(skip_elements([\"a\", \"b\", \"c\", \"d\", \"e\", \"f\", \"g\"])) # Should be ['a', 'c', 'e', 'g']\r\n",
        "print(skip_elements(['Orange', 'Pineapple', 'Strawberry', 'Kiwi', 'Peach'])) # Should be ['Orange', 'Strawberry', 'Peach']"
      ],
      "execution_count": null,
      "outputs": [
        {
          "output_type": "stream",
          "text": [
            "['a', 'c', 'e', 'g']\n",
            "['Orange', 'Strawberry', 'Peach']\n"
          ],
          "name": "stdout"
        }
      ]
    },
    {
      "cell_type": "code",
      "metadata": {
        "id": "pEbmTic2vuQ9",
        "colab": {
          "base_uri": "https://localhost:8080/"
        },
        "outputId": "890ade69-1868-431d-9cd3-0325db7dca3b"
      },
      "source": [
        "def restructure(emp_name_email):\r\n",
        "  emp_table = []\r\n",
        "  for email, name in emp_name_email:\r\n",
        "     emp_table.append(\"{} : {}\".format(name, email))\r\n",
        "     emp_table.replace()\r\n",
        "  return emp_table\r\n",
        "  \r\n",
        "print(restructure([('a@exp.com','a'), ('b@exp.com','b')]))\r\n",
        "  \r\n",
        "\r\n"
      ],
      "execution_count": null,
      "outputs": [
        {
          "output_type": "stream",
          "text": [
            "['a : a@exp.com', 'b : b@exp.com']\n"
          ],
          "name": "stdout"
        }
      ]
    },
    {
      "cell_type": "code",
      "metadata": {
        "colab": {
          "base_uri": "https://localhost:8080/"
        },
        "id": "uJvtbUDoz95e",
        "outputId": "4bc11ad9-86a0-4e82-a831-bca49a9d13fc"
      },
      "source": [
        "multiples = [x*2 for x in range(1,11)]\r\n",
        "print(multiples)"
      ],
      "execution_count": null,
      "outputs": [
        {
          "output_type": "stream",
          "text": [
            "[2, 4, 6, 8, 10, 12, 14, 16, 18, 20]\n"
          ],
          "name": "stdout"
        }
      ]
    },
    {
      "cell_type": "code",
      "metadata": {
        "colab": {
          "base_uri": "https://localhost:8080/"
        },
        "id": "mpXuAkjb2tBT",
        "outputId": "65bcb55c-8276-4d7e-facb-af01f5dad570"
      },
      "source": [
        "list = [\"'{}' : '{}'\".format(email,name) for name,email in [('a@exp.com','a'), ('b@exp.com','b')]]\r\n",
        "print(list)"
      ],
      "execution_count": null,
      "outputs": [
        {
          "output_type": "stream",
          "text": [
            "[\"'a' : 'a@exp.com'\", \"'b' : 'b@exp.com'\"]\n"
          ],
          "name": "stdout"
        }
      ]
    },
    {
      "cell_type": "code",
      "metadata": {
        "id": "GHpfPJ3Q3S5y"
      },
      "source": [
        "def odd_numbers(n):\r\n",
        "\treturn [x for x in range(1,n+1) if x%2==1]\r\n",
        "\r\n",
        "print(odd_numbers(5))  # Should print [1, 3, 5]\r\n",
        "print(odd_numbers(10)) # Should print [1, 3, 5, 7, 9]\r\n",
        "print(odd_numbers(11)) # Should print [1, 3, 5, 7, 9, 11]\r\n",
        "print(odd_numbers(1))  # Should print [1]\r\n",
        "print(odd_numbers(-1)) # Should print []"
      ],
      "execution_count": null,
      "outputs": []
    },
    {
      "cell_type": "code",
      "metadata": {
        "id": "YXSfFjiM5TZl"
      },
      "source": [
        "def prime_nummbers(n):\r\n",
        "  return [x for x in range (1,n+1) if x!=0 and ]"
      ],
      "execution_count": null,
      "outputs": []
    },
    {
      "cell_type": "code",
      "metadata": {
        "id": "kGVxLsKn6nT5"
      },
      "source": [
        "filenames = [\"program.c\", \"stdio.hpp\", \"sample.hpp\", \"a.out\", \"math.hpp\", \"hpp.out\"]"
      ],
      "execution_count": null,
      "outputs": []
    },
    {
      "cell_type": "markdown",
      "metadata": {
        "id": "k_jKT902f_bU"
      },
      "source": [
        "Practice Quiz\r\n",
        "Q1"
      ]
    },
    {
      "cell_type": "code",
      "metadata": {
        "colab": {
          "base_uri": "https://localhost:8080/"
        },
        "id": "Bpj8a4EAgBMl",
        "outputId": "bb243a31-bd8b-467a-a519-39c9624e17a7"
      },
      "source": [
        "filenames = [\"program.c\", \"stdio.hpp\", \"sample.hpp\", \"a.out\", \"math.hpp\", \"hpp.out\"]\r\n",
        "# Generate newfilenames as a list containing the new filenames\r\n",
        "# using as many lines of code as your chosen method requires.\r\n",
        "#newfilenames= [each.replace('.hpp','.h') for each in filenames if each.endswith('.hpp')]\r\n",
        "newfilenames= [each.replace('.hpp','.h') for each in filenames]\r\n",
        "\r\n",
        "print(newfilenames) \r\n",
        "# Should be [\"program.c\", \"stdio.h\", \"sample.h\", \"a.out\", \"math.h\", \"hpp.out\"]"
      ],
      "execution_count": null,
      "outputs": [
        {
          "output_type": "stream",
          "text": [
            "['program.c', 'stdio.h', 'sample.h', 'a.out', 'math.h', 'hpp.out']\n"
          ],
          "name": "stdout"
        }
      ]
    },
    {
      "cell_type": "markdown",
      "metadata": {
        "id": "XATtL2YKhrqq"
      },
      "source": [
        "Q2"
      ]
    },
    {
      "cell_type": "code",
      "metadata": {
        "id": "foAnrjJshs-T"
      },
      "source": [
        "def pig_latin(text):\r\n",
        "  say = \"\"\r\n",
        "  # Separate the text into words\r\n",
        "  words = text.split()\r\n",
        "  for word in words:\r\n",
        "    # Create the pig latin word and add it to the list\r\n",
        "    pig_latin_word_list = word[1:] + word[0] + 'ay'\r\n",
        "    say = say + pig_latin_word_list\r\n",
        "    # Turn the list back into a phrase\r\n",
        "  return say\r\n",
        "\t\t\r\n",
        "print(pig_latin(\"hello how are you\")) # Should be \"ellohay owhay reaay ouyay\"\r\n",
        "print(pig_latin(\"programming in python is fun\")) # Should be \"rogrammingpay niay ythonpay siay unfay\""
      ],
      "execution_count": null,
      "outputs": []
    },
    {
      "cell_type": "code",
      "metadata": {
        "id": "rk_INfZShucL",
        "colab": {
          "base_uri": "https://localhost:8080/"
        },
        "outputId": "7c589867-e75d-4d1b-f23a-bbc74e24091f"
      },
      "source": [
        "def pig_latin(sentence):\r\n",
        "  pig_latin = []\r\n",
        "  words = sentence.split()\r\n",
        "  for word in words:\r\n",
        "    pig_latin.append(word[1:] + word[0] + 'ay')\r\n",
        "  return pig_latin\r\n",
        "print(pig_latin(\"hello how are you\")) # Should be \"ellohay owhay reaay ouyay\"\r\n",
        "print(pig_latin(\"programming in python is fun\")) # Should be \"rogrammingpay niay ythonpay siay unfay\""
      ],
      "execution_count": null,
      "outputs": [
        {
          "output_type": "stream",
          "text": [
            "['ellohay', 'owhay', 'reaay', 'ouyay']\n",
            "['rogrammingpay', 'niay', 'ythonpay', 'siay', 'unfay']\n"
          ],
          "name": "stdout"
        }
      ]
    },
    {
      "cell_type": "markdown",
      "metadata": {
        "id": "Y1gLhPYEkMtx"
      },
      "source": [
        "OR"
      ]
    },
    {
      "cell_type": "code",
      "metadata": {
        "colab": {
          "base_uri": "https://localhost:8080/"
        },
        "id": "0wMLQr-ojF8W",
        "outputId": "a7eae7e0-4e87-4475-8c1b-4365abe83b4f"
      },
      "source": [
        "def pig_latin1(sentence):\r\n",
        "  pig_latin = [each[1:]+each[0]+'ay' for each in sentence.split()]\r\n",
        "  return pig_latin\r\n",
        "print(pig_latin1(\"hello how are you\")) # Should be \"ellohay owhay reaay ouyay\"\r\n",
        "print(pig_latin1(\"programming in python is fun\")) # Should be \"rogrammingpay niay ythonpay siay unfay\""
      ],
      "execution_count": null,
      "outputs": [
        {
          "output_type": "stream",
          "text": [
            "['ellohay', 'owhay', 'reaay', 'ouyay']\n",
            "['rogrammingpay', 'niay', 'ythonpay', 'siay', 'unfay']\n"
          ],
          "name": "stdout"
        }
      ]
    },
    {
      "cell_type": "code",
      "metadata": {
        "id": "_0hiK0RzkETB"
      },
      "source": [
        "def octal_to_string(octal):\r\n",
        "    result = \"\"\r\n",
        "    value_letters = [(4,\"r\"),(2,\"w\"),(1,\"x\")]\r\n",
        "    # Iterate over each of the digits in octal\r\n",
        "    for item in [int(n) for n in str(octal)]:\r\n",
        "        # Check for each of the permissions values\r\n",
        "        for value, letter in value_letters:\r\n",
        "            if  item >= value:\r\n",
        "                result += letter\r\n",
        "                item-= value\r\n",
        "            else:\r\n",
        "                result += '-'\r\n",
        "    return result\r\n",
        "    \r\n",
        "print(octal_to_string(755)) # Should be rwxr-xr-x\r\n",
        "print(octal_to_string(644)) # Should be rw-r--r--\r\n",
        "print(octal_to_string(750)) # Should be rwxr-x---\r\n",
        "print(octal_to_string(600)) # Should be rw-------"
      ],
      "execution_count": null,
      "outputs": []
    },
    {
      "cell_type": "markdown",
      "metadata": {
        "id": "JvWnNAD4ld9D"
      },
      "source": [
        "\r\n"
      ]
    },
    {
      "cell_type": "code",
      "metadata": {
        "colab": {
          "base_uri": "https://localhost:8080/"
        },
        "id": "ok8F7jJmlde2",
        "outputId": "1266aaff-e0f8-4f45-e47b-d9519cedafed"
      },
      "source": [
        "def OTS(value):\r\n",
        "  result = []\r\n",
        "  values = str(value)\r\n",
        "  for each in values:\r\n",
        "    if each == '7':\r\n",
        "      result.append('rwx')\r\n",
        "    elif each == '6':\r\n",
        "      result.append('rw-')\r\n",
        "    elif each == '5':\r\n",
        "      result.append('r-x')\r\n",
        "    elif each == '4':\r\n",
        "      result.append('r--')\r\n",
        "    elif each == '7':\r\n",
        "      result.append('rwx')\r\n",
        "    elif each == '6':\r\n",
        "      result.append('rw-')\r\n",
        "    elif each == '5':\r\n",
        "      result.append('r-x')\r\n",
        "    elif each == '4':\r\n",
        "      result.append('r--')\r\n",
        "    elif each == '7':\r\n",
        "      result.append('rwx')\r\n",
        "    elif each == '6':\r\n",
        "      result.append('rw-')\r\n",
        "    elif each == '5':\r\n",
        "      result.append('r-x')\r\n",
        "    elif each == '4':\r\n",
        "      result.append('r--')\r\n",
        "  results = ''.join(result)\r\n",
        "  return results\r\n",
        "print(OTS(755)) # Should be rwxr-xr-x\r\n",
        "print(OTS(644)) # Should be rw-r--r--\r\n",
        "print(OTS(750)) # Should be rwxr-x---\r\n",
        "print(OTS(600)) # Should be rw-------"
      ],
      "execution_count": null,
      "outputs": [
        {
          "output_type": "stream",
          "text": [
            "rwxr-xr-x\n",
            "rw-r--r--\n",
            "rwxr-x\n",
            "rw-\n"
          ],
          "name": "stdout"
        }
      ]
    },
    {
      "cell_type": "markdown",
      "metadata": {
        "id": "m87VbZGgsSQN"
      },
      "source": [
        "q-4"
      ]
    },
    {
      "cell_type": "code",
      "metadata": {
        "colab": {
          "base_uri": "https://localhost:8080/"
        },
        "id": "6k7xEtyRoey5",
        "outputId": "f1875473-08d1-4811-80ec-449913e4c13f"
      },
      "source": [
        "def group_list(group, users):\r\n",
        "  members=()\r\n",
        "  members=\",\".join(users)\r\n",
        "  return (\"{X}: {Y}\".format(X=group, Y=members))\r\n",
        "\r\n",
        "print(group_list(\"Marketing\", [\"Mike\", \"Karen\", \"Jake\", \"Tasha\"])) # Should be \"Marketing: Mike, Karen, Jake, Tasha\"\r\n",
        "print(group_list(\"Engineering\", [\"Kim\", \"Jay\", \"Tom\"])) # Should be \"Engineering: Kim, Jay, Tom\"\r\n",
        "print(group_list(\"Users\", \"\")) # Should be \"Users:\""
      ],
      "execution_count": null,
      "outputs": [
        {
          "output_type": "stream",
          "text": [
            "Marketing: Mike,Karen,Jake,Tasha\n",
            "Engineering: Kim,Jay,Tom\n",
            "Users: \n"
          ],
          "name": "stdout"
        }
      ]
    },
    {
      "cell_type": "code",
      "metadata": {
        "colab": {
          "base_uri": "https://localhost:8080/",
          "height": 86
        },
        "id": "CpZOvyDdsXp_",
        "outputId": "b39d3377-b1c9-438a-eb1d-f7dbdd5765a2"
      },
      "source": [
        "def guest_list(guests):\r\n",
        "\tfor each in guests:\r\n",
        "\t\tprint(\"{X} is {Y} years old and works as {Z}\".format(X = each[0], Y= each[1], Z= each[2]))\r\n",
        "guest_list([('Ken', 30, \"Chef\"), (\"Pat\", 35, 'Lawyer'), ('Amanda', 25, \"Engineer\")])\r\n",
        "\r\n",
        "\"\"\"\r\n",
        "Output should match:\r\n",
        "Ken is 30 years old and works as Chef\r\n",
        "Pat is 35 years old and works as Lawyer\r\n",
        "Amanda is 25 years old and works as Engineer\r\n",
        "\"\"\""
      ],
      "execution_count": null,
      "outputs": [
        {
          "output_type": "stream",
          "text": [
            "Ken is 30 years old and works as Chef\n",
            "Pat is 35 years old and works as Lawyer\n",
            "Amanda is 25 years old and works as Engineer\n"
          ],
          "name": "stdout"
        },
        {
          "output_type": "execute_result",
          "data": {
            "application/vnd.google.colaboratory.intrinsic+json": {
              "type": "string"
            },
            "text/plain": [
              "'\\nOutput should match:\\nKen is 30 years old and works as Chef\\nPat is 35 years old and works as Lawyer\\nAmanda is 25 years old and works as Engineer\\n'"
            ]
          },
          "metadata": {
            "tags": []
          },
          "execution_count": 26
        }
      ]
    },
    {
      "cell_type": "markdown",
      "metadata": {
        "id": "KWELz8hi1o7D"
      },
      "source": [
        "Dixtionary - example 1"
      ]
    },
    {
      "cell_type": "code",
      "metadata": {
        "colab": {
          "base_uri": "https://localhost:8080/"
        },
        "id": "bDEcTfp-wfD_",
        "outputId": "e52df14f-4461-47f7-e803-63778b7a9f21"
      },
      "source": [
        "cool_beasts = {\"octopuses\":\"tentacles\", \"dolphins\":\"fins\", \"rhinos\":\"horns\"}\r\n",
        "for  key,value in cool_beasts.items():\r\n",
        "  print(\"{} {}\".format(key, value))"
      ],
      "execution_count": null,
      "outputs": [
        {
          "output_type": "stream",
          "text": [
            "octopuses tentacles\n",
            "dolphins fins\n",
            "rhinos horns\n"
          ],
          "name": "stdout"
        }
      ]
    },
    {
      "cell_type": "code",
      "metadata": {
        "id": "IrR15sBg2KRB"
      },
      "source": [
        "#help('FORMATTING')"
      ],
      "execution_count": null,
      "outputs": []
    },
    {
      "cell_type": "code",
      "metadata": {
        "colab": {
          "base_uri": "https://localhost:8080/"
        },
        "id": "JqmD_Yy42L2e",
        "outputId": "6f124c28-d386-4a6a-dafb-7dcd2730225f"
      },
      "source": [
        "def count(letterscounting):\r\n",
        "  result = {}\r\n",
        "  for word in letterscounting:\r\n",
        "    if word not in result:\r\n",
        "      result[word] = 0\r\n",
        "    else:\r\n",
        "      result[word] += 1\r\n",
        "  return result\r\n",
        "print(count('ababababababababa'))"
      ],
      "execution_count": null,
      "outputs": [
        {
          "output_type": "stream",
          "text": [
            "{'a': 8, 'b': 7}\n"
          ],
          "name": "stdout"
        }
      ]
    },
    {
      "cell_type": "code",
      "metadata": {
        "id": "gmgnRkf84hVc"
      },
      "source": [
        "wardrobe = {\"shirt\":[\"red\",\"blue\",\"white\"], \"jeans\":[\"blue\",\"black\"]}\r\n",
        "for key,value in wardrobe.items():\r\n",
        "\tfor each in value:\r\n",
        "\t\tprint(\"{} {}\".format(each,key))"
      ],
      "execution_count": null,
      "outputs": []
    },
    {
      "cell_type": "markdown",
      "metadata": {
        "id": "zOjCuzDk8Dwt"
      },
      "source": [
        "practice quiz quetion 1"
      ]
    },
    {
      "cell_type": "code",
      "metadata": {
        "id": "V6b8VwHL8WIj"
      },
      "source": [
        "def email_list(domains):\r\n",
        "\temails = []\r\n",
        "\tfor email,users in domains.items():\r\n",
        "\t  for user in users:\r\n",
        "\t    emails.append(\"{}@{}\".format(user,email))\r\n",
        "\treturn(emails)\r\n",
        "\r\n",
        "print(email_list({\"gmail.com\": [\"clark.kent\", \"diana.prince\", \"peter.parker\"], \"yahoo.com\": [\"barbara.gordon\", \"jean.grey\"], \"hotmail.com\": [\"bruce.wayne\"]}))"
      ],
      "execution_count": null,
      "outputs": []
    },
    {
      "cell_type": "markdown",
      "metadata": {
        "id": "ZSK-kLTD8fzR"
      },
      "source": [
        "The email_list function receives a dictionary, which contains domain names as keys, and a list of users as values. Fill in the blanks to generate a list that contains complete email addresses (e.g. diana.prince@gmail.com)."
      ]
    },
    {
      "cell_type": "code",
      "metadata": {
        "colab": {
          "base_uri": "https://localhost:8080/"
        },
        "id": "SVXBYRfP8FgK",
        "outputId": "742ce6af-951b-4c82-c3ef-7e6fe6bf81c5"
      },
      "source": [
        "def email(dict):\r\n",
        "  complete_email = [\"{}@{}\".format(user,domain) for domain,users in dict.items() for user in users]\r\n",
        "  return complete_email#for domain,users in dict.items():\r\n",
        "    #for user in users:\r\n",
        "      #return complete_email.append(\"{}@{}\".format(user,domain))\r\n",
        "  \r\n",
        "\r\n",
        "print(email({\"gmail.com\": [\"clark.kent\", \"diana.prince\", \"peter.parker\"], \"yahoo.com\": [\"barbara.gordon\", \"jean.grey\"], \"hotmail.com\": [\"bruce.wayne\"]}))"
      ],
      "execution_count": null,
      "outputs": [
        {
          "output_type": "stream",
          "text": [
            "['clark.kent@gmail.com', 'diana.prince@gmail.com', 'peter.parker@gmail.com', 'barbara.gordon@yahoo.com', 'jean.grey@yahoo.com', 'bruce.wayne@hotmail.com']\n"
          ],
          "name": "stdout"
        }
      ]
    },
    {
      "cell_type": "markdown",
      "metadata": {
        "id": "k97FEiwM-_v0"
      },
      "source": [
        "The groups_per_user function receives a dictionary, which contains group names with the list of users. Users can belong to multiple groups. Fill in the blanks to return a dictionary with the users as keys and a list of their groups as values. "
      ]
    },
    {
      "cell_type": "code",
      "metadata": {
        "colab": {
          "base_uri": "https://localhost:8080/"
        },
        "id": "iUGOAscU-vj2",
        "outputId": "4037522a-5de1-4055-de8f-89d1f3fd2db7"
      },
      "source": [
        "def groups_per_user(dict):\r\n",
        "  user_groups = {}\r\n",
        "  for group,users in dict.items():\r\n",
        "    for user in users:\r\n",
        "      if user not in user_groups:\r\n",
        "        user_groups[user] = []\r\n",
        "      user_groups[user].append(group)\r\n",
        "\r\n",
        "  return user_groups\r\n",
        "print(groups_per_user({\"local\": [\"admin\", \"userA\"],\r\n",
        "\t\t\"public\":  [\"admin\", \"userB\"],\r\n",
        "\t\t\"administrator\": [\"admin\"] }))"
      ],
      "execution_count": null,
      "outputs": [
        {
          "output_type": "stream",
          "text": [
            "{'admin': ['local', 'public', 'administrator'], 'userA': ['local'], 'userB': ['public']}\n"
          ],
          "name": "stdout"
        }
      ]
    },
    {
      "cell_type": "markdown",
      "metadata": {
        "id": "w_kHfzAyMQph"
      },
      "source": [
        "The add_prices function returns the total price of all of the groceries in the  dictionary. Fill in the blanks to complete this function."
      ]
    },
    {
      "cell_type": "code",
      "metadata": {
        "colab": {
          "base_uri": "https://localhost:8080/"
        },
        "id": "sJbV2P_ICfRD",
        "outputId": "36ff1a5f-cf2b-498f-b5c0-096c7ef9ff1b"
      },
      "source": [
        "\r\n",
        "groceries = {\"bananas\": 1.56, \"apples\": 2.50, \"oranges\": 0.99, \"bread\": 4.59, \"coffee\": 6.99, \"milk\": 3.39, \"eggs\": 2.98, \"cheese\": 5.44}\r\n",
        "\r\n",
        "def add_groceries(dict):\r\n",
        "  total_price = 0\r\n",
        "  for item,price in dict.items():\r\n",
        "    total_price = total_price + price\r\n",
        "  return total_price\r\n",
        "\r\n",
        "print(add_groceries(groceries))\r\n"
      ],
      "execution_count": null,
      "outputs": [
        {
          "output_type": "stream",
          "text": [
            "28.440000000000005\n"
          ],
          "name": "stdout"
        }
      ]
    },
    {
      "cell_type": "markdown",
      "metadata": {
        "id": "g8xHpfowNgCA"
      },
      "source": [
        "or"
      ]
    },
    {
      "cell_type": "code",
      "metadata": {
        "colab": {
          "base_uri": "https://localhost:8080/"
        },
        "id": "CROJzTFaMj5d",
        "outputId": "fdf8156c-a706-4f0f-9a8f-c9d44f65f742"
      },
      "source": [
        "groceries = {\"bananas\": 1.56, \"apples\": 2.50, \"oranges\": 0.99, \"bread\": 4.59, \"coffee\": 6.99, \"milk\": 3.39, \"eggs\": 2.98, \"cheese\": 5.44}\r\n",
        "\r\n",
        "def add_price(dict):\r\n",
        "  total = 0\r\n",
        "  for value in dict.values():\r\n",
        "    total = total + value\r\n",
        "  return total\r\n",
        "print(add_price(groceries)) "
      ],
      "execution_count": null,
      "outputs": [
        {
          "output_type": "stream",
          "text": [
            "28.440000000000005\n"
          ],
          "name": "stdout"
        }
      ]
    },
    {
      "cell_type": "markdown",
      "metadata": {
        "id": "ikv63a_ENfDO"
      },
      "source": [
        "or"
      ]
    },
    {
      "cell_type": "code",
      "metadata": {
        "colab": {
          "base_uri": "https://localhost:8080/"
        },
        "id": "n1hEU4NuNKBD",
        "outputId": "b74532fa-2b68-4429-d83d-3d805ba4bca7"
      },
      "source": [
        "groceries = {\"bananas\": 1.56, \"apples\": 2.50, \"oranges\": 0.99, \"bread\": 4.59, \"coffee\": 6.99, \"milk\": 3.39, \"eggs\": 2.98, \"cheese\": 5.44}\r\n",
        "def add(dict):\r\n",
        "  return dict.values().sum()\r\n",
        "print(add_price(groceries))"
      ],
      "execution_count": null,
      "outputs": [
        {
          "output_type": "stream",
          "text": [
            "28.440000000000005\n"
          ],
          "name": "stdout"
        }
      ]
    },
    {
      "cell_type": "markdown",
      "metadata": {
        "id": "LUhj13J2NwUB"
      },
      "source": [
        "Graded Assesment\r\n",
        "Q-1"
      ]
    },
    {
      "cell_type": "markdown",
      "metadata": {
        "id": "z1O5SZpGNzix"
      },
      "source": [
        "The format_address function separates out parts of the address string into new strings: house_number and street_name, and returns: \"house number X on street named Y\". The format of the input string is: numeric house number, followed by the street name which may contain numbers, but never by themselves, and could be several words long. For example, \"123 Main Street\", \"1001 1st Ave\", or \"55 North Center Drive\". Fill in the gaps to complete this function."
      ]
    },
    {
      "cell_type": "code",
      "metadata": {
        "colab": {
          "base_uri": "https://localhost:8080/"
        },
        "id": "u0rC3_1IN1jk",
        "outputId": "267a648d-120b-4c94-b019-629473056de6"
      },
      "source": [
        "def format_address(string):\r\n",
        "  house_number = \"\"\r\n",
        "  street_name = \"\"\r\n",
        "  for each in string.split():\r\n",
        "    if each.isdigit():\r\n",
        "      house_number = each\r\n",
        "    else:\r\n",
        "      street_name = street_name + \" \" + each\r\n",
        "  return (\"house number {} on street named {}\".format(house_number,street_name))\r\n",
        "print(format_address(\"123 Main Street\"))\r\n",
        "print(format_address(\"1001 1st Ave\"))\r\n",
        "# Should print: \"house number 1001 on street named 1st Ave\"\r\n",
        "\r\n",
        "print(format_address(\"55 North Center Drive\"))\r\n",
        "# Should print \"house number 55 on street named North Center Drive\"\r\n"
      ],
      "execution_count": null,
      "outputs": [
        {
          "output_type": "stream",
          "text": [
            "house number 123 on street named  Main Street\n",
            "house number 1001 on street named  1st Ave\n",
            "house number 55 on street named  North Center Drive\n"
          ],
          "name": "stdout"
        }
      ]
    },
    {
      "cell_type": "code",
      "metadata": {
        "id": "8NWn5OIPPrfn"
      },
      "source": [
        "def format_address(address_string):\r\n",
        "  house_number=\"\"\r\n",
        "  street_name=\"\"\r\n",
        "\r\n",
        "  X= address_string.split(\" \")# Separate the address string into parts\r\n",
        "\r\n",
        "  # Traverse through the address parts\r\n",
        "  for each in X:\r\n",
        "    if each.isdigit():# Determine if the address part is the\r\n",
        "      house_number=each# house number or part of the street name\r\n",
        "    else:\r\n",
        "      street_name+=each\r\n",
        "      street_name=\" \"\r\n",
        "  # Does anything else need to be done \r\n",
        "  # before returning the result?\r\n",
        "  \r\n",
        "  # Return the formatted string  \r\n",
        "return \"house number {} on street named {}\".format(house_number,street_name)\r\n",
        "\r\n",
        "print(format_address(\"123 Main Street\"))\r\n",
        "# Should print: \"house number 123 on street named Main Street\"\r\n",
        "\r\n",
        "print(format_address(\"1001 1st Ave\"))\r\n",
        "# Should print: \"house number 1001 on street named 1st Ave\"\r\n",
        "\r\n",
        "print(format_address(\"55 North Center Drive\"))\r\n",
        "# Should print \"house number 55 on street named North Center Drive\"\r\n"
      ],
      "execution_count": null,
      "outputs": []
    },
    {
      "cell_type": "markdown",
      "metadata": {
        "id": "yg2Zk8w4R3UY"
      },
      "source": [
        "The highlight_word function changes the given word in a sentence to its upper-case version. For example, highlight_word(\"Have a nice day\", \"nice\") returns \"Have a NICE day\". Can you write this function in just one line?"
      ]
    },
    {
      "cell_type": "code",
      "metadata": {
        "colab": {
          "base_uri": "https://localhost:8080/"
        },
        "id": "IyHQdopxR2w3",
        "outputId": "3d7d075c-8ad7-471e-9c4a-dfb71c553355"
      },
      "source": [
        "def highlight_word(string,word):\r\n",
        "  return string.replace(word, word.upper())\r\n",
        "\r\n",
        "print(highlight_word(\"Have a nice day\", \"nice\"))\r\n",
        "print(highlight_word(\"Shhh, don't be so loud!\", \"loud\"))\r\n",
        "print(highlight_word(\"Automating with Python is fun\", \"fun\"))"
      ],
      "execution_count": null,
      "outputs": [
        {
          "output_type": "stream",
          "text": [
            "Have a NICE day\n",
            "Shhh, don't be so LOUD!\n",
            "Automating with Python is FUN\n"
          ],
          "name": "stdout"
        }
      ]
    },
    {
      "cell_type": "markdown",
      "metadata": {
        "id": "VhowgUdETEZS"
      },
      "source": [
        "A professor with two assistants, Jamie and Drew, wants an attendance list of the students, in the order that they arrived in the classroom. Drew was the first one to note which students arrived, and then Jamie took over. After the class, they each entered their lists into the computer and emailed them to the professor, who needs to combine them into one, in the order of each student's arrival. Jamie emailed a follow-up, saying that her list is in reverse order. Complete the steps to combine them into one list as follows: the contents of Drew's list, followed by Jamie's list in reverse order, to get an accurate list of the students as they arrived."
      ]
    },
    {
      "cell_type": "code",
      "metadata": {
        "colab": {
          "base_uri": "https://localhost:8080/"
        },
        "id": "mh5Y83__S-Dc",
        "outputId": "ccf67c43-128a-4111-b27c-7af59607f9df"
      },
      "source": [
        "def attendance(students):\r\n",
        "  drew_list = []\r\n",
        "  jamie_list = []\r\n",
        "  new_list = []\r\n",
        "  for student in students:\r\n",
        "    drew_list.append(student)\r\n",
        "  for student in students:\r\n",
        "    jamie_list.append(student)\r\n",
        "  print(drew_list) \r\n",
        "  print(jamie_list.reverse())\r\n",
        "  \r\n",
        "print(attendance([\"Alice\", \"Cindy\", \"Bobby\", \"Jan\", \"Peter\"]))"
      ],
      "execution_count": null,
      "outputs": [
        {
          "output_type": "stream",
          "text": [
            "['Alice', 'Cindy', 'Bobby', 'Jan', 'Peter']\n",
            "None\n",
            "None\n"
          ],
          "name": "stdout"
        }
      ]
    },
    {
      "cell_type": "code",
      "metadata": {
        "colab": {
          "base_uri": "https://localhost:8080/"
        },
        "id": "D1yhiLatXBWj",
        "outputId": "bf5c0eb3-73b2-435f-a39e-4122421d1092"
      },
      "source": [
        "def combine_lists(list1, list2):\r\n",
        "  \r\n",
        "  #return list2.extend(list1.reverse())\r\n",
        "  return list2+list1[::-1]\r\n",
        "Jamies_list = [\"Alice\", \"Cindy\", \"Bobby\", \"Jan\", \"Peter\"]\r\n",
        "Drews_list = [\"Mike\", \"Carol\", \"Greg\", \"Marcia\"]\r\n",
        "print(combine_lists(Jamies_list, Drews_list))"
      ],
      "execution_count": null,
      "outputs": [
        {
          "output_type": "stream",
          "text": [
            "['Mike', 'Carol', 'Greg', 'Marcia', 'Peter', 'Jan', 'Bobby', 'Cindy', 'Alice']\n"
          ],
          "name": "stdout"
        }
      ]
    },
    {
      "cell_type": "markdown",
      "metadata": {
        "id": "avedbQ27fSvb"
      },
      "source": [
        "Use a list comprehension to create a list of squared numbers (n*n). The function receives the variables start and end, and returns a list of squares of consecutive numbers between start and end inclusively.\r\n",
        "For example, squares(2, 3) should return [4, 9]."
      ]
    },
    {
      "cell_type": "code",
      "metadata": {
        "colab": {
          "base_uri": "https://localhost:8080/"
        },
        "id": "crcaMpt-fUoJ",
        "outputId": "da4a53c6-13da-4ebe-9ec2-644a6a445775"
      },
      "source": [
        "def square(start,end):\r\n",
        "  return [n*n for n in range(start, end + 1)]\r\n",
        "print(square(2, 3)) # Should be [4, 9]\r\n",
        "print(square(1, 5)) # Should be [1, 4, 9, 16, 25]\r\n",
        "print(square(0, 10)) # Should be [0, 1, 4, 9, 16, 25, 36, 49, 64, 81, 100]"
      ],
      "execution_count": null,
      "outputs": [
        {
          "output_type": "stream",
          "text": [
            "[4, 9]\n",
            "[1, 4, 9, 16, 25]\n",
            "[0, 1, 4, 9, 16, 25, 36, 49, 64, 81, 100]\n"
          ],
          "name": "stdout"
        }
      ]
    },
    {
      "cell_type": "markdown",
      "metadata": {
        "id": "BeYWhFRzg6oV"
      },
      "source": [
        "omplete the code to iterate through the keys and values of the car_prices dictionary, printing out some information about each one."
      ]
    },
    {
      "cell_type": "code",
      "metadata": {
        "id": "nHS568k_g5st"
      },
      "source": [
        "def car_listing(car_prices):\r\n",
        "  result = \"\"\r\n",
        "  for car,price in car_prices.items():\r\n",
        "    result += \"{} costs {} dollars\".format(car,price) + \"\\n\"\r\n",
        "  return result\r\n",
        "\r\n",
        "print(car_listing({\"Kia Soul\":19000, \"Lamborghini Diablo\":55000, \"Ford Fiesta\":13000, \"Toyota Prius\":24000}))"
      ],
      "execution_count": null,
      "outputs": []
    },
    {
      "cell_type": "markdown",
      "metadata": {
        "id": "-th0UHDzqOa8"
      },
      "source": [
        "Taylor and Rory are hosting a party. They sent out invitations, and each one collected responses into dictionaries, with names of their friends and how many guests each friend is bringing. Each dictionary is a partial list, but Rory's list has more current information about the number of guests. Fill in the blanks to combine both dictionaries into one, with each friend listed only once, and the number of guests from Rory's dictionary taking precedence, if a name is included in both dictionaries. Then print the resulting dictionary."
      ]
    },
    {
      "cell_type": "code",
      "metadata": {
        "colab": {
          "base_uri": "https://localhost:8080/"
        },
        "id": "97g8ZJygp-AQ",
        "outputId": "44fc48d8-1d96-4a09-b461-2f0280dcc7a7"
      },
      "source": [
        "def combine_guests(guests1, guests2):\r\n",
        "  final_list = {}\r\n",
        "  final_list = guests1.copy()\r\n",
        "  for key,value in guests2.items():\r\n",
        "    if key not in final_list:\r\n",
        "      final_list[key] = value\r\n",
        "    else:\r\n",
        "      pass\r\n",
        "  return final_list\r\n",
        "Rorys_guests = { \"Adam\":2, \"Brenda\":3, \"David\":1, \"Jose\":3, \"Charlotte\":2, \"Terry\":1, \"Robert\":4}\r\n",
        "Taylors_guests = { \"David\":4, \"Nancy\":1, \"Robert\":2, \"Adam\":1, \"Samantha\":3, \"Chris\":5}\r\n",
        "\r\n",
        "print(combine_guests(Rorys_guests, Taylors_guests))"
      ],
      "execution_count": null,
      "outputs": [
        {
          "output_type": "stream",
          "text": [
            "{'Adam': 2, 'Brenda': 3, 'David': 1, 'Jose': 3, 'Charlotte': 2, 'Terry': 1, 'Robert': 4, 'Nancy': 1, 'Samantha': 3, 'Chris': 5}\n"
          ],
          "name": "stdout"
        }
      ]
    },
    {
      "cell_type": "code",
      "metadata": {
        "id": "CZMCfghzwTjd"
      },
      "source": [
        "#help('dict')\r\n"
      ],
      "execution_count": null,
      "outputs": []
    },
    {
      "cell_type": "markdown",
      "metadata": {
        "id": "Yl6k9N5Qy89c"
      },
      "source": [
        "Use a dictionary to count the frequency of letters in the input string. Only letters should be counted, not blank spaces, numbers, or punctuation. Upper case should be considered the same as lower case. For example, count_letters(\"This is a sentence.\") should return {'t': 2, 'h': 1, 'i': 2, 's': 3, 'a': 1, 'e': 3, 'n': 2, 'c': 1}."
      ]
    },
    {
      "cell_type": "code",
      "metadata": {
        "colab": {
          "base_uri": "https://localhost:8080/",
          "height": 350
        },
        "id": "5vMM4bzLwVy-",
        "outputId": "a3ea28ac-2f9c-41b4-e300-5fb9250dcfd9"
      },
      "source": [
        "def counting(sentence):\r\n",
        "  dict = {}\r\n",
        "  \r\n",
        "  \r\n",
        "  for each in sentence.lower():\r\n",
        "    dict[each] = each.count()\r\n",
        "  return dict\r\n",
        "print(counting(\"AaBbCc\"))\r\n",
        "# Should be {'a': 2, 'b': 2, 'c': 2}\r\n",
        "\r\n",
        "print(counting(\"Math is fun! 2+2=4\"))\r\n",
        "# Should be {'m': 1, 'a': 1, 't': 1, 'h': 1, 'i': 1, 's': 1, 'f': 1, 'u': 1, 'n': 1}\r\n"
      ],
      "execution_count": null,
      "outputs": [
        {
          "output_type": "error",
          "ename": "TypeError",
          "evalue": "ignored",
          "traceback": [
            "\u001b[0;31m---------------------------------------------------------------------------\u001b[0m",
            "\u001b[0;31mTypeError\u001b[0m                                 Traceback (most recent call last)",
            "\u001b[0;32m<ipython-input-101-363a73525f8b>\u001b[0m in \u001b[0;36m<module>\u001b[0;34m()\u001b[0m\n\u001b[1;32m      6\u001b[0m     \u001b[0mdict\u001b[0m\u001b[0;34m[\u001b[0m\u001b[0meach\u001b[0m\u001b[0;34m]\u001b[0m \u001b[0;34m=\u001b[0m \u001b[0meach\u001b[0m\u001b[0;34m.\u001b[0m\u001b[0mcount\u001b[0m\u001b[0;34m(\u001b[0m\u001b[0;34m)\u001b[0m\u001b[0;34m\u001b[0m\u001b[0;34m\u001b[0m\u001b[0m\n\u001b[1;32m      7\u001b[0m   \u001b[0;32mreturn\u001b[0m \u001b[0mdict\u001b[0m\u001b[0;34m\u001b[0m\u001b[0;34m\u001b[0m\u001b[0m\n\u001b[0;32m----> 8\u001b[0;31m \u001b[0mprint\u001b[0m\u001b[0;34m(\u001b[0m\u001b[0mcounting\u001b[0m\u001b[0;34m(\u001b[0m\u001b[0;34m\"AaBbCc\"\u001b[0m\u001b[0;34m)\u001b[0m\u001b[0;34m)\u001b[0m\u001b[0;34m\u001b[0m\u001b[0;34m\u001b[0m\u001b[0m\n\u001b[0m\u001b[1;32m      9\u001b[0m \u001b[0;31m# Should be {'a': 2, 'b': 2, 'c': 2}\u001b[0m\u001b[0;34m\u001b[0m\u001b[0;34m\u001b[0m\u001b[0;34m\u001b[0m\u001b[0m\n\u001b[1;32m     10\u001b[0m \u001b[0;34m\u001b[0m\u001b[0m\n",
            "\u001b[0;32m<ipython-input-101-363a73525f8b>\u001b[0m in \u001b[0;36mcounting\u001b[0;34m(sentence)\u001b[0m\n\u001b[1;32m      4\u001b[0m \u001b[0;34m\u001b[0m\u001b[0m\n\u001b[1;32m      5\u001b[0m   \u001b[0;32mfor\u001b[0m \u001b[0meach\u001b[0m \u001b[0;32min\u001b[0m \u001b[0msentence\u001b[0m\u001b[0;34m.\u001b[0m\u001b[0mlower\u001b[0m\u001b[0;34m(\u001b[0m\u001b[0;34m)\u001b[0m\u001b[0;34m:\u001b[0m\u001b[0;34m\u001b[0m\u001b[0;34m\u001b[0m\u001b[0m\n\u001b[0;32m----> 6\u001b[0;31m     \u001b[0mdict\u001b[0m\u001b[0;34m[\u001b[0m\u001b[0meach\u001b[0m\u001b[0;34m]\u001b[0m \u001b[0;34m=\u001b[0m \u001b[0meach\u001b[0m\u001b[0;34m.\u001b[0m\u001b[0mcount\u001b[0m\u001b[0;34m(\u001b[0m\u001b[0;34m)\u001b[0m\u001b[0;34m\u001b[0m\u001b[0;34m\u001b[0m\u001b[0m\n\u001b[0m\u001b[1;32m      7\u001b[0m   \u001b[0;32mreturn\u001b[0m \u001b[0mdict\u001b[0m\u001b[0;34m\u001b[0m\u001b[0;34m\u001b[0m\u001b[0m\n\u001b[1;32m      8\u001b[0m \u001b[0mprint\u001b[0m\u001b[0;34m(\u001b[0m\u001b[0mcounting\u001b[0m\u001b[0;34m(\u001b[0m\u001b[0;34m\"AaBbCc\"\u001b[0m\u001b[0;34m)\u001b[0m\u001b[0;34m)\u001b[0m\u001b[0;34m\u001b[0m\u001b[0;34m\u001b[0m\u001b[0m\n",
            "\u001b[0;31mTypeError\u001b[0m: count() takes at least 1 argument (0 given)"
          ]
        }
      ]
    },
    {
      "cell_type": "code",
      "metadata": {
        "id": "dPYDUIX3zNpO"
      },
      "source": [
        "def count_letters(text):\r\n",
        "  result = {}\r\n",
        "  # Go through each letter in the text\r\n",
        "  for letter in text.lower():\r\n",
        "    # Check if the letter needs to be counted or not\r\n",
        "    if letter.isalpha() and letter not in result:\r\n",
        "    # Add or increment the value in the dictionary\r\n",
        "      result[letter] = text.lower().count(letter) \r\n",
        "  return result\r\n",
        "\r\n",
        "print(count_letters(\"AaBbCc\"))\r\n",
        "# Should be {'a': 2, 'b': 2, 'c': 2}\r\n",
        "\r\n",
        "print(count_letters(\"Math is fun! 2+2=4\"))\r\n",
        "# Should be {'m': 1, 'a': 1, 't': 1, 'h': 1, 'i': 1, 's': 1, 'f': 1, 'u': 1, 'n': 1}\r\n",
        "\r\n",
        "print(count_letters(\"This is a sentence.\"))\r\n",
        "# Should be {'t': 2, 'h': 1, 'i': 2, 's': 3, 'a': 1, 'e': 3, 'n': 2, 'c': 1}"
      ],
      "execution_count": null,
      "outputs": []
    },
    {
      "cell_type": "code",
      "metadata": {
        "colab": {
          "base_uri": "https://localhost:8080/"
        },
        "id": "lVKnjzA60IRI",
        "outputId": "05a4e0f7-38c3-40de-9ac6-6f27d8b28482"
      },
      "source": [
        "string = \"Hello $#! People   Whitespace 7331\"\r\n",
        "print(''.join(e for e in string if e.isalpha()))\r\n"
      ],
      "execution_count": null,
      "outputs": [
        {
          "output_type": "stream",
          "text": [
            "HelloPeopleWhitespace\n"
          ],
          "name": "stdout"
        }
      ]
    },
    {
      "cell_type": "code",
      "metadata": {
        "id": "Czi1GKR60ThY"
      },
      "source": [
        ""
      ],
      "execution_count": null,
      "outputs": []
    }
  ]
}