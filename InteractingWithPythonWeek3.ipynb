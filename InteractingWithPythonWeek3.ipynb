{
  "nbformat": 4,
  "nbformat_minor": 0,
  "metadata": {
    "colab": {
      "name": "InteractingWithPythonWeek3.ipynb",
      "provenance": [],
      "collapsed_sections": [],
      "authorship_tag": "ABX9TyM4uc87h3uiJaILRy2AiZH9",
      "include_colab_link": true
    },
    "kernelspec": {
      "name": "python3",
      "display_name": "Python 3"
    }
  },
  "cells": [
    {
      "cell_type": "markdown",
      "metadata": {
        "id": "view-in-github",
        "colab_type": "text"
      },
      "source": [
        "<a href=\"https://colab.research.google.com/github/nksharma063/it-cert-automation-practice/blob/master/InteractingWithPythonWeek3.ipynb\" target=\"_parent\"><img src=\"https://colab.research.google.com/assets/colab-badge.svg\" alt=\"Open In Colab\"/></a>"
      ]
    },
    {
      "cell_type": "markdown",
      "metadata": {
        "id": "yuVP3c83sx8U"
      },
      "source": [
        "REGEX : Any statement through which we can find text of a particular pattern in a file code database etc."
      ]
    },
    {
      "cell_type": "code",
      "metadata": {
        "id": "tNd5f_utsxmq"
      },
      "source": [
        "import re"
      ],
      "execution_count": null,
      "outputs": []
    },
    {
      "cell_type": "markdown",
      "metadata": {
        "id": "t6SEx03RtlTy"
      },
      "source": [
        "One way to find some string is using index method to find the string and then use slices for different method."
      ]
    },
    {
      "cell_type": "code",
      "metadata": {
        "colab": {
          "base_uri": "https://localhost:8080/"
        },
        "id": "RpjAfEizqeJP",
        "outputId": "a9801499-27fc-4bc1-8a6e-40525a5e3e89"
      },
      "source": [
        "a = \"qwertyuiopasdfg[1,2,3,4,5]\"\r\n",
        "find_index = a.index(\"[\")\r\n",
        "print(a[find_index:find_index+11])"
      ],
      "execution_count": null,
      "outputs": [
        {
          "output_type": "stream",
          "text": [
            "[1,2,3,4,5]\n"
          ],
          "name": "stdout"
        }
      ]
    },
    {
      "cell_type": "code",
      "metadata": {
        "id": "kG5NM9gktOVE",
        "colab": {
          "base_uri": "https://localhost:8080/"
        },
        "outputId": "01b7e611-2481-4ab6-abe1-d9b7a85462fc"
      },
      "source": [
        "log = \"July3107:51:48mycomputerbad_process[12345]:ERRORPerformingPackageupgrade\"\r\n",
        "regex = r\"\\[(\\d+)\\]\"\r\n",
        "result = re.search(regex,log)\r\n",
        "print(result)"
      ],
      "execution_count": null,
      "outputs": [
        {
          "output_type": "stream",
          "text": [
            "<_sre.SRE_Match object; span=(39, 46), match='[12345]'>\n"
          ],
          "name": "stdout"
        }
      ]
    },
    {
      "cell_type": "markdown",
      "metadata": {
        "id": "Q1Gei2AATjBl"
      },
      "source": [
        "Grep command is very useful in linux file structures"
      ]
    },
    {
      "cell_type": "code",
      "metadata": {
        "colab": {
          "base_uri": "https://localhost:8080/"
        },
        "id": "_Uh-qwIZQy1F",
        "outputId": "192ac409-4ebf-4bd3-eca8-8c18f1b1cf6a"
      },
      "source": [
        "log = \"July 31 07:51:48 mycomputer bad_process[12345]: ERROR Performing Package upgrade\"\r\n",
        "#a =re.search(r\"mycomputer\",\"July3107:51:48mycomputerbad_process[12345]:ERROR Performing Package upgrade\")\r\n",
        "#print(a)\r\n",
        "#grep '12345' log # file location\r\n",
        "#grep -i J.y log #/a/a/a # -i parameter for ignoring the string case and then followed by location\r\n",
        "#grep l.rts /a/a/a/ or grep a.z /a/a/a/a/# will include all files from l to rts ,any words starts with l and ends with rts having anything in between them.\r\n",
        "#grep ^WORD /a/a/a/ # will search any word start with WORD , ^ used to search a word at the end in case of line it will check just one word at te begininng \r\n",
        "#grep WORD$ /a/a/a/ # will seacrh any word end with cat $ used to search  the WORD at the end of statement. In case of statement it will just look the word at the dnd of it \r\n",
        "a = re.search(r\"^July\", log)\r\n",
        "print(a)\r\n",
        "b = re.search(r\"upgrade$\", log)\r\n",
        "print(b)\r\n",
        "c = re.search(r\"Ju.y\",log)\r\n",
        "print(c)\r\n",
        "d = re.search(r\"u.g\",log)\r\n",
        "print(d)\r\n",
        "e = re.search(r\"e.r.r\",log,re.IGNORECASE)\r\n",
        "print(e)"
      ],
      "execution_count": null,
      "outputs": [
        {
          "output_type": "stream",
          "text": [
            "<_sre.SRE_Match object; span=(0, 4), match='July'>\n",
            "<_sre.SRE_Match object; span=(73, 80), match='upgrade'>\n",
            "<_sre.SRE_Match object; span=(0, 4), match='July'>\n",
            "<_sre.SRE_Match object; span=(73, 76), match='upg'>\n",
            "<_sre.SRE_Match object; span=(48, 53), match='ERROR'>\n"
          ],
          "name": "stdout"
        }
      ]
    },
    {
      "cell_type": "code",
      "metadata": {
        "id": "S7ipKFlSUhO0"
      },
      "source": [
        "re.findall()\r\n",
        "re.match()\r\n",
        "re.search()"
      ],
      "execution_count": null,
      "outputs": []
    },
    {
      "cell_type": "markdown",
      "metadata": {
        "id": "Gh4q01w-lQME"
      },
      "source": [
        "Fill in the code to check if the text passed contains the vowels a, e and i, with exactly one occurrence of any other character in between."
      ]
    },
    {
      "cell_type": "code",
      "metadata": {
        "id": "bpPeubRKlR3_"
      },
      "source": [
        "import re\r\n",
        "def check_aei (text):\r\n",
        "  result = re.search(r\"a.e.i\", text)\r\n",
        "  return result != None\r\n",
        "\r\n",
        "print(check_aei(\"academia\")) # True\r\n",
        "print(check_aei(\"aerial\")) # False\r\n",
        "print(check_aei(\"paramedic\")) # True"
      ],
      "execution_count": null,
      "outputs": []
    },
    {
      "cell_type": "code",
      "metadata": {
        "colab": {
          "base_uri": "https://localhost:8080/",
          "height": 129
        },
        "id": "KNvpD5B4QLsn",
        "outputId": "d8ce9e08-acaf-478c-c8e8-a3f54235c34f"
      },
      "source": [
        "import re\r\n",
        "log = \"July 31 07:51:48 mycomputer bad_process[12345]: ERROR Performing Package upgrade\"\r\n",
        "a =  re.search(r\"[a-z]computer\", log)\r\n",
        "print(a)\r\n",
        "b = re.search(r\"[A-Za-z]rror\", log, re.IGNORECASE)\r\n",
        "print(b)\r\n",
        "c = re.search(r\"[A-Z0-9a-z]\", log)\r\n",
        "print(c)\r\n",
        "d = re.search(r\"[^A-Za-z0-9 ]\", log)\r\n",
        "print(d)\r\n",
        "e = re.search(r\"[^A-Za-z0-9 ]\", log)\r\n",
        "print(e)\r\n",
        "f = re.search(r\"mycompter|EROR|12345\",log)\r\n",
        "print(f)\r\n",
        "g = re.search(r\"J.*e\", log)\r\n",
        "print(g)\r\n",
        "h = re.search(r\"J[a-zA-Z0-9:]*e\",log)\r\n",
        "print(h)"
      ],
      "execution_count": null,
      "outputs": [
        {
          "output_type": "error",
          "ename": "SyntaxError",
          "evalue": "ignored",
          "traceback": [
            "\u001b[0;36m  File \u001b[0;32m\"<ipython-input-34-860358a7e10d>\"\u001b[0;36m, line \u001b[0;32m17\u001b[0m\n\u001b[0;31m    h = re.search(r\"J[a-zA-Z0-9:*\u001b[0m\n\u001b[0m                                 ^\u001b[0m\n\u001b[0;31mSyntaxError\u001b[0m\u001b[0;31m:\u001b[0m EOL while scanning string literal\n"
          ]
        }
      ]
    },
    {
      "cell_type": "markdown",
      "metadata": {
        "id": "0zUGMtzzSqX_"
      },
      "source": [
        "Example2"
      ]
    },
    {
      "cell_type": "code",
      "metadata": {
        "id": "kasBRYVzSnFA"
      },
      "source": [
        "import re\r\n",
        "def check_punctuation (text):\r\n",
        "  result = re.search(r\"[,.:;?!]\", text)\r\n",
        "  return result != None\r\n",
        "\r\n",
        "print(check_punctuation(\"This is a sentence that ends with a period.\")) # True\r\n",
        "print(check_punctuation(\"This is a sentence fragment without a period\")) # False\r\n",
        "print(check_punctuation(\"Aren't regular expressions awesome?\")) # True\r\n",
        "print(check_punctuation(\"Wow! We're really picking up some steam now!\")) # True\r\n",
        "print(check_punctuation(\"End of the line\")) # False"
      ],
      "execution_count": null,
      "outputs": []
    },
    {
      "cell_type": "code",
      "metadata": {
        "id": "tKTKN1RBSs3E"
      },
      "source": [
        "import re\r\n",
        "def repeating_letter_a(text):\r\n",
        "  result = re.search(r\"[a].*[A]\", text,re.IGNORECASE)\r\n",
        "  return result != None\r\n",
        "\r\n",
        "print(repeating_letter_a(\"banana\")) # True\r\n",
        "print(repeating_letter_a(\"pineapple\")) # False\r\n",
        "print(repeating_letter_a(\"Animal Kingdom\")) # True\r\n",
        "print(repeating_letter_a(\"A is for apple\")) # True"
      ],
      "execution_count": null,
      "outputs": []
    },
    {
      "cell_type": "markdown",
      "metadata": {
        "id": "kwvhtC_x4BrI"
      },
      "source": [
        ""
      ]
    },
    {
      "cell_type": "code",
      "metadata": {
        "colab": {
          "base_uri": "https://localhost:8080/"
        },
        "id": "WbvisQtP4C5U",
        "outputId": "bab5bb3e-cff9-43fa-a7ff-4614b5915fe6"
      },
      "source": [
        "log = \"July 31 07:51:48 mycomputer bad_process[12345]: ERROR Performing Package upgrade\"\r\n",
        "a = re.search(r\"u?pgrade\",log)\r\n",
        "print(a)"
      ],
      "execution_count": null,
      "outputs": [
        {
          "output_type": "stream",
          "text": [
            "<_sre.SRE_Match object; span=(73, 80), match='upgrade'>\n"
          ],
          "name": "stdout"
        }
      ]
    },
    {
      "cell_type": "code",
      "metadata": {
        "colab": {
          "base_uri": "https://localhost:8080/"
        },
        "id": "H7MSgAgE8eeU",
        "outputId": "ac7d1fbe-e7cc-4126-9967-b146f0b82ab2"
      },
      "source": [
        "log = \"July 31 07:51:48 mycomputer bad_process[12345]: ERROR Performing Package upgrade\"\r\n",
        "a = re.search(r\"\\w+\\s+\\w+\",log)\r\n",
        "print(a)"
      ],
      "execution_count": null,
      "outputs": [
        {
          "output_type": "stream",
          "text": [
            "<_sre.SRE_Match object; span=(0, 7), match='July 31'>\n"
          ],
          "name": "stdout"
        }
      ]
    },
    {
      "cell_type": "markdown",
      "metadata": {
        "id": "1-ReBT-E6vSa"
      },
      "source": [
        "/w* # any character\r\n",
        "/d # any digists\r\n",
        "/b\r\n",
        "\\.com will read as .com "
      ]
    },
    {
      "cell_type": "markdown",
      "metadata": {
        "id": "m1jaOru8SmrA"
      },
      "source": [
        "Fill in the code to check if the text passed has at least 2 groups of alphanumeric characters (including letters, numbers, and underscores) separated by one or more whitespace characters.\r\n",
        "\r\n"
      ]
    },
    {
      "cell_type": "code",
      "metadata": {
        "id": "UuFGkInsxQuh"
      },
      "source": [
        "import re\r\n",
        "def check_character_groups(text):\r\n",
        "  result = re.search(r\"\\w+\\s\\w+\", text)\r\n",
        "  return result != None\r\n",
        "\r\n",
        "print(check_character_groups(\"One\")) # False\r\n",
        "print(check_character_groups(\"123  Ready Set GO\")) # True\r\n",
        "print(check_character_groups(\"username user_01\")) # True\r\n",
        "print(check_character_groups(\"shopping_list: milk, bread, eggs.\")) # False"
      ],
      "execution_count": null,
      "outputs": []
    },
    {
      "cell_type": "code",
      "metadata": {
        "id": "IAAtn2u03ltg"
      },
      "source": [
        "import re\r\n",
        "def check_character_groups(text):\r\n",
        "  result = re.search(r\"\\w\\s\\s?\\w\", text)\r\n",
        "  return result != None"
      ],
      "execution_count": null,
      "outputs": []
    },
    {
      "cell_type": "markdown",
      "metadata": {
        "id": "gBUQ8iuB5F3V"
      },
      "source": [
        "More xamples "
      ]
    },
    {
      "cell_type": "markdown",
      "metadata": {
        "id": "021srYOFVUO_"
      },
      "source": [
        "# New Section"
      ]
    },
    {
      "cell_type": "code",
      "metadata": {
        "colab": {
          "base_uri": "https://localhost:8080/"
        },
        "id": "rXAtqOWz5Hfq",
        "outputId": "703dffdd-e7c4-4276-ab02-d7c686ef8b4c"
      },
      "source": [
        "import re\r\n",
        "print(re.search(r\"A.*a\", \"Argentina\"))\r\n",
        "print(re.search(r\"A.*a\", \"Azerbaijan\"))\r\n",
        "print(re.search(r\"^A.*a$\", \"Azerbaijan\"))\r\n",
        "print(re.search(r\"^A.*a$\", \"Australia\"))"
      ],
      "execution_count": null,
      "outputs": [
        {
          "output_type": "stream",
          "text": [
            "<_sre.SRE_Match object; span=(0, 9), match='Argentina'>\n",
            "<_sre.SRE_Match object; span=(0, 9), match='Azerbaija'>\n",
            "None\n",
            "<_sre.SRE_Match object; span=(0, 9), match='Australia'>\n"
          ],
          "name": "stdout"
        }
      ]
    },
    {
      "cell_type": "code",
      "metadata": {
        "id": "U2NTUnv25s2T"
      },
      "source": [
        "import re\r\n",
        "def check_sentence(text):\r\n",
        "  result = re.search(r\"^[A-Z][a-z| ].*[.?!]$\", text)\r\n",
        "  return result != None\r\n",
        "\r\n",
        "print(check_sentence(\"Is this is a sentence?\")) # True\r\n",
        "print(check_sentence(\"is this is a sentence?\")) # False\r\n",
        "print(check_sentence(\"Hello\")) # False\r\n",
        "print(check_sentence(\"1-2-3-GO!\")) # False\r\n",
        "print(check_sentence(\"A star is born.\")) # True"
      ],
      "execution_count": null,
      "outputs": []
    },
    {
      "cell_type": "markdown",
      "metadata": {
        "id": "BSeKqWlkgoJx"
      },
      "source": [
        "The check_web_address function checks if the text passed qualifies as a top-level web address, meaning that it contains alphanumeric characters (which includes letters, numbers, and underscores), as well as periods, dashes, and a plus sign, followed by a period and a character-only top-level domain such as \".com\", \".info\", \".edu\", etc. Fill in the regular expression to do that, using escape characters, wildcards, repetition qualifiers, beginning and end-of-line characters, and character classes."
      ]
    },
    {
      "cell_type": "code",
      "metadata": {
        "id": "V2mXJhYFgtN-"
      },
      "source": [
        "import re\r\n",
        "def check_web_address(text):\r\n",
        "  pattern = r\"^\\S+\\.[a-zA-Z]+$\"\r\n",
        "  result = re.search(pattern, text)\r\n",
        "  return result != None\r\n",
        "\r\n",
        "print(check_web_address(\"gmail.com\")) # True\r\n",
        "print(check_web_address(\"www@google\")) # False\r\n",
        "print(check_web_address(\"www.Coursera.org\")) # True\r\n",
        "print(check_web_address(\"web-address.com/homepage\")) # False\r\n",
        "print(check_web_address(\"My_Favorite-Blog.US\")) # True\r\n"
      ],
      "execution_count": null,
      "outputs": []
    },
    {
      "cell_type": "markdown",
      "metadata": {
        "id": "EKh85PJsgzE5"
      },
      "source": [
        "The check_time function checks for the time format of a 12-hour clock, as follows: the hour is between 1 and 12, with no leading zero, followed by a colon, then minutes between 00 and 59, then an optional space, and then AM or PM, in upper or lower case. Fill in the regular expression to do that. How many of the concepts that you just learned can you use here?\r\n",
        "\r\n"
      ]
    },
    {
      "cell_type": "code",
      "metadata": {
        "id": "PgJb57Lrg3H3"
      },
      "source": [
        "import re\r\n",
        "def check_time(text):\r\n",
        "  pattern = \"[1-9][0-2]?:[0-5][0-9] ?[am|pm|AM|PM]\"\r\n",
        "  result = re.search(pattern, text,re.IGNORECASE)\r\n",
        "  return result != None\r\n",
        "\r\n",
        "print(check_time(\"12:45pm\")) # True\r\n",
        "print(check_time(\"9:59 AM\")) # True\r\n",
        "print(check_time(\"6:60am\")) # False\r\n",
        "print(check_time(\"five o'clock\")) # False"
      ],
      "execution_count": null,
      "outputs": []
    },
    {
      "cell_type": "markdown",
      "metadata": {
        "id": "5HHacZlzh3yT"
      },
      "source": [
        "The contains_acronym function checks the text for the presence of 2 or more characters or digits surrounded by parentheses, with at least the first character in uppercase (if it’s a letter), returning True if the condition is met, or False otherwise. For example, “Instant messaging (IM) is a set of communication technologies used for text-based communication” should return True since (IM) satisfies the match conditions.” Fill in the regular expression in this function:"
      ]
    },
    {
      "cell_type": "code",
      "metadata": {
        "id": "6nFJxgj5h4Mg"
      },
      "source": [
        "import re\r\n",
        "def contains_acronym(text):\r\n",
        "pattern = r\"\\([A-Z1-9][a-zA-Z1-9]*\\)\"\r\n",
        "result = re.search(pattern, text)\r\n",
        "return result != None\r\n",
        "print(contains_acronym(\"Instant messaging (IM) is a set of communication technologies used for text-based communication\")) # True\r\n",
        "print(contains_acronym(\"American Standard Code for Information Interchange (ASCII) is a character encoding standard for electronic communication\")) # True\r\n",
        "print(contains_acronym(\"Please do NOT enter without permission!\")) # False\r\n",
        "print(contains_acronym(\"PostScript is a fourth-generation programming language (4GL)\")) # True\r\n",
        "print(contains_acronym(\"Have fun using a self-contained underwater breathing apparatus (Scuba)!\")) # True"
      ],
      "execution_count": null,
      "outputs": []
    },
    {
      "cell_type": "markdown",
      "metadata": {
        "id": "BXDsWMY3iSLn"
      },
      "source": [
        "Fill in the code to check if the text passed includes a possible U.S. zip code, formatted as follows: exactly 5 digits, and sometimes, but not always, followed by a dash with 4 more digits. The zip code needs to be preceded by at least one space, and cannot be at the start of the text.\r\n",
        "\r\n",
        "1 point\r\n"
      ]
    },
    {
      "cell_type": "code",
      "metadata": {
        "id": "nSPB7T1pizye"
      },
      "source": [
        "import re\r\n",
        "def check_zip_code (text):\r\n",
        "  result = re.search(r\"[ ]\\d{5}|[ ]\\d{5}-\\d{4}\", text)\r\n",
        "  return result != None\r\n",
        "\r\n",
        "print(check_zip_code(\"The zip codes for New York are 10001 thru 11104.\")) # True\r\n",
        "print(check_zip_code(\"90210 is a TV show\")) # False\r\n",
        "print(check_zip_code(\"Their address is: 123 Main Street, Anytown, AZ 85258-0001.\")) # True\r\n",
        "print(check_zip_code(\"The Parliament of Canada is at 111 Wellington St, Ottawa, ON K1A0A9.\")) # False"
      ],
      "execution_count": null,
      "outputs": []
    },
    {
      "cell_type": "markdown",
      "metadata": {
        "id": "e0p-FoWuHsUl"
      },
      "source": [
        "Capturing froup of letetrs"
      ]
    },
    {
      "cell_type": "code",
      "metadata": {
        "colab": {
          "base_uri": "https://localhost:8080/"
        },
        "id": "dNVxes37HvvY",
        "outputId": "a249493d-c21d-40c5-8c86-4162a0da2801"
      },
      "source": [
        "import re\r\n",
        "result = re.search(r\"^(\\w*), (\\w*)$\",\"Lovelace, Ada\")\r\n",
        "print(result)\r\n",
        "print(result.groups())\r\n",
        "print(result[0])\r\n",
        "print(result[1])\r\n",
        "print(result[2])\r\n",
        "print(\"{} {}\".format(result[2], result[1]))"
      ],
      "execution_count": 2,
      "outputs": [
        {
          "output_type": "stream",
          "text": [
            "<_sre.SRE_Match object; span=(0, 13), match='Lovelace, Ada'>\n",
            "('Lovelace', 'Ada')\n",
            "Lovelace, Ada\n",
            "Lovelace\n",
            "Ada\n",
            "Ada Lovelace\n"
          ],
          "name": "stdout"
        }
      ]
    },
    {
      "cell_type": "code",
      "metadata": {
        "id": "U1i2m4B1IYop"
      },
      "source": [
        "def rearrange_name(name):\r\n",
        "  result = re.search(r\"^(\\w*), (\\w*)$\", name)\r\n",
        "  if result is None:\r\n",
        "    return name\r\n",
        "  return \"{} {}\".format(result[2], result[1])"
      ],
      "execution_count": 3,
      "outputs": []
    },
    {
      "cell_type": "code",
      "metadata": {
        "id": "qATJx9XEJGER"
      },
      "source": [
        "import re\r\n",
        "result = re.search(r\"^(\\w{3,}) ?(\\w+)?, (\\w+) ?([A-Z]{1,2}\\.|\\w+)?$\", name) "
      ],
      "execution_count": null,
      "outputs": []
    },
    {
      "cell_type": "markdown",
      "metadata": {
        "id": "7sF8zAEzNQnt"
      },
      "source": [
        "Fix the regular expression used in rearrange name function so that it can match middle name , middle initials  as well as double surnames"
      ]
    },
    {
      "cell_type": "code",
      "metadata": {
        "colab": {
          "base_uri": "https://localhost:8080/"
        },
        "id": "UDBrlzJgNPlD",
        "outputId": "535c548b-ee92-460a-bcd1-ae395dd74602"
      },
      "source": [
        "import re\r\n",
        "def rearrange_name(name):\r\n",
        "  result = re.search(r\"^([\\w\\s\\.-]*), ([\\w\\s\\.-]*)$\", name)\r\n",
        "  if result == None:\r\n",
        "    return name\r\n",
        "  return \"{} {}\".format(result[2], result[1])\r\n",
        "\r\n",
        "name=rearrange_name(\"Kennedy, John F.\")\r\n",
        "print(name)"
      ],
      "execution_count": 4,
      "outputs": [
        {
          "output_type": "stream",
          "text": [
            "John F. Kennedy\n"
          ],
          "name": "stdout"
        }
      ]
    },
    {
      "cell_type": "markdown",
      "metadata": {
        "id": "c-VyvfmuR_IA"
      },
      "source": [
        "The long_words function returns all words that are at least 7 characters. Fill in the regular expression to complete this function."
      ]
    },
    {
      "cell_type": "code",
      "metadata": {
        "id": "kz0fmeQ-N4cm"
      },
      "source": [
        "import re\r\n",
        "def long_words(text):\r\n",
        "  pattern = r\"[\\w]{7,20}\"\r\n",
        "  result = re.findall(pattern, text)\r\n",
        "  return result\r\n",
        "\r\n",
        "print(long_words(\"I like to drink coffee in the morning.\")) # ['morning']\r\n",
        "print(long_words(\"I also have a taste for hot chocolate in the afternoon.\")) # ['chocolate', 'afternoon']\r\n",
        "print(long_words(\"I never drink tea late at night.\")) # []\r\n",
        "\r\n",
        "\r\n"
      ],
      "execution_count": null,
      "outputs": []
    },
    {
      "cell_type": "markdown",
      "metadata": {
        "id": "YjYi5IWOSJNS"
      },
      "source": [
        "coupe of examples"
      ]
    },
    {
      "cell_type": "code",
      "metadata": {
        "colab": {
          "base_uri": "https://localhost:8080/"
        },
        "id": "IQVBZKtYSKfB",
        "outputId": "1e20e679-a378-40bf-90e7-6ab52b6ce72e"
      },
      "source": [
        "print(re.search(r\"[a-zA-Z]{5}\", \"a ghost\"))\r\n",
        "print(re.search(r\"[a-zA-Z]{5}\", \"a scary ghost apeared\"))\r\n",
        "print(re.findall(r\"[a-zA-Z]{5}\", \"a scary ghost apeared\"))\r\n",
        "print(re.findall(r\"\\b[a-zA-Z]{5}\\b\", \"a scary ghost apeared\"))\r\n",
        "print(re.findall(r\"\\w{5,10}\", \"i really like strawberries\"))\r\n",
        "print(re.findall(r\"\\w{5,}\", \"i really like strawberries\"))\r\n",
        "print(re.findall(r\"s\\w{,20}\", \"i really like strawberries\"))\r\n",
        "print(re.findall(r\"\\s\\w{,20}\", \"i really like strawberries\"))\r\n",
        "print(re.search(r\"r\\w{,20}\", \"i really like strawberries\"))\r\n"
      ],
      "execution_count": 17,
      "outputs": [
        {
          "output_type": "stream",
          "text": [
            "<_sre.SRE_Match object; span=(2, 7), match='ghost'>\n",
            "<_sre.SRE_Match object; span=(2, 7), match='scary'>\n",
            "['scary', 'ghost', 'apear']\n",
            "['scary', 'ghost']\n",
            "['really', 'strawberri']\n",
            "['really', 'strawberries']\n",
            "['strawberries']\n",
            "[' really', ' like', ' strawberries']\n",
            "<_sre.SRE_Match object; span=(2, 8), match='really'>\n"
          ],
          "name": "stdout"
        }
      ]
    },
    {
      "cell_type": "code",
      "metadata": {
        "colab": {
          "base_uri": "https://localhost:8080/"
        },
        "id": "YVHYcutSSZ_9",
        "outputId": "0372befa-2355-43f9-cb6b-88599debe81b"
      },
      "source": [
        "log = \"July 31 07:51:48 mycomputer bad_process[12345]: ERROR Performing Package upgrade\"\r\n",
        "regex = r\"\\[(\\d+)\\]\"\r\n",
        "result = re.search(regex, log)\r\n",
        "print(result[1])\r\n",
        "result1 = re.search(regex, \"A completely different string that also has numbers [34567]\")"
      ],
      "execution_count": 19,
      "outputs": [
        {
          "output_type": "stream",
          "text": [
            "12345\n",
            "34567\n"
          ],
          "name": "stdout"
        }
      ]
    },
    {
      "cell_type": "code",
      "metadata": {
        "id": "hjczSYY5hTmS"
      },
      "source": [
        "def extract_pid(log):\r\n",
        "  regex = r\"\\[(\\d+)\\]\"\r\n",
        "  result = re.search(regex, log)\r\n",
        "  if result is None:\r\n",
        "    return \"\"\r\n",
        "  return result[1]"
      ],
      "execution_count": null,
      "outputs": []
    },
    {
      "cell_type": "markdown",
      "metadata": {
        "id": "dFzresmBkO3V"
      },
      "source": [
        "Add to the regular expression used in the extract_pid function, to return the uppercase message in parenthesis, after the process id."
      ]
    },
    {
      "cell_type": "code",
      "metadata": {
        "id": "GSKJS3MMkUL2"
      },
      "source": [
        "import re\r\n",
        "def extract_pid(log_line):\r\n",
        "    regex = r\"\\[(\\d+)\\]\\: (\\w+)\"\r\n",
        "    result = re.search(regex, log_line)\r\n",
        "    if result is None:\r\n",
        "        return None\r\n",
        "    return \"{} ({})\".format(result[1],result[2])\r\n",
        "\r\n",
        "print(extract_pid(\"July 31 07:51:48 mycomputer bad_process[12345]: ERROR Performing package upgrade\")) # 12345 (ERROR)\r\n",
        "print(extract_pid(\"99 elephants in a [cage]\")) # None\r\n",
        "print(extract_pid(\"A string that also has numbers [34567] but no uppercase message\")) # None\r\n",
        "print(extract_pid(\"July 31 08:08:08 mycomputer new_process[67890]: RUNNING Performing backup\")) # 67890 (RUNNING)\r\n"
      ],
      "execution_count": null,
      "outputs": []
    },
    {
      "cell_type": "markdown",
      "metadata": {
        "id": "q1u-OPFJmG1U"
      },
      "source": [
        "few other funcitons in regex"
      ]
    },
    {
      "cell_type": "code",
      "metadata": {
        "colab": {
          "base_uri": "https://localhost:8080/"
        },
        "id": "Ec_1a-IFmLB7",
        "outputId": "4fdf1a88-f4cb-4361-baab-d8dd4e3a0bbd"
      },
      "source": [
        "print(re.split(r\"[.?!]\", \"One sentence. Another one? And the other one!\"))\r\n",
        "print(re.split(r\"([.?!])\", \"One sentence. Another one? And the other one!\"))\r\n",
        "print(re.sub(r\"[\\w.%+-]+@[\\w.-]+\", \"[REDATED]\",\"reciecved an email for go_nuts95@my.example.com\"))\r\n",
        "print(re.sub(r\"^([\\w .-]*), ([\\w .-]*)$\", r\"\\2 \\1\", \"Lovelace, Ada\"))"
      ],
      "execution_count": 22,
      "outputs": [
        {
          "output_type": "stream",
          "text": [
            "['One sentence', ' Another one', ' And the other one', '']\n",
            "['One sentence', '.', ' Another one', '?', ' And the other one', '!', '']\n",
            "reciecved an email for [REDATED]\n",
            "Ada Lovelace\n"
          ],
          "name": "stdout"
        }
      ]
    },
    {
      "cell_type": "markdown",
      "metadata": {
        "id": "9nFhbiP6qPzA"
      },
      "source": [
        "We want to split a piece of text by either the word \"a\" or \"the\", as implemented in the following code. What is the resulting split list?"
      ]
    },
    {
      "cell_type": "code",
      "metadata": {
        "colab": {
          "base_uri": "https://localhost:8080/"
        },
        "id": "CbaytKR-n0M7",
        "outputId": "9f7d0b31-e6e5-4525-b1b5-f2eb2bfd68f2"
      },
      "source": [
        "print(re.split(r\"the|a\", \"One sentence. Another one? And the last one!\"))"
      ],
      "execution_count": 23,
      "outputs": [
        {
          "output_type": "stream",
          "text": [
            "['One sentence. Ano', 'r one? And ', ' l', 'st one!']\n"
          ],
          "name": "stdout"
        }
      ]
    },
    {
      "cell_type": "markdown",
      "metadata": {
        "id": "EYZtDPT7wQB_"
      },
      "source": [
        "Practice Quiz\r\n",
        "ques 5 The convert_phone_number function checks for a U.S. phone number format: XXX-XXX-XXXX (3 digits followed by a dash, 3 more digits followed by a dash, and 4 digits), and converts it to a more formal format that looks like this: (XXX) XXX-XXXX. Fill in the regular expression to complete this function."
      ]
    },
    {
      "cell_type": "code",
      "metadata": {
        "id": "C9hLafhtq_UA"
      },
      "source": [
        "import re\r\n",
        "def convert_phone_number(phone):\r\n",
        "  result = re.sub(r\"\\b(\\d{3})-(\\d{3})-(\\d{4})\\b\",r\"(\\1) \\2-\\3\", phone)\r\n",
        "  return result\r\n",
        "\r\n",
        "print(convert_phone_number(\"My number is 212-345-9999.\")) # My number is (212) 345-9999.\r\n",
        "print(convert_phone_number(\"Please call 888-555-1234\")) # Please call (888) 555-1234\r\n",
        "print(convert_phone_number(\"123-123-12345\")) # 123-123-12345\r\n",
        "print(convert_phone_number(\"Phone number of Buckingham Palace is +44 303 123 7300\")) # Phone number of Buckingham Palace is +44 303 123 7300"
      ],
      "execution_count": null,
      "outputs": []
    },
    {
      "cell_type": "markdown",
      "metadata": {
        "id": "NdZyVD2ww9Ya"
      },
      "source": [
        "ques4 Question 22- The transform_comments function converts comments in a Python script into those usable by a C compiler. This means looking for text that begins with a hash mark (#) and replacing it with double slashes (//), which is the C single-line comment indicator. For the purpose of this exercise, we’ll ignore the possibility of a hash mark embedded inside of a Python command, and assume that it’s only used to indicate a comment. We also want to treat repetitive hash marks (##), (###), etc., as a single comment indicator, to be replaced with just (//) and not (#//) or (//#). Fill in the parameters of the substitution method to complete this function:"
      ]
    },
    {
      "cell_type": "code",
      "metadata": {
        "id": "OTCFDH4Mw_HG"
      },
      "source": [
        "import re\r\n",
        "def transform_comments(line_of_code):\r\n",
        "  result = re.sub(r\"[\\#]{1,}\", \"//\",line_of_code)\r\n",
        "  return result\r\n",
        "\r\n",
        "print(transform_comments(\"### Start of program\")) \r\n",
        "# Should be \"// Start of program\"\r\n",
        "print(transform_comments(\"  number = 0   ## Initialize the variable\")) \r\n",
        "# Should be \"  number = 0   // Initialize the variable\"\r\n",
        "print(transform_comments(\"  number += 1   # Increment the variable\")) \r\n",
        "# Should be \"  number += 1   // Increment the variable\"\r\n",
        "print(transform_comments(\"  return(number)\")) \r\n",
        "# Should be \"  return(number)\""
      ],
      "execution_count": null,
      "outputs": []
    },
    {
      "cell_type": "markdown",
      "metadata": {
        "id": "CYLJWMOOy1iB"
      },
      "source": [
        "ques1 We're working with a CSV file, which contains employee information. Each record has a name field, followed by a phone number field, and a role field. The phone number field contains U.S. phone numbers, and needs to be modified to the international format, with \"+1-\" in front of the phone number. Fill in the regular expression, using groups, to use the transform_record function to do that."
      ]
    },
    {
      "cell_type": "code",
      "metadata": {
        "id": "jj2i_MZZy3sN"
      },
      "source": [
        "import re\r\n",
        "def transform_record(record):\r\n",
        "  new_record = re.sub(r\",(\\d{3})\",r\",+1-\\1\",record)\r\n",
        "  return new_record\r\n",
        "\r\n",
        "print(transform_record(\"Sabrina Green,802-867-5309,System Administrator\")) \r\n",
        "# Sabrina Green,+1-802-867-5309,System Administrator\r\n",
        "\r\n",
        "print(transform_record(\"Eli Jones,684-3481127,IT specialist\")) \r\n",
        "# Eli Jones,+1-684-3481127,IT specialist\r\n",
        "\r\n",
        "print(transform_record(\"Melody Daniels,846-687-7436,Programmer\")) \r\n",
        "# Melody Daniels,+1-846-687-7436,Programmer\r\n",
        "\r\n",
        "print(transform_record(\"Charlie Rivera,698-746-3357,Web Developer\")) \r\n",
        "# Charlie Rivera,+1-698-746-3357,Web Developer"
      ],
      "execution_count": null,
      "outputs": []
    },
    {
      "cell_type": "markdown",
      "metadata": {
        "id": "WHFp1yQLy6vP"
      },
      "source": [
        "ques2 The multi_vowel_words function returns all words with 3 or more consecutive vowels (a, e, i, o, u). Fill in the regular expression to do that."
      ]
    },
    {
      "cell_type": "code",
      "metadata": {
        "id": "RoDGXJPxy-Dy"
      },
      "source": [
        "import re\r\n",
        "def multi_vowel_words(text):\r\n",
        "  pattern = r\"(\\w+[a,e,i,o,u]{3,}\\w+)\"\r\n",
        "  result = re.findall(pattern, text)\r\n",
        "  return result\r\n",
        "\r\n",
        "print(multi_vowel_words(\"Life is beautiful\")) \r\n",
        "# ['beautiful']\r\n",
        "\r\n",
        "print(multi_vowel_words(\"Obviously, the queen is courageous and gracious.\")) \r\n",
        "# ['Obviously', 'queen', 'courageous', 'gracious']\r\n",
        "\r\n",
        "print(multi_vowel_words(\"The rambunctious children had to sit quietly and await their delicious dinner.\")) \r\n",
        "# ['rambunctious', 'quietly', 'delicious']\r\n",
        "\r\n",
        "print(multi_vowel_words(\"The order of a data queue is First In First Out (FIFO)\")) \r\n",
        "# ['queue']\r\n",
        "\r\n",
        "print(multi_vowel_words(\"Hello world!\")) \r\n",
        "# []"
      ],
      "execution_count": null,
      "outputs": []
    },
    {
      "cell_type": "markdown",
      "metadata": {
        "id": "Eury9_UdIsHK"
      },
      "source": [
        "Problem Statement\r\n",
        "It's time to put your new skills to the test! In this lab, you'll have to find the users using an old email domain in a big list using regular expressions. To do so, you'll need to write a script that includes:\r\n",
        "\r\n",
        "Replacing the old domain name (abc.edu) with a new domain name (xyz.edu).\r\n",
        "Storing all domain names, including the updated ones, in a new file\r\n"
      ]
    },
    {
      "cell_type": "code",
      "metadata": {
        "id": "dPO9-uU8ItuN"
      },
      "source": [
        "def contains_domain(address, domain):\r\n",
        "  domain_pattern = r'[\\w\\.-]+@'+domain+'$'\r\n",
        "  if re.match(domain_pattern, address):\r\n",
        "    return True\r\n",
        "  return False\r\n",
        "def replace_domain(address, old_domain, new_domain):\r\n",
        "  old_domain_pattern = r'' + old_domain + '$'\r\n",
        "  address = re.sub(old_domain_pattern, new_domain, address)\r\n",
        "  return address\r\n",
        "old_domain, new_domain = 'abc.edu', 'xyz.edu'\r\n",
        "csv_file_location = '<csv-file-location>'\r\n",
        "report_file =  '<data-directory>' + '/updated_user_emails.csv'\r\n",
        "\r\n",
        "user_email_list = []\r\n",
        "old_domain_email_list = []\r\n",
        "new_domain_email_list = []\r\n",
        "with open(csv_file_location, 'r') as f:\r\n",
        "    user_data_list = list(csv.reader(f))\r\n",
        "    user_email_list = [data[1].strip() for data in user_data_list[1:]]\r\n",
        "    for email_address in user_email_list:\r\n",
        "      if contains_domain(email_address, old_domain):\r\n",
        "        old_domain_email_list.append(email_address)\r\n",
        "        replaced_email = replace_domain(email_address, old_domain, new_domain)\r\n",
        "        new_domain_email_list.append(replaced_email)\r\n",
        "    email_key = ' ' + 'Email Address'\r\n",
        "    email_index = user_data_list[0].index(email_key)\r\n",
        "    for user in user_data_list[1:]:\r\n",
        "      for old_domain, new_domain in zip(old_domain_email_list, new_domain_email_list):\r\n",
        "        if user[email_index] == ' ' + old_domain:\r\n",
        "          user[email_index] = ' ' + new_domain\r\n",
        "    f.close()\r\n",
        "    with open(report_file, 'w+') as output_file:\r\n",
        "    writer = csv.writer(output_file)\r\n",
        "    writer.writerows(user_data_list)\r\n",
        "    output_file.close()\r\n",
        "main()"
      ],
      "execution_count": null,
      "outputs": []
    },
    {
      "cell_type": "markdown",
      "metadata": {
        "id": "gnuqoLOFJjbo"
      },
      "source": [
        "incase we missed sometjing another copy oaster"
      ]
    },
    {
      "cell_type": "code",
      "metadata": {
        "id": "vGlIEnu5Jm7L"
      },
      "source": [
        "#!/usr/bin/env python3\r\n",
        "\r\n",
        "import re\r\n",
        "import csv\r\n",
        "\r\n",
        "\r\n",
        "def contains_domain(address, domain):\r\n",
        "  \"\"\"Returns True if the email address contains the given,domain,in the domain position, false if not.\"\"\"\r\n",
        "  domain = r'[\\w\\.-]+@'+domain+'$'\r\n",
        "  if re.match(domain,address):\r\n",
        "    return True\r\n",
        "  return False\r\n",
        "\r\n",
        "\r\n",
        "def replace_domain(address, old_domain, new_domain):\r\n",
        "  \"\"\"Replaces the old domain with the new domain in the received address.\"\"\"\r\n",
        "  old_domain_pattern = r'' + old_domain + '$'\r\n",
        "  address = re.sub(old_domain_pattern, new_domain, address)\r\n",
        "  return address\r\n",
        "\r\n",
        "def main():\r\n",
        "  \"\"\"Processes the list of emails, replacing any instances of the old domain with the new domain.\"\"\"\r\n",
        "  old_domain, new_domain = 'abc.edu', 'xyz.edu'\r\n",
        "  csv_file_location = '<csv_file_location>'\r\n",
        "  report_file = '<path_to_home_directory>' + '/updated_user_emails.csv'\r\n",
        "  user_email_list = []\r\n",
        "  old_domain_email_list = []\r\n",
        "  new_domain_email_list = []\r\n",
        "\r\n",
        "  with open(csv_file_location, 'r') as f:\r\n",
        "    user_data_list = list(csv.reader(f))\r\n",
        "    user_email_list = [data[1].strip() for data in user_data_list[1:]]\r\n",
        "\r\n",
        "    for email_address in user_email_list:\r\n",
        "      if contains_domain(email_address, old_domain):\r\n",
        "        old_domain_email_list.append(email_address)\r\n",
        "        replaced_email = replace_domain(email_address,old_domain,new_domain)\r\n",
        "        new_domain_email_list.append(replaced_email)\r\n",
        "\r\n",
        "    email_key = ' ' + 'Email Address'\r\n",
        "    email_index = user_data_list[0].index(email_key)\r\n",
        "\r\n",
        "    for user in user_data_list[1:]:\r\n",
        "      for old_domain, new_domain in zip(old_domain_email_list, new_domain_email_list):\r\n",
        "        if user[email_index] == ' ' + old_domain:\r\n",
        "          user[email_index] = ' ' + new_domain\r\n",
        "  f.close()\r\n",
        "\r\n",
        "  with open(report_file, 'w+') as output_file:\r\n",
        "    writer = csv.writer(output_file)\r\n",
        "    writer.writerows(user_data_list)\r\n",
        "    output_file.close()\r\n",
        "\r\n",
        "main()"
      ],
      "execution_count": null,
      "outputs": []
    }
  ]
}