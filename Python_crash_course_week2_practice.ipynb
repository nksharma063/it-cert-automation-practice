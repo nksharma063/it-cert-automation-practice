{
  "nbformat": 4,
  "nbformat_minor": 0,
  "metadata": {
    "colab": {
      "name": "Python_crash_course_week2_practice.ipynb",
      "provenance": [],
      "authorship_tag": "ABX9TyNAZcI2QHTCJOl4c/Fay3Eg",
      "include_colab_link": true
    },
    "kernelspec": {
      "name": "python3",
      "display_name": "Python 3"
    }
  },
  "cells": [
    {
      "cell_type": "markdown",
      "metadata": {
        "id": "view-in-github",
        "colab_type": "text"
      },
      "source": [
        "<a href=\"https://colab.research.google.com/github/nksharma063/it-cert-automation-practice/blob/master/Python_crash_course_week2_practice.ipynb\" target=\"_parent\"><img src=\"https://colab.research.google.com/assets/colab-badge.svg\" alt=\"Open In Colab\"/></a>"
      ]
    },
    {
      "cell_type": "markdown",
      "metadata": {
        "id": "igj9Qk84bT_R"
      },
      "source": [
        "Bill <b>Divide into 2 person"
      ]
    },
    {
      "cell_type": "code",
      "metadata": {
        "colab": {
          "base_uri": "https://localhost:8080/"
        },
        "id": "PgUt6Cvtadm2",
        "outputId": "81c4656b-02e0-418e-86d6-db53e0ff989a"
      },
      "source": [
        "bill_amount = 47.28\r\n",
        "service_tip = 0.15 #service_tip_tax = \"15\"+\"%\"\r\n",
        "\r\n",
        "total = bill_amount + service_tip\r\n",
        "bill_each = total/2\r\n",
        "print(\"Each person need to pay: \" + \"$\"+str(bill_each))\r\n"
      ],
      "execution_count": null,
      "outputs": [
        {
          "output_type": "stream",
          "text": [
            "Each person need to pay: $23.715\n"
          ],
          "name": "stdout"
        }
      ]
    },
    {
      "cell_type": "markdown",
      "metadata": {
        "id": "iprnFY8ccKGG"
      },
      "source": [
        "<b>Concatenating string"
      ]
    },
    {
      "cell_type": "code",
      "metadata": {
        "colab": {
          "base_uri": "https://localhost:8080/"
        },
        "id": "q8C17wyQcJQI",
        "outputId": "da41db8a-6419-469d-b9ff-e16ed6ce6491"
      },
      "source": [
        "word1 = \"Abba\"\r\n",
        "word2 = \"Dabba\"\r\n",
        "word3 = \"Jabba\"\r\n",
        "word4 = \"Abba\"\r\n",
        "word5 = \"Dabba\"\r\n",
        "word6 = \"Jabba\"\r\n",
        "print(word1 + \" \" + word2 + \" \" + word3 + \" \" + word4 + \" \" + word5 + \" \" + word6)"
      ],
      "execution_count": null,
      "outputs": [
        {
          "output_type": "stream",
          "text": [
            "Abba Dabba Jabba Abba Dabba Jabba\n"
          ],
          "name": "stdout"
        }
      ]
    },
    {
      "cell_type": "markdown",
      "metadata": {
        "id": "eaI3J4Z7dbSK"
      },
      "source": [
        "Function convert <strong>miles</strong> to <b> km"
      ]
    },
    {
      "cell_type": "code",
      "metadata": {
        "colab": {
          "base_uri": "https://localhost:8080/"
        },
        "id": "pdKJnpGJdaSw",
        "outputId": "e6f02739-b323-4f28-9826-ae6db33cd938"
      },
      "source": [
        "def convert_distance(miles):\r\n",
        "  km = miles * 1.6    #1.6km in one mile\"\r\n",
        "  return km\r\n",
        "my_trip_miles = float(input(\"Enter the value of one way-trip in miles\")) # input from user for round trip in miles\r\n",
        "my_trip_km = convert_distance(my_trip_miles)\r\n",
        "round_trip_km = my_trip_km * 2\r\n",
        "print(\"The round trip in kilometers are: \" + str(round_trip_km))"
      ],
      "execution_count": null,
      "outputs": [
        {
          "output_type": "stream",
          "text": [
            "Enter the value of one way-trip in miles10\n",
            "The round trip in kilometers are: 32.0\n"
          ],
          "name": "stdout"
        }
      ]
    },
    {
      "cell_type": "code",
      "metadata": {
        "colab": {
          "base_uri": "https://localhost:8080/"
        },
        "id": "2QhbruaLeC5U",
        "outputId": "67e835cd-528e-4349-d000-6912048ccad3"
      },
      "source": [
        "10 * 1.6"
      ],
      "execution_count": null,
      "outputs": [
        {
          "output_type": "execute_result",
          "data": {
            "text/plain": [
              "16.0"
            ]
          },
          "metadata": {
            "tags": []
          },
          "execution_count": 13
        }
      ]
    },
    {
      "cell_type": "markdown",
      "metadata": {
        "id": "YXhhY8g2frBA"
      },
      "source": [
        "Comparison and Order of number in <b>Increasing Order"
      ]
    },
    {
      "cell_type": "code",
      "metadata": {
        "colab": {
          "base_uri": "https://localhost:8080/",
          "height": 265
        },
        "id": "Kmp9sxsjfif2",
        "outputId": "823d7557-3c1a-40b3-d813-34972c8efc7d"
      },
      "source": [
        "def compare_increase_order(number1, number2):\r\n",
        "  if number1 > number2:\r\n",
        "    return number2, number1\r\n",
        "  elif number1 < number2:\r\n",
        "    return number1, number2\r\n",
        "smaller, bigger = compare_increase_order(100, 99) # we had 2 variable so that we can stor 2 values as integer which can be m,odified later\r\n",
        "print(smaller, bigger)\r\n",
        "ONE = compare_increase_order(1,2)  # we stored one variable whihc we can store as tuple but connot modified\r\n",
        "print(ONE)\r\n",
        "type(ONE) \r\n",
        "\r\n",
        "smaller = 98\r\n",
        "print(smaller, bigger)\r\n"
      ],
      "execution_count": null,
      "outputs": [
        {
          "output_type": "stream",
          "text": [
            "99 100\n",
            "(1, 2)\n",
            "98 100\n"
          ],
          "name": "stdout"
        },
        {
          "output_type": "error",
          "ename": "AttributeError",
          "evalue": "ignored",
          "traceback": [
            "\u001b[0;31m---------------------------------------------------------------------------\u001b[0m",
            "\u001b[0;31mAttributeError\u001b[0m                            Traceback (most recent call last)",
            "\u001b[0;32m<ipython-input-26-862012509f09>\u001b[0m in \u001b[0;36m<module>\u001b[0;34m()\u001b[0m\n\u001b[1;32m     13\u001b[0m \u001b[0mprint\u001b[0m\u001b[0;34m(\u001b[0m\u001b[0msmaller\u001b[0m\u001b[0;34m,\u001b[0m \u001b[0mbigger\u001b[0m\u001b[0;34m)\u001b[0m\u001b[0;34m\u001b[0m\u001b[0;34m\u001b[0m\u001b[0m\n\u001b[1;32m     14\u001b[0m \u001b[0;34m\u001b[0m\u001b[0m\n\u001b[0;32m---> 15\u001b[0;31m \u001b[0mONE\u001b[0m\u001b[0;34m.\u001b[0m\u001b[0mreplace\u001b[0m\u001b[0;34m(\u001b[0m\u001b[0;36m1\u001b[0m\u001b[0;34m,\u001b[0m\u001b[0;36m3\u001b[0m\u001b[0;34m)\u001b[0m\u001b[0;34m\u001b[0m\u001b[0;34m\u001b[0m\u001b[0m\n\u001b[0m\u001b[1;32m     16\u001b[0m \u001b[0mprint\u001b[0m\u001b[0;34m(\u001b[0m\u001b[0mONE\u001b[0m\u001b[0;34m)\u001b[0m\u001b[0;34m\u001b[0m\u001b[0;34m\u001b[0m\u001b[0m\n",
            "\u001b[0;31mAttributeError\u001b[0m: 'tuple' object has no attribute 'replace'"
          ]
        }
      ]
    },
    {
      "cell_type": "markdown",
      "metadata": {
        "id": "cSBXQUh_iT1g"
      },
      "source": [
        "Lucky number based on name"
      ]
    },
    {
      "cell_type": "code",
      "metadata": {
        "colab": {
          "base_uri": "https://localhost:8080/"
        },
        "id": "dbkjX36BgQo9",
        "outputId": "88db77df-3e48-4351-bc54-eb6461b6e894"
      },
      "source": [
        "def lucky_number(name):\r\n",
        "  lucky_number = len(name) * 786\r\n",
        "  message = \"Hello \" + name + \" Your lucky number is: \" + str(lucky_number)\r\n",
        "  print(message)\r\n",
        "lucky_number(\"Neeraj\")"
      ],
      "execution_count": null,
      "outputs": [
        {
          "output_type": "stream",
          "text": [
            "Hello Neeraj Your lucky number is: 4716\n"
          ],
          "name": "stdout"
        }
      ]
    },
    {
      "cell_type": "markdown",
      "metadata": {
        "id": "aKH_fMhPkW_Z"
      },
      "source": [
        "Greeting Based on Name of Person"
      ]
    },
    {
      "cell_type": "code",
      "metadata": {
        "colab": {
          "base_uri": "https://localhost:8080/"
        },
        "id": "lvZC4Ce7i2Rm",
        "outputId": "7d98a969-5cdc-428a-e19e-77242e3b2187"
      },
      "source": [
        "def Greeting():\r\n",
        "  Name = str(input(\"Ye Dilli hai meri jaan, Bas Ishq mohabbat pyaar, abe NAME bharo aur nikal\"))\r\n",
        "  if Name == \"neeraj\":\r\n",
        "    print(\"Are Bhai Dekho Dekho \" + Name + \"wa Aaya hai sasura\")\r\n",
        "  else:\r\n",
        "    print(\"jabtak rahega samose mai aalo, tabtak rahega jabaan pai \" + Name)\r\n",
        "Greeting()\r\n",
        "Greeting()"
      ],
      "execution_count": null,
      "outputs": [
        {
          "output_type": "stream",
          "text": [
            "Ye Dilli hai meri jaan, Bas Ishq mohabbat pyaar, abe NAME bharo aur nikalNeeraj\n",
            "jabtak rahega samose mai aalo, tabtak rahega jabaan pai Neeraj\n",
            "Ye Dilli hai meri jaan, Bas Ishq mohabbat pyaar, abe NAME bharo aur nikalneeraj\n",
            "Are Bhai Dekho Dekho neerajwa Aaya hai sasura\n"
          ],
          "name": "stdout"
        }
      ]
    },
    {
      "cell_type": "markdown",
      "metadata": {
        "id": "EuhDbESpmM99"
      },
      "source": [
        "print based on <b>number\r\n",
        "\r\n"
      ]
    },
    {
      "cell_type": "code",
      "metadata": {
        "colab": {
          "base_uri": "https://localhost:8080/"
        },
        "id": "UjHgNxjUmTIj",
        "outputId": "e9c24b4d-6fe8-4777-c1dd-8c2b251e417b"
      },
      "source": [
        "def number(number):\r\n",
        "  if number > 11:\r\n",
        "    print(0)\r\n",
        "  elif number != 10:\r\n",
        "    print(1)\r\n",
        "  elif number > 20 and number < 12:\r\n",
        "    print(2)\r\n",
        "  else:\r\n",
        "    print(3)\r\n",
        "number(1)\r\n",
        "number(10)"
      ],
      "execution_count": null,
      "outputs": [
        {
          "output_type": "stream",
          "text": [
            "1\n",
            "3\n"
          ],
          "name": "stdout"
        }
      ]
    },
    {
      "cell_type": "code",
      "metadata": {
        "id": "LFaaZHrdmjfu"
      },
      "source": [
        ""
      ],
      "execution_count": null,
      "outputs": []
    }
  ]
}