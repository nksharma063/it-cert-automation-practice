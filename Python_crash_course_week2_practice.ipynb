{
  "nbformat": 4,
  "nbformat_minor": 0,
  "metadata": {
    "colab": {
      "name": "Python_crash_course_week2_practice.ipynb",
      "provenance": [],
      "authorship_tag": "ABX9TyOrdV30i8gl3H0ZZVUViSEG",
      "include_colab_link": true
    },
    "kernelspec": {
      "name": "python3",
      "display_name": "Python 3"
    }
  },
  "cells": [
    {
      "cell_type": "markdown",
      "metadata": {
        "id": "view-in-github",
        "colab_type": "text"
      },
      "source": [
        "<a href=\"https://colab.research.google.com/github/nksharma063/it-cert-automation-practice/blob/master/Python_crash_course_week2_practice.ipynb\" target=\"_parent\"><img src=\"https://colab.research.google.com/assets/colab-badge.svg\" alt=\"Open In Colab\"/></a>"
      ]
    },
    {
      "cell_type": "markdown",
      "metadata": {
        "id": "igj9Qk84bT_R"
      },
      "source": [
        "Bill <b>Divide into 2 person"
      ]
    },
    {
      "cell_type": "code",
      "metadata": {
        "colab": {
          "base_uri": "https://localhost:8080/"
        },
        "id": "PgUt6Cvtadm2",
        "outputId": "81c4656b-02e0-418e-86d6-db53e0ff989a"
      },
      "source": [
        "bill_amount = 47.28\r\n",
        "service_tip = 0.15 #service_tip_tax = \"15\"+\"%\"\r\n",
        "\r\n",
        "total = bill_amount + service_tip\r\n",
        "bill_each = total/2\r\n",
        "print(\"Each person need to pay: \" + \"$\"+str(bill_each))\r\n"
      ],
      "execution_count": null,
      "outputs": [
        {
          "output_type": "stream",
          "text": [
            "Each person need to pay: $23.715\n"
          ],
          "name": "stdout"
        }
      ]
    },
    {
      "cell_type": "markdown",
      "metadata": {
        "id": "iprnFY8ccKGG"
      },
      "source": [
        "<b>Concatenating string"
      ]
    },
    {
      "cell_type": "code",
      "metadata": {
        "colab": {
          "base_uri": "https://localhost:8080/"
        },
        "id": "q8C17wyQcJQI",
        "outputId": "da41db8a-6419-469d-b9ff-e16ed6ce6491"
      },
      "source": [
        "word1 = \"Abba\"\r\n",
        "word2 = \"Dabba\"\r\n",
        "word3 = \"Jabba\"\r\n",
        "word4 = \"Abba\"\r\n",
        "word5 = \"Dabba\"\r\n",
        "word6 = \"Jabba\"\r\n",
        "print(word1 + \" \" + word2 + \" \" + word3 + \" \" + word4 + \" \" + word5 + \" \" + word6)"
      ],
      "execution_count": null,
      "outputs": [
        {
          "output_type": "stream",
          "text": [
            "Abba Dabba Jabba Abba Dabba Jabba\n"
          ],
          "name": "stdout"
        }
      ]
    },
    {
      "cell_type": "markdown",
      "metadata": {
        "id": "eaI3J4Z7dbSK"
      },
      "source": [
        "Function convert <strong>miles</strong> to <b> km"
      ]
    },
    {
      "cell_type": "code",
      "metadata": {
        "colab": {
          "base_uri": "https://localhost:8080/"
        },
        "id": "pdKJnpGJdaSw",
        "outputId": "e6f02739-b323-4f28-9826-ae6db33cd938"
      },
      "source": [
        "def convert_distance(miles):\r\n",
        "  km = miles * 1.6    #1.6km in one mile\"\r\n",
        "  return km\r\n",
        "my_trip_miles = float(input(\"Enter the value of one way-trip in miles\")) # input from user for round trip in miles\r\n",
        "my_trip_km = convert_distance(my_trip_miles)\r\n",
        "round_trip_km = my_trip_km * 2\r\n",
        "print(\"The round trip in kilometers are: \" + str(round_trip_km))"
      ],
      "execution_count": null,
      "outputs": [
        {
          "output_type": "stream",
          "text": [
            "Enter the value of one way-trip in miles10\n",
            "The round trip in kilometers are: 32.0\n"
          ],
          "name": "stdout"
        }
      ]
    },
    {
      "cell_type": "code",
      "metadata": {
        "colab": {
          "base_uri": "https://localhost:8080/"
        },
        "id": "2QhbruaLeC5U",
        "outputId": "67e835cd-528e-4349-d000-6912048ccad3"
      },
      "source": [
        "10 * 1.6"
      ],
      "execution_count": null,
      "outputs": [
        {
          "output_type": "execute_result",
          "data": {
            "text/plain": [
              "16.0"
            ]
          },
          "metadata": {
            "tags": []
          },
          "execution_count": 13
        }
      ]
    },
    {
      "cell_type": "markdown",
      "metadata": {
        "id": "YXhhY8g2frBA"
      },
      "source": [
        "Comparison and Order of number in <b>Increasing Order"
      ]
    },
    {
      "cell_type": "code",
      "metadata": {
        "colab": {
          "base_uri": "https://localhost:8080/",
          "height": 265
        },
        "id": "Kmp9sxsjfif2",
        "outputId": "823d7557-3c1a-40b3-d813-34972c8efc7d"
      },
      "source": [
        "def compare_increase_order(number1, number2):\r\n",
        "  if number1 > number2:\r\n",
        "    return number2, number1\r\n",
        "  elif number1 < number2:\r\n",
        "    return number1, number2\r\n",
        "smaller, bigger = compare_increase_order(100, 99) # we had 2 variable so that we can stor 2 values as integer which can be m,odified later\r\n",
        "print(smaller, bigger)\r\n",
        "ONE = compare_increase_order(1,2)  # we stored one variable whihc we can store as tuple but connot modified\r\n",
        "print(ONE)\r\n",
        "type(ONE) \r\n",
        "\r\n",
        "smaller = 98\r\n",
        "print(smaller, bigger)\r\n"
      ],
      "execution_count": null,
      "outputs": [
        {
          "output_type": "stream",
          "text": [
            "99 100\n",
            "(1, 2)\n",
            "98 100\n"
          ],
          "name": "stdout"
        },
        {
          "output_type": "error",
          "ename": "AttributeError",
          "evalue": "ignored",
          "traceback": [
            "\u001b[0;31m---------------------------------------------------------------------------\u001b[0m",
            "\u001b[0;31mAttributeError\u001b[0m                            Traceback (most recent call last)",
            "\u001b[0;32m<ipython-input-26-862012509f09>\u001b[0m in \u001b[0;36m<module>\u001b[0;34m()\u001b[0m\n\u001b[1;32m     13\u001b[0m \u001b[0mprint\u001b[0m\u001b[0;34m(\u001b[0m\u001b[0msmaller\u001b[0m\u001b[0;34m,\u001b[0m \u001b[0mbigger\u001b[0m\u001b[0;34m)\u001b[0m\u001b[0;34m\u001b[0m\u001b[0;34m\u001b[0m\u001b[0m\n\u001b[1;32m     14\u001b[0m \u001b[0;34m\u001b[0m\u001b[0m\n\u001b[0;32m---> 15\u001b[0;31m \u001b[0mONE\u001b[0m\u001b[0;34m.\u001b[0m\u001b[0mreplace\u001b[0m\u001b[0;34m(\u001b[0m\u001b[0;36m1\u001b[0m\u001b[0;34m,\u001b[0m\u001b[0;36m3\u001b[0m\u001b[0;34m)\u001b[0m\u001b[0;34m\u001b[0m\u001b[0;34m\u001b[0m\u001b[0m\n\u001b[0m\u001b[1;32m     16\u001b[0m \u001b[0mprint\u001b[0m\u001b[0;34m(\u001b[0m\u001b[0mONE\u001b[0m\u001b[0;34m)\u001b[0m\u001b[0;34m\u001b[0m\u001b[0;34m\u001b[0m\u001b[0m\n",
            "\u001b[0;31mAttributeError\u001b[0m: 'tuple' object has no attribute 'replace'"
          ]
        }
      ]
    },
    {
      "cell_type": "markdown",
      "metadata": {
        "id": "cSBXQUh_iT1g"
      },
      "source": [
        "Lucky number based on name"
      ]
    },
    {
      "cell_type": "code",
      "metadata": {
        "colab": {
          "base_uri": "https://localhost:8080/"
        },
        "id": "dbkjX36BgQo9",
        "outputId": "88db77df-3e48-4351-bc54-eb6461b6e894"
      },
      "source": [
        "def lucky_number(name):\r\n",
        "  lucky_number = len(name) * 786\r\n",
        "  message = \"Hello \" + name + \" Your lucky number is: \" + str(lucky_number)\r\n",
        "  print(message)\r\n",
        "lucky_number(\"Neeraj\")"
      ],
      "execution_count": null,
      "outputs": [
        {
          "output_type": "stream",
          "text": [
            "Hello Neeraj Your lucky number is: 4716\n"
          ],
          "name": "stdout"
        }
      ]
    },
    {
      "cell_type": "markdown",
      "metadata": {
        "id": "aKH_fMhPkW_Z"
      },
      "source": [
        "Greeting Based on Name of Person"
      ]
    },
    {
      "cell_type": "code",
      "metadata": {
        "colab": {
          "base_uri": "https://localhost:8080/"
        },
        "id": "lvZC4Ce7i2Rm",
        "outputId": "7d98a969-5cdc-428a-e19e-77242e3b2187"
      },
      "source": [
        "def Greeting():\r\n",
        "  Name = str(input(\"Ye Dilli hai meri jaan, Bas Ishq mohabbat pyaar, abe NAME bharo aur nikal\"))\r\n",
        "  if Name == \"neeraj\":\r\n",
        "    print(\"Are Bhai Dekho Dekho \" + Name + \"wa Aaya hai sasura\")\r\n",
        "  else:\r\n",
        "    print(\"jabtak rahega samose mai aalo, tabtak rahega jabaan pai \" + Name)\r\n",
        "Greeting()\r\n",
        "Greeting()"
      ],
      "execution_count": null,
      "outputs": [
        {
          "output_type": "stream",
          "text": [
            "Ye Dilli hai meri jaan, Bas Ishq mohabbat pyaar, abe NAME bharo aur nikalNeeraj\n",
            "jabtak rahega samose mai aalo, tabtak rahega jabaan pai Neeraj\n",
            "Ye Dilli hai meri jaan, Bas Ishq mohabbat pyaar, abe NAME bharo aur nikalneeraj\n",
            "Are Bhai Dekho Dekho neerajwa Aaya hai sasura\n"
          ],
          "name": "stdout"
        }
      ]
    },
    {
      "cell_type": "markdown",
      "metadata": {
        "id": "EuhDbESpmM99"
      },
      "source": [
        "print based on <b>number\r\n",
        "\r\n"
      ]
    },
    {
      "cell_type": "code",
      "metadata": {
        "colab": {
          "base_uri": "https://localhost:8080/"
        },
        "id": "UjHgNxjUmTIj",
        "outputId": "e9c24b4d-6fe8-4777-c1dd-8c2b251e417b"
      },
      "source": [
        "def number(number):\r\n",
        "  if number > 11:\r\n",
        "    print(0)\r\n",
        "  elif number != 10:\r\n",
        "    print(1)\r\n",
        "  elif number > 20 and number < 12:\r\n",
        "    print(2)\r\n",
        "  else:\r\n",
        "    print(3)\r\n",
        "number(1)\r\n",
        "number(10)"
      ],
      "execution_count": null,
      "outputs": [
        {
          "output_type": "stream",
          "text": [
            "1\n",
            "3\n"
          ],
          "name": "stdout"
        }
      ]
    },
    {
      "cell_type": "code",
      "metadata": {
        "id": "LFaaZHrdmjfu",
        "colab": {
          "base_uri": "https://localhost:8080/"
        },
        "outputId": "aa7bf123-ae54-4d8b-a720-a99913737e10"
      },
      "source": [
        "print(\"A dog\" < \"A mouse\") # converting character into ascii character and comparing\r\n",
        "print(9999+8888 > 100*100) # simple int addition multiplication"
      ],
      "execution_count": null,
      "outputs": [
        {
          "output_type": "stream",
          "text": [
            "True\n",
            "True\n"
          ],
          "name": "stdout"
        }
      ]
    },
    {
      "cell_type": "markdown",
      "metadata": {
        "id": "nWN2Hxd-rxKE"
      },
      "source": [
        "<b>Size</b> of block used in <strong>filesystem</strong> in <b>bytes</b>"
      ]
    },
    {
      "cell_type": "code",
      "metadata": {
        "id": "MK-c6sGSo5y7"
      },
      "source": [
        "def calculate_storage():\r\n",
        "  file_size = float(input(\"Please enter the size of in bytes: \"))\r\n",
        "  Block_size  = 4096\r\n",
        "  block_remainder = file_size % Block_size\r\n",
        "  full_blocks = file_size // Block_size\r\n",
        "  if block_remainder > 0 and block_remainder < 4096:\r\n",
        "    remaining_block_size = 4096\r\n",
        "  else:\r\n",
        "    remaining_block_size = 0\r\n",
        "  total_storage = full_blocks * 4096 + remaining_block_size\r\n",
        "  return total_storage\r\n"
      ],
      "execution_count": null,
      "outputs": []
    },
    {
      "cell_type": "code",
      "metadata": {
        "colab": {
          "base_uri": "https://localhost:8080/"
        },
        "id": "ftx1Oqkkp7__",
        "outputId": "8f21a0e3-5659-452f-8a27-a6ca2115ad05"
      },
      "source": [
        "calculate_storage()"
      ],
      "execution_count": null,
      "outputs": [
        {
          "output_type": "stream",
          "text": [
            "Please enter the size of in bytes: 10000\n"
          ],
          "name": "stdout"
        },
        {
          "output_type": "execute_result",
          "data": {
            "text/plain": [
              "12288.0"
            ]
          },
          "metadata": {
            "tags": []
          },
          "execution_count": 77
        }
      ]
    },
    {
      "cell_type": "markdown",
      "metadata": {
        "id": "dphdXoIxxnpT"
      },
      "source": [
        "<b>Color</b> to <Strong>Hexadecimal</strong>"
      ]
    },
    {
      "cell_type": "code",
      "metadata": {
        "colab": {
          "base_uri": "https://localhost:8080/"
        },
        "id": "ja0jcTz9p_jB",
        "outputId": "44841771-df2b-4a86-84a2-7044fa00c221"
      },
      "source": [
        "def color_translator(color):\r\n",
        "\tif color == \"red\":\r\n",
        "\t\thex_color = \"#ff0000\"\r\n",
        "\telif color == \"green\":\r\n",
        "\t\thex_color = \"#00ff00\"\r\n",
        "\telif color == \"blue\":\r\n",
        "\t\thex_color = \"#0000ff\"\r\n",
        "\telse:\r\n",
        "\t\thex_color = \"unknown\"\r\n",
        "\treturn hex_color"
      ],
      "execution_count": null,
      "outputs": [
        {
          "output_type": "execute_result",
          "data": {
            "text/plain": [
              "1"
            ]
          },
          "metadata": {
            "tags": []
          },
          "execution_count": 72
        }
      ]
    },
    {
      "cell_type": "code",
      "metadata": {
        "colab": {
          "base_uri": "https://localhost:8080/"
        },
        "id": "19yj0nAQsvk5",
        "outputId": "8a7d655d-d869-4978-a3fa-6847feb6ef47"
      },
      "source": [
        "4096*4"
      ],
      "execution_count": null,
      "outputs": [
        {
          "output_type": "execute_result",
          "data": {
            "text/plain": [
              "16384"
            ]
          },
          "metadata": {
            "tags": []
          },
          "execution_count": 67
        }
      ]
    },
    {
      "cell_type": "code",
      "metadata": {
        "colab": {
          "base_uri": "https://localhost:8080/"
        },
        "id": "DDcWkUxDwTpk",
        "outputId": "853c884e-f864-46e2-e8fd-798d4846110f"
      },
      "source": [
        "\"big\" > \"small\"# chaging to ascii code at bckground"
      ],
      "execution_count": null,
      "outputs": [
        {
          "output_type": "execute_result",
          "data": {
            "text/plain": [
              "False"
            ]
          },
          "metadata": {
            "tags": []
          },
          "execution_count": 78
        }
      ]
    },
    {
      "cell_type": "code",
      "metadata": {
        "colab": {
          "base_uri": "https://localhost:8080/"
        },
        "id": "sR3I4Vaeyt1v",
        "outputId": "1e92bc22-1d6a-4433-971a-3ff203556102"
      },
      "source": [
        "def exam_grade():\r\n",
        "  score = float(input(\"please enter the score by student name\"))\r\n",
        "  if score >= 95:\r\n",
        "    grade = \"Top_Score\"\r\n",
        "  elif score >= 33 and score < 95:\r\n",
        "    grade = \"Pass\"\r\n",
        "  elif score < 33:\r\n",
        "    grade = \"Apply for Re-Exam\"\r\n",
        "  print(grade)\r\n",
        "exam_grade()\r\n",
        "exam_grade()\r\n",
        "exam_grade()"
      ],
      "execution_count": null,
      "outputs": [
        {
          "output_type": "stream",
          "text": [
            "please enter the score by student name12\n",
            "Apply for Re-Exam\n",
            "please enter the score by student name35\n",
            "Pass\n",
            "please enter the score by student name95\n",
            "Top_Score\n"
          ],
          "name": "stdout"
        }
      ]
    },
    {
      "cell_type": "markdown",
      "metadata": {
        "id": "wNRZBA860xU2"
      },
      "source": [
        "First name and Last name function "
      ]
    },
    {
      "cell_type": "code",
      "metadata": {
        "colab": {
          "base_uri": "https://localhost:8080/"
        },
        "id": "658ONLP70JfI",
        "outputId": "a85dd661-c860-41a6-882d-35ec4e0667ad"
      },
      "source": [
        "def format_name(firstname, lastname):\r\n",
        "  if firstname != \"\" and lastname != \"\":\r\n",
        "    string = \"Name: \"+ lastname + firstname\r\n",
        "  elif firstname != \"\" and lastname == \"\":\r\n",
        "    string = \"Name: \" + firstname + lastname\r\n",
        "  elif firstname == \"\" and lastname != \"\":\r\n",
        "    string = \"Name: \" + firstname + lastname\r\n",
        "  elif firstname == \"\" and lastname == \"\":\r\n",
        "    string = \"\"\r\n",
        "  return string\r\n",
        "\r\n",
        "print(format_name(\"Ernest\", \"Hemingway\"))\r\n",
        "# Should return the string \"Name: Hemingway, Ernest\"\r\n",
        "\r\n",
        "print(format_name(\"\", \"Madonna\"))\r\n",
        "# Should return the string \"Name: Madonna\"\r\n",
        "\r\n",
        "print(format_name(\"Voltaire\", \"\"))\r\n",
        "# Should return the string \"Name: Voltaire\"\r\n",
        "\r\n",
        "print(format_name(\"\", \"\"))\r\n",
        "# Should return an empty string"
      ],
      "execution_count": null,
      "outputs": [
        {
          "output_type": "stream",
          "text": [
            "Name: HemingwayErnest\n",
            "Name: Madonna\n",
            "Name: Voltaire\n",
            "\n"
          ],
          "name": "stdout"
        }
      ]
    },
    {
      "cell_type": "markdown",
      "metadata": {
        "id": "S6c6I4kF4fUr"
      },
      "source": [
        "Playing with PEDMAS"
      ]
    },
    {
      "cell_type": "code",
      "metadata": {
        "colab": {
          "base_uri": "https://localhost:8080/"
        },
        "id": "1Rc-4joK1wDS",
        "outputId": "df80f7eb-dc1a-46bb-d83e-65be9ddeba2f"
      },
      "source": [
        "def sum(x, y):\r\n",
        "\t\treturn(x+y)\r\n",
        "print(sum(sum(1,2), sum(3,4)))"
      ],
      "execution_count": null,
      "outputs": [
        {
          "output_type": "stream",
          "text": [
            "10\n"
          ],
          "name": "stdout"
        }
      ]
    },
    {
      "cell_type": "markdown",
      "metadata": {
        "id": "NA1_TYPR9L0A"
      },
      "source": [
        "Longest word in the list and first word if length are same for all list"
      ]
    },
    {
      "cell_type": "code",
      "metadata": {
        "colab": {
          "base_uri": "https://localhost:8080/"
        },
        "id": "_Fqi2IgD4ipC",
        "outputId": "85f276c0-81c2-4742-939b-92f4b4bdc0f2"
      },
      "source": [
        "def longest_word(word1, word2, word3):\r\n",
        "  if len(word1) > len(word2) and len(word1) > len(word3):\r\n",
        "    word = word1\r\n",
        "  elif len(word2) > len(word1) and len(word2) > len(word3):\r\n",
        "    word = word2\r\n",
        "  elif len(word1) == len(word2) == len(word3):\r\n",
        "    word = word1\r\n",
        "  else:\r\n",
        "    word = word3\r\n",
        "  return word\r\n",
        "print(longest_word(\"chair\", \"couch\", \"table\"))\r\n",
        "print(longest_word(\"bed\", \"bath\", \"beyond\"))\r\n",
        "print(longest_word(\"laptop\", \"notebook\", \"desktop\"))"
      ],
      "execution_count": null,
      "outputs": [
        {
          "output_type": "stream",
          "text": [
            "chair\n",
            "beyond\n",
            "notebook\n"
          ],
          "name": "stdout"
        }
      ]
    },
    {
      "cell_type": "markdown",
      "metadata": {
        "id": "aRSCC85J9S2b"
      },
      "source": [
        "Return fractional part of number example 0.1 should return .1, 0 return 0\r\n"
      ]
    },
    {
      "cell_type": "code",
      "metadata": {
        "colab": {
          "base_uri": "https://localhost:8080/"
        },
        "id": "vIEMQtXQ9gal",
        "outputId": "0e4ab47a-9dc0-47a0-966b-9c08688b2282"
      },
      "source": [
        "def fractional_part(numerator, denominator):\r\n",
        "  if numerator == 0 or denominator == 0 or numerator==denominator:\r\n",
        "    frac_part = 0\r\n",
        "  elif numerator != 0 and denominator != 0:\r\n",
        "    div = numerator/denominator\r\n",
        "    frac_part = div - int(div)\r\n",
        "  return frac_part\r\n",
        "print(fractional_part(5, 5)) # Should be 0\r\n",
        "print(fractional_part(5, 4)) # Should be 0.25\r\n",
        "print(fractional_part(5, 3)) # Should be 0.66...\r\n",
        "print(fractional_part(5, 2)) # Should be 0.5\r\n",
        "print(fractional_part(5, 0)) # Should be 0\r\n",
        "print(fractional_part(0, 5)) # Should be 0"
      ],
      "execution_count": null,
      "outputs": [
        {
          "output_type": "stream",
          "text": [
            "0\n",
            "0.25\n",
            "0.6666666666666667\n",
            "0.5\n",
            "0\n",
            "0\n"
          ],
          "name": "stdout"
        }
      ]
    },
    {
      "cell_type": "markdown",
      "metadata": {
        "id": "Pb2h1TnC_LN-"
      },
      "source": [
        "# New Section"
      ]
    },
    {
      "cell_type": "markdown",
      "metadata": {
        "id": "MtXxKIxe_Lxk"
      },
      "source": [
        "# New Section"
      ]
    },
    {
      "cell_type": "code",
      "metadata": {
        "colab": {
          "base_uri": "https://localhost:8080/",
          "height": 248
        },
        "id": "ECaVwec4EJek",
        "outputId": "9c1a55f1-efc8-44ce-d12f-05b58a9892e8"
      },
      "source": [
        "a = [1,2,3]\r\n",
        "b = a\r\n",
        "print(b)\r\n",
        "a[0] = 4\r\n",
        "print(a)\r\n",
        "print(b)\r\n",
        "c = a.reverse"
      ],
      "execution_count": null,
      "outputs": [
        {
          "output_type": "stream",
          "text": [
            "[1, 2, 3]\n",
            "[4, 2, 3]\n",
            "[4, 2, 3]\n"
          ],
          "name": "stdout"
        },
        {
          "output_type": "error",
          "ename": "TypeError",
          "evalue": "ignored",
          "traceback": [
            "\u001b[0;31m---------------------------------------------------------------------------\u001b[0m",
            "\u001b[0;31mTypeError\u001b[0m                                 Traceback (most recent call last)",
            "\u001b[0;32m<ipython-input-105-243c44ba1e69>\u001b[0m in \u001b[0;36m<module>\u001b[0;34m()\u001b[0m\n\u001b[1;32m      6\u001b[0m \u001b[0mprint\u001b[0m\u001b[0;34m(\u001b[0m\u001b[0mb\u001b[0m\u001b[0;34m)\u001b[0m\u001b[0;34m\u001b[0m\u001b[0;34m\u001b[0m\u001b[0m\n\u001b[1;32m      7\u001b[0m \u001b[0mc\u001b[0m \u001b[0;34m=\u001b[0m \u001b[0ma\u001b[0m\u001b[0;34m.\u001b[0m\u001b[0mreverse\u001b[0m\u001b[0;34m\u001b[0m\u001b[0;34m\u001b[0m\u001b[0m\n\u001b[0;32m----> 8\u001b[0;31m \u001b[0mprint\u001b[0m\u001b[0;34m(\u001b[0m\u001b[0mc\u001b[0m\u001b[0;34m[\u001b[0m\u001b[0;36m0\u001b[0m\u001b[0;34m]\u001b[0m\u001b[0;34m)\u001b[0m\u001b[0;34m\u001b[0m\u001b[0;34m\u001b[0m\u001b[0m\n\u001b[0m",
            "\u001b[0;31mTypeError\u001b[0m: 'builtin_function_or_method' object is not subscriptable"
          ]
        }
      ]
    },
    {
      "cell_type": "code",
      "metadata": {
        "id": "oyhuL_rUEu2P"
      },
      "source": [
        ""
      ],
      "execution_count": null,
      "outputs": []
    }
  ]
}