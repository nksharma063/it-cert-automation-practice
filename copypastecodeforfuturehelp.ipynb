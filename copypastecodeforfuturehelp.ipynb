{
  "nbformat": 4,
  "nbformat_minor": 0,
  "metadata": {
    "colab": {
      "name": "copypastecodeforfuturehelp.ipynb",
      "provenance": [],
      "collapsed_sections": [],
      "authorship_tag": "ABX9TyMKeBdaE8NzFr3QCCC/gW+L",
      "include_colab_link": true
    },
    "kernelspec": {
      "name": "python3",
      "display_name": "Python 3"
    }
  },
  "cells": [
    {
      "cell_type": "markdown",
      "metadata": {
        "id": "view-in-github",
        "colab_type": "text"
      },
      "source": [
        "<a href=\"https://colab.research.google.com/github/nksharma063/it-cert-automation-practice/blob/master/copypastecodeforfuturehelp.ipynb\" target=\"_parent\"><img src=\"https://colab.research.google.com/assets/colab-badge.svg\" alt=\"Open In Colab\"/></a>"
      ]
    },
    {
      "cell_type": "code",
      "metadata": {
        "colab": {
          "base_uri": "https://localhost:8080/"
        },
        "id": "y9_MDm0KEZt4",
        "outputId": "c79c337e-4ce0-48b9-d4c1-9f19ea14d2a7"
      },
      "source": [
        "PlayListRatings = [10, 9.5, 10, 8, 7.5, 5, 10, 10]\n",
        "i = 0\n",
        "Rating = PlayListRatings[i]\n",
        "while(Rating >= 6):\n",
        "    print(Rating)\n",
        "    Rating = PlayListRatings[i]\n",
        "    i = i + 1"
      ],
      "execution_count": null,
      "outputs": [
        {
          "output_type": "stream",
          "text": [
            "10\n",
            "10\n",
            "9.5\n",
            "10\n",
            "8\n",
            "7.5\n"
          ],
          "name": "stdout"
        }
      ]
    },
    {
      "cell_type": "code",
      "metadata": {
        "colab": {
          "base_uri": "https://localhost:8080/"
        },
        "id": "7G8UGKH8czUD",
        "outputId": "bea0cb3e-52d7-4082-de28-57d84c1ba5a2"
      },
      "source": [
        "# Write your code below and press Shift+Enter to execute\r\n",
        "\r\n",
        "squares = ['orange', 'orange', 'purple', 'blue ', 'orange']\r\n",
        "new_squares = []\r\n",
        "\r\n",
        "i = 0\r\n",
        "while squares[i] == \"orange\":\r\n",
        "    new_squares.append(squares[i])\r\n",
        "    i = i + 1\r\n",
        "print(new_squares)"
      ],
      "execution_count": null,
      "outputs": [
        {
          "output_type": "stream",
          "text": [
            "['orange', 'orange']\n"
          ],
          "name": "stdout"
        }
      ]
    },
    {
      "cell_type": "code",
      "metadata": {
        "colab": {
          "base_uri": "https://localhost:8080/"
        },
        "id": "WxEMLTqUc2fH",
        "outputId": "57695289-9362-456b-e6c8-6041eb660c77"
      },
      "source": [
        "squares = ['orange', 'orange', 'purple', 'blue ', 'orange']\r\n",
        "new_squares = []\r\n",
        "i = 0\r\n",
        "while(squares[i] == 'orange'):\r\n",
        "    new_squares.append(squares[i])\r\n",
        "    i = i + 1\r\n",
        "print (new_squares)"
      ],
      "execution_count": null,
      "outputs": [
        {
          "output_type": "stream",
          "text": [
            "['orange', 'orange']\n"
          ],
          "name": "stdout"
        }
      ]
    },
    {
      "cell_type": "code",
      "metadata": {
        "id": "AWS5tM-sdqvN"
      },
      "source": [
        "class analysedText(object):\r\n",
        "    \r\n",
        "    def __init__ (self, text):\r\n",
        "        # remove punctuation\r\n",
        "        formattedText = text.replace('.','').replace('!','').replace('?','').replace(',','')\r\n",
        "        \r\n",
        "        # make text lowercase\r\n",
        "        formattedText = formattedText.lower()\r\n",
        "        \r\n",
        "        self.fmtText = formattedText\r\n",
        "        \r\n",
        "    def freqAll(self):        \r\n",
        "        # split text into words\r\n",
        "        wordList = self.fmtText.split(' ')\r\n",
        "        \r\n",
        "        # Create dictionary\r\n",
        "        freqMap = {}\r\n",
        "        for word in set(wordList): # use set to remove duplicates in list\r\n",
        "            freqMap[word] = wordList.count(word)\r\n",
        "        \r\n",
        "        return freqMap\r\n",
        "    \r\n",
        "    def freqOf(self,word):\r\n",
        "        # get frequency map\r\n",
        "        freqDict = self.freqAll()\r\n",
        "        \r\n",
        "        if word in freqDict:\r\n",
        "            return freqDict[word]\r\n",
        "        else:\r\n",
        "            return 0"
      ],
      "execution_count": null,
      "outputs": []
    },
    {
      "cell_type": "code",
      "metadata": {
        "id": "FYilpUkqiTD8"
      },
      "source": [
        "class Rectangle(object):\r\n",
        "    \r\n",
        "    def __init__(self,width=2,height =3,color='r'):\r\n",
        "        self.height=height \r\n",
        "        self.width=width\r\n",
        "        self.color=color\r\n",
        "    \r\n",
        "    def drawRectangle(self):\r\n",
        "        import matplotlib.pyplot as plt\r\n",
        "        plt.gca().add_patch(plt.Rectangle((0, 0),self.width, self.height ,fc=self.color))\r\n",
        "        plt.axis('scaled')\r\n",
        "        plt.show()"
      ],
      "execution_count": null,
      "outputs": []
    },
    {
      "cell_type": "code",
      "metadata": {
        "id": "8p8S4YXTicyJ"
      },
      "source": [
        "class Points(object):\r\n",
        "  def __init__(self,x,y):\r\n",
        "\r\n",
        "    self.x=x\r\n",
        "    self.y=y\r\n",
        "\r\n",
        "  def print_point(self):\r\n",
        "\r\n",
        "    print('x=',self.x,' y=',self.y)\r\n",
        "\r\n",
        "p1=Points(\"A\",\"B\")\r\n",
        "p1.print_point()"
      ],
      "execution_count": null,
      "outputs": []
    },
    {
      "cell_type": "code",
      "metadata": {
        "id": "ZbhyOmtAifZM"
      },
      "source": [
        "class Points(object):\r\n",
        "  def __init__(self,x,y):\r\n",
        "\r\n",
        "    self.x=x\r\n",
        "    self.y=y\r\n",
        "\r\n",
        "  def print_point(self):\r\n",
        "\r\n",
        "    print('x=',self.x,' y=',self.y)\r\n",
        "\r\n",
        "p2=Points(1,2)\r\n",
        "\r\n",
        "p2.x=2\r\n",
        "\r\n",
        "p2.print_point()"
      ],
      "execution_count": null,
      "outputs": []
    },
    {
      "cell_type": "code",
      "metadata": {
        "colab": {
          "base_uri": "https://localhost:8080/"
        },
        "id": "wh11q3s64Zwp",
        "outputId": "00efc8fa-d786-47a6-e77d-bfd9e3b560a8"
      },
      "source": [
        "a = 1\r\n",
        "\r\n",
        "try:\r\n",
        "    b = int(input(\"Please enter a number to divide a\"))\r\n",
        "    a = a/b\r\n",
        "except ZeroDivisionError:\r\n",
        "    print(\"The number you provided cant divide 1 because it is 0\")\r\n",
        "except ValueError:\r\n",
        "    print(\"You did not provide a number\")\r\n",
        "except:\r\n",
        "    print(\"Something went wrong\")"
      ],
      "execution_count": null,
      "outputs": [
        {
          "output_type": "stream",
          "text": [
            "Please enter a number to divide a1\n"
          ],
          "name": "stdout"
        }
      ]
    },
    {
      "cell_type": "code",
      "metadata": {
        "colab": {
          "base_uri": "https://localhost:8080/"
        },
        "id": "QSHHKWb64a8v",
        "outputId": "01eaf99e-4037-491c-ae28-efac63f5b9cf"
      },
      "source": [
        "a = 1\r\n",
        "\r\n",
        "try:\r\n",
        "    b = int(input(\"Please enter a number to divide a\"))\r\n",
        "    a = a/b\r\n",
        "except ZeroDivisionError:\r\n",
        "    print(\"The number you provided cant divide 1 because it is 0\")\r\n",
        "except ValueError:\r\n",
        "    print(\"You did not provide a number\")\r\n",
        "except:\r\n",
        "    print(\"Something went wrong\")\r\n",
        "else:\r\n",
        "    print(\"success a=\",a)"
      ],
      "execution_count": null,
      "outputs": [
        {
          "output_type": "stream",
          "text": [
            "Please enter a number to divide a0\n",
            "The number you provided cant divide 1 because it is 0\n"
          ],
          "name": "stdout"
        }
      ]
    },
    {
      "cell_type": "code",
      "metadata": {
        "colab": {
          "base_uri": "https://localhost:8080/"
        },
        "id": "wv5XDsGg5cUM",
        "outputId": "15c94e52-7df8-4e77-ed25-c85a4a885fab"
      },
      "source": [
        "a = 1\r\n",
        "\r\n",
        "try:\r\n",
        "    b = int(input(\"Please enter a number to divide a\"))\r\n",
        "    a = a/b\r\n",
        "except ZeroDivisionError:\r\n",
        "    print(\"The number you provided cant divide 1 because it is 0\")\r\n",
        "except ValueError:\r\n",
        "    print(\"You did not provide a number\")\r\n",
        "except:\r\n",
        "    print(\"Something went wrong\")\r\n",
        "else:\r\n",
        "    print(\"success a=\",a)\r\n",
        "finally:\r\n",
        "    print(\"Processing Complete\")"
      ],
      "execution_count": null,
      "outputs": [
        {
          "output_type": "stream",
          "text": [
            "Please enter a number to divide a0.5\n",
            "You did not provide a number\n",
            "Processing Complete\n"
          ],
          "name": "stdout"
        }
      ]
    }
  ]
}