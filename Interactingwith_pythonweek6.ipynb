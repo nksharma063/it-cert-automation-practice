{
  "nbformat": 4,
  "nbformat_minor": 0,
  "metadata": {
    "colab": {
      "name": "Interactingwith pythonweek6.ipynb",
      "provenance": [],
      "collapsed_sections": [],
      "authorship_tag": "ABX9TyOKyI1EXKWdSOqSUApkE7Rr",
      "include_colab_link": true
    },
    "kernelspec": {
      "name": "python3",
      "display_name": "Python 3"
    }
  },
  "cells": [
    {
      "cell_type": "markdown",
      "metadata": {
        "id": "view-in-github",
        "colab_type": "text"
      },
      "source": [
        "<a href=\"https://colab.research.google.com/github/nksharma063/it-cert-automation-practice/blob/master/Interactingwith_pythonweek6.ipynb\" target=\"_parent\"><img src=\"https://colab.research.google.com/assets/colab-badge.svg\" alt=\"Open In Colab\"/></a>"
      ]
    },
    {
      "cell_type": "code",
      "metadata": {
        "id": "aJWxdRaJM0vc"
      },
      "source": [
        ""
      ],
      "execution_count": null,
      "outputs": []
    },
    {
      "cell_type": "markdown",
      "metadata": {
        "id": "uy3n5jCGM6op"
      },
      "source": [
        "BAsh Script"
      ]
    },
    {
      "cell_type": "code",
      "metadata": {
        "colab": {
          "base_uri": "https://localhost:8080/",
          "height": 129
        },
        "id": "rPmcar3eM9eJ",
        "outputId": "9712dc8d-6bd2-4e40-86b5-18a29e732301"
      },
      "source": [
        "#!/bin/bash\r\n",
        "\r\n",
        "echo \"Starting at: $(date)\"\r\n",
        "echo\r\n",
        "\r\n",
        "echo \"UPTIME\"\r\n",
        "uptime\r\n",
        "echo\r\n",
        "\r\n",
        "echo \"FREE\"\r\n",
        "free\r\n",
        "echo\r\n",
        "\r\n",
        "echo \"WHO\"\r\n",
        "free\r\n",
        "echo\r\n",
        "\r\n",
        "echo \"Finishing at: $(date)\""
      ],
      "execution_count": null,
      "outputs": [
        {
          "output_type": "error",
          "ename": "SyntaxError",
          "evalue": "ignored",
          "traceback": [
            "\u001b[0;36m  File \u001b[0;32m\"<ipython-input-2-7b1346558d84>\"\u001b[0;36m, line \u001b[0;32m3\u001b[0m\n\u001b[0;31m    echo \"Starting at:\" $(date)\u001b[0m\n\u001b[0m                      ^\u001b[0m\n\u001b[0;31mSyntaxError\u001b[0m\u001b[0;31m:\u001b[0m invalid syntax\n"
          ]
        }
      ]
    },
    {
      "cell_type": "code",
      "metadata": {
        "id": "hZ2WdRmuN5x7"
      },
      "source": [
        "line \"---------------\"\r\n",
        "echo \"UPTIME\" ; uptime; echo $line #and so on will do the same as above will call the line variable we can also use export commadn as discused with sys module.\r\n",
        "\r\n"
      ],
      "execution_count": null,
      "outputs": []
    },
    {
      "cell_type": "markdown",
      "metadata": {
        "id": "WFCwKe3MM52s"
      },
      "source": [
        "GLOB gloabl variable which we can use anywhere in fucntion"
      ]
    },
    {
      "cell_type": "code",
      "metadata": {
        "id": "qLLcFL5uPqCz"
      },
      "source": [
        "echo *.py # will fetch all files with.py at the end\r\n",
        "echo * #will fetch all file sins ame directory\r\n",
        "echo c* #will fecth all teh files starts with lettter c\r\n",
        "\r\n",
        "echo ?????.py # will fect 5 letter and .py with it ? repersent one misisng letter\r\n",
        " "
      ],
      "execution_count": null,
      "outputs": []
    },
    {
      "cell_type": "markdown",
      "metadata": {
        "id": "SAV4vWU9RA3W"
      },
      "source": [
        "Conditions in bash"
      ]
    },
    {
      "cell_type": "markdown",
      "metadata": {
        "id": "Wqr0iq_JUDvv"
      },
      "source": [
        "Exmaples of if statements in bash scripting"
      ]
    },
    {
      "cell_type": "code",
      "metadata": {
        "id": "nx4CmGYjRCSY"
      },
      "source": [
        "#! /bin/bash # sheband line\r\n",
        "\r\n",
        "if grep \"127.0.0.1\" /etc/hosts; then  # we can write complete if else statement in one line as well\r\n",
        "  echo \"Everything ok\" # no need of indentationnin bash but we are providing as needed\r\n",
        "else \r\n",
        "  echo \" Error ! 127.0.0.1 is not in /etc/hosts\" # no need of indenetation jsut for represenetatioan purposes\r\n",
        "fi # to end the conditional statemebt if we use reverse fi\r\n",
        "\r\n",
        "if test -n \"PATH$\"; the echo  \" your path is not empty\"; fi\r\n",
        "\r\n",
        "or\r\n",
        "\r\n",
        "if [ -n \"$PATH\" ]; then echo \"Your path is not empty\"; fi # opening barcket [  callled test and closing is for closing the etsy comand]\r\n"
      ],
      "execution_count": null,
      "outputs": []
    },
    {
      "cell_type": "markdown",
      "metadata": {
        "id": "Lg4c9sbPUGsD"
      },
      "source": [
        "Example of whle bash scripting"
      ]
    },
    {
      "cell_type": "code",
      "metadata": {
        "id": "jS17SBQQULFd"
      },
      "source": [
        "#!/bin/bash\r\n",
        "\r\n",
        "n=1\r\n",
        "while [ $n -le 5 ]; do   # n variable and it should be less than 5\r\n",
        "  echo \"Iteration number $n\" # pirnitninvg messages\r\n",
        "  ((n+1)) # incrementing variables\r\n",
        "done # closing the script"
      ],
      "execution_count": null,
      "outputs": []
    },
    {
      "cell_type": "markdown",
      "metadata": {
        "id": "KxChbOwaU4Cs"
      },
      "source": [
        "Another example"
      ]
    },
    {
      "cell_type": "code",
      "metadata": {
        "colab": {
          "base_uri": "https://localhost:8080/"
        },
        "id": "SxgCWESKU5iB",
        "outputId": "10e55636-9742-418c-e518-fd27e5452646"
      },
      "source": [
        "#!/usr/bin/env python\r\n",
        "import sys\r\n",
        "import random\r\n",
        "\r\n",
        "value=random.randint(0, 3)\r\n",
        "print(\"Returning: \" + str(value))\r\n",
        "sys.exit(value)"
      ],
      "execution_count": null,
      "outputs": [
        {
          "output_type": "execute_result",
          "data": {
            "text/plain": [
              "<function print>"
            ]
          },
          "metadata": {
            "tags": []
          },
          "execution_count": 3
        }
      ]
    },
    {
      "cell_type": "markdown",
      "metadata": {
        "id": "4hfkUOnzVlnO"
      },
      "source": [
        "anotherev example"
      ]
    },
    {
      "cell_type": "code",
      "metadata": {
        "id": "B4ztCrfkVFp1"
      },
      "source": [
        "#!/bin/bash\r\n",
        "\r\n",
        "n=0\r\n",
        "command=$1\r\n",
        "while ! $command && [ $n -le 5 ]; do \r\n",
        "  sleep $n\r\n",
        "  ((n + 1))\r\n",
        "  echo \"retyr #$n\"\r\n",
        "done\r\n",
        "\r\n",
        "# coomad line execution will be ./retyr.sh ./random-exit.py\r\n",
        "\r\n"
      ],
      "execution_count": null,
      "outputs": []
    },
    {
      "cell_type": "markdown",
      "metadata": {
        "id": "KR1yXh_DXJJ1"
      },
      "source": [
        "For loops in bash scripting\r\n",
        "example 1"
      ]
    },
    {
      "cell_type": "code",
      "metadata": {
        "id": "PUPxW1OoXLqR"
      },
      "source": [
        "#!/usr/bin/bash\r\n",
        "\r\n",
        "for sruit in peach orange apple; do\r\n",
        "echo \"i like $sruit!\" # printing the line with sruit variable from for loop\r\n",
        "done # ending the loop\r\n"
      ],
      "execution_count": null,
      "outputs": []
    },
    {
      "cell_type": "markdown",
      "metadata": {
        "id": "nftfeMycX5pp"
      },
      "source": [
        "script to change the extension of webpages of files for exmapel when moving to new server which required different extension"
      ]
    },
    {
      "cell_type": "code",
      "metadata": {
        "colab": {
          "base_uri": "https://localhost:8080/",
          "height": 129
        },
        "id": "1fm21zpIYAEi",
        "outputId": "baa9dea3-4b96-434a-b952-b0646165ffb2"
      },
      "source": [
        "#!/bin/bash\r\n",
        "\r\n",
        "for file in *.HTM; do # files with extension .HTM\r\n",
        "  name=$(basename \"$file\" .HTM)  # assigned variable anme to only basename witha help of basename of commadn\r\n",
        "  echo mv \"$file\" \"$name.html\" # we are renaming basename with .html command\r\n",
        "done # finish command"
      ],
      "execution_count": null,
      "outputs": [
        {
          "output_type": "error",
          "ename": "SyntaxError",
          "evalue": "ignored",
          "traceback": [
            "\u001b[0;36m  File \u001b[0;32m\"<ipython-input-4-ee42df116bc7>\"\u001b[0;36m, line \u001b[0;32m3\u001b[0m\n\u001b[0;31m    for file in *.HTM; do # files with extension .HTM\u001b[0m\n\u001b[0m                ^\u001b[0m\n\u001b[0;31mSyntaxError\u001b[0m\u001b[0;31m:\u001b[0m invalid syntax\n"
          ]
        }
      ]
    },
    {
      "cell_type": "markdown",
      "metadata": {
        "id": "tZBYP7syfAS8"
      },
      "source": [
        "Coupke of more pipeline commands\r\n",
        "tail /var/log/syslog | cut -d' ' -f5-\r\n",
        "\r\n",
        "cut -d' ' -f5- /var/log/syslog | sort | uniq -c | sort -nr | head\r\n"
      ]
    },
    {
      "cell_type": "markdown",
      "metadata": {
        "id": "p_59Rjkvfng4"
      },
      "source": [
        "One more example of bash script"
      ]
    },
    {
      "cell_type": "code",
      "metadata": {
        "id": "megez2VoY9GV"
      },
      "source": [
        "#!/bin/bash\r\n",
        "\r\n",
        "for logfile in /var/log/*log; do\r\n",
        "  echo \"Processing: $logfile\"\r\n",
        "  cut -d' ' -f5- $logfile | sort | uniq -c | sort -nr | head -5\r\n",
        "done"
      ],
      "execution_count": null,
      "outputs": []
    },
    {
      "cell_type": "markdown",
      "metadata": {
        "id": "AYLGJ0fgUnSi"
      },
      "source": [
        "Exercise\r\n",
        "The Scenario\r\n",
        "Your coworker Jane Doe currently has the username \"jane\" but she needs to it to \"jdoe\" to comply with your company's naming policy. This username change has already been done. However, some files that were named with Jane's previous username \"jane\" haven't been updated. For example, \"jane_profile_07272018.doc\" needs to be updated to \"jdoe_profile_07272018.doc\".\r\n",
        "\r\n",
        "Navigate to data directory by using the following command:"
      ]
    },
    {
      "cell_type": "code",
      "metadata": {
        "id": "b6R9ov5LUon1"
      },
      "source": [
        "cd data"
      ],
      "execution_count": null,
      "outputs": []
    },
    {
      "cell_type": "markdown",
      "metadata": {
        "id": "fAd_3jQ0UwOC"
      },
      "source": [
        "ou can list the contents of the directory using the ls command. This directory contains a file named list.txt. You will also find some other files within this directory.\r\n",
        "\r\n",
        "To view the contents of the file, use the following command:"
      ]
    },
    {
      "cell_type": "code",
      "metadata": {
        "colab": {
          "base_uri": "https://localhost:8080/"
        },
        "id": "DZgtOPKTUyHY",
        "outputId": "c0f4a682-df3f-4ecd-d200-211d30d0bfe6"
      },
      "source": [
        "cat list.txt"
      ],
      "execution_count": 1,
      "outputs": [
        {
          "output_type": "stream",
          "text": [
            "cat: list.txt: No such file or directory\n"
          ],
          "name": "stdout"
        }
      ]
    },
    {
      "cell_type": "markdown",
      "metadata": {
        "id": "oWuThKnFU14f"
      },
      "source": [
        "This file contains three columns: line number, username, and full path to the file.\r\n",
        "\r\n",
        "You could also view the complete /data directory using the ls command."
      ]
    },
    {
      "cell_type": "code",
      "metadata": {
        "id": "yuq1eHz7UzXQ"
      },
      "source": [
        "ls"
      ],
      "execution_count": null,
      "outputs": []
    },
    {
      "cell_type": "markdown",
      "metadata": {
        "id": "nMMU-G6vU5lK"
      },
      "source": [
        "Let's try out the commands we learned in the previous section to catch all the \"jane\" lines."
      ]
    },
    {
      "cell_type": "code",
      "metadata": {
        "id": "Hv_5Q0IJU5-u"
      },
      "source": [
        "grep 'jane' ../data/list.txt"
      ],
      "execution_count": null,
      "outputs": []
    },
    {
      "cell_type": "markdown",
      "metadata": {
        "id": "v-SvBCpNU82A"
      },
      "source": [
        "his returns all the files with the pattern \"jane\". It also matches the file that has string \"janez\" within it.\r\n",
        "\r\n"
      ]
    },
    {
      "cell_type": "code",
      "metadata": {
        "id": "YFLjBVbgU9Q2"
      },
      "source": [
        "grep ' jane ' ../data/list.txt"
      ],
      "execution_count": null,
      "outputs": []
    },
    {
      "cell_type": "markdown",
      "metadata": {
        "id": "F3RIU-nrVAAm"
      },
      "source": [
        "Next, we'll use the cut command with grep command. For cut command, we'll use the whitespace character (‘ ‘) as a delimiter (denoted by -d) since the text strings are separated by spaces within the list.txt file. We'll also fetch results by specifying the fields using -f option.\r\n",
        "\r\n",
        "Let's fetch the different fields (columns) using -f flag :"
      ]
    },
    {
      "cell_type": "code",
      "metadata": {
        "id": "wAwiTJnwVEHw"
      },
      "source": [
        "grep \" jane \" ../data/list.txt | cut -d ' ' -f 1"
      ],
      "execution_count": null,
      "outputs": []
    },
    {
      "cell_type": "code",
      "metadata": {
        "id": "-P6B6sYTVGx1"
      },
      "source": [
        "grep \" jane \" ../data/list.txt | cut -d ' ' -f 1"
      ],
      "execution_count": null,
      "outputs": []
    },
    {
      "cell_type": "code",
      "metadata": {
        "id": "RBc8krQDVILz"
      },
      "source": [
        "grep \" jane \" ../data/list.txt | cut -d ' ' -f 2"
      ],
      "execution_count": null,
      "outputs": []
    },
    {
      "cell_type": "code",
      "metadata": {
        "id": "YXbICYxVVKNY"
      },
      "source": [
        "grep \" jane \" ../data/list.txt | cut -d ' ' -f 3"
      ],
      "execution_count": null,
      "outputs": []
    },
    {
      "cell_type": "code",
      "metadata": {
        "id": "vqiYk9g_VNQy"
      },
      "source": [
        "grep \" jane \" ../data/list.txt | cut -d ' ' -f 1-3"
      ],
      "execution_count": null,
      "outputs": []
    },
    {
      "cell_type": "markdown",
      "metadata": {
        "id": "G7hYbQsDVPwu"
      },
      "source": [
        "To return a set of fields together:"
      ]
    },
    {
      "cell_type": "code",
      "metadata": {
        "id": "Prqg61wvVQi1"
      },
      "source": [
        "grep \" jane \" ../data/list.txt | cut -d ' ' -f 1,3"
      ],
      "execution_count": null,
      "outputs": []
    },
    {
      "cell_type": "markdown",
      "metadata": {
        "id": "NEjZr90RVVrB"
      },
      "source": [
        "Test command\r\n",
        "We'll now use the test command to test for the presence of a file. The command test is a command-line utility on Unix-like operating systems that evaluates conditional expressions.\r\n",
        "\r\n",
        "The syntax for this command is:"
      ]
    },
    {
      "cell_type": "code",
      "metadata": {
        "id": "L4uT9Dj0VRbV"
      },
      "source": [
        "test EXPRESSION"
      ],
      "execution_count": null,
      "outputs": []
    },
    {
      "cell_type": "markdown",
      "metadata": {
        "id": "aSttmwPbVbec"
      },
      "source": [
        "We'll use this command to check if a particular file is present in the file system. We do this by using the -e flag. This flag takes a filename as a parameter and returns True if the file exists.\r\n",
        "\r\n",
        "We'll check the existence of a file named jane_profile_07272018.doc using the following command:"
      ]
    },
    {
      "cell_type": "code",
      "metadata": {
        "id": "Si1cXIyvVbPZ"
      },
      "source": [
        "if test -e ~/data/jane_profile_07272018.doc; then echo \"File exists\"; else echo \"File doesn't exist\"; fi"
      ],
      "execution_count": null,
      "outputs": []
    },
    {
      "cell_type": "markdown",
      "metadata": {
        "id": "F25XOV4wVgeC"
      },
      "source": [
        "Create a file using a Redirection operator\r\n",
        "We'll now use the redirection operator (>) to create an empty file simply by specifying the file name. The syntax for this is:"
      ]
    },
    {
      "cell_type": "code",
      "metadata": {
        "id": "jMuFmuJwVid7"
      },
      "source": [
        "> test.txt"
      ],
      "execution_count": null,
      "outputs": []
    },
    {
      "cell_type": "code",
      "metadata": {
        "id": "yy6go0wgVlOW"
      },
      "source": [
        "echo \"I am appending text to this test file\" >> test.txt"
      ],
      "execution_count": null,
      "outputs": []
    },
    {
      "cell_type": "code",
      "metadata": {
        "id": "ajCnDR0eVnGf"
      },
      "source": [
        "cat test.txt"
      ],
      "execution_count": null,
      "outputs": []
    },
    {
      "cell_type": "markdown",
      "metadata": {
        "id": "2Z7VVrRgVtVD"
      },
      "source": [
        "Iteration\r\n",
        "Another important aspect of a scripting language is iteration. Iteration, in simple terms, is the repetition of a specific set of instructions. It's when a set of instructions is repeated a number of times or until a condition is met. And for this process, bash script allows three different iterative statements:\r\n",
        "\r\n",
        "For: A for loop repeats the execution of a group of statements over a set of items.\r\n",
        "While: A while loop executes a set of instructions as long as the control condition remains true.\r\n",
        "Until: An until loop executes a set of instructions as long as the control condition remains false.\r\n",
        "Let's now iterate over a set of items and print those items."
      ]
    },
    {
      "cell_type": "markdown",
      "metadata": {
        "id": "HwN20s6zViIE"
      },
      "source": [
        ""
      ]
    },
    {
      "cell_type": "code",
      "metadata": {
        "id": "jN5tMI2OVvnM"
      },
      "source": [
        "for i in 1 2 3; do echo $i; done"
      ],
      "execution_count": null,
      "outputs": []
    },
    {
      "cell_type": "markdown",
      "metadata": {
        "id": "ZmsNJm4GV2vI"
      },
      "source": [
        "Find files using bash script\r\n",
        "In this section, you are going to write a script named findJane.sh within the scripts directory.\r\n",
        "\r\n",
        "This script should catch all \"jane\" lines and store them in another text file called oldFiles.txt. You will complete the script using the command we practiced in earlier sections. Don't worry, we'll guide you throughout the whole process.\r\n",
        "\r\n",
        "Navigate to /scripts directory and create a new file named findJane.sh."
      ]
    },
    {
      "cell_type": "code",
      "metadata": {
        "id": "v1LxSvOWV33k"
      },
      "source": [
        "cd ~/scripts"
      ],
      "execution_count": null,
      "outputs": []
    },
    {
      "cell_type": "code",
      "metadata": {
        "id": "QhVoXDeLV4um"
      },
      "source": [
        "nano findJane.sh\r\n",
        "#1/bin/bash\r\n",
        ">oldFiles.txt\r\n",
        "files=$(grep\"jane\" ../data/list.txt | cut-d''-f3)\r\n",
        "for f in $files; do\r\n",
        " if [ -e $HOME$f ];then\r\n",
        "    echo $HOME$f >> oldFiles.txt; \r\n",
        " fi\r\n",
        " done"
      ],
      "execution_count": null,
      "outputs": []
    },
    {
      "cell_type": "markdown",
      "metadata": {
        "id": "6yFQdTwWWN59"
      },
      "source": [
        "Rename files using Python script\r\n",
        "In this section, you are going to write a Python script, changeJane.py, that takes oldFiles.txt as a command line argument and then renames files with the new username \"jdoe\". You will be completing the script, but we will guide throughout the section.\r\n",
        "\r\n",
        "Create a Python script changeJane.py under /scripts directory using nano editor.\r\n",
        "\r\n",
        "The sys (System-specific parameters and functions) module provides access to some variables used or maintained by the interpreter and to functions that interact with the interpreter. The subprocess module allows you to spawn new processes, connect to their input/output/error pipes, and get their return codes.\r\n",
        "\r\n",
        "Continue writing the script to achieve the goal!\r\n",
        "\r\n",
        "Since oldFiles.txt is passed as a command line argument, it's stored in the variable sys.argv[1]. Open the file from the first argument to read its contents using open() method. You can either assign it to a variable or use a with block. Hint: traverse each line in the file using readlines() method. Use line.strip() to remove any whitespaces or newlines and fetch the old name.\r\n",
        "\r\n",
        "Once you have the old name, use replace() function to replace \"jane\" with \"jdoe\". This method replaces occurrences of any older substring with the new substring. The old and new substrings are passed as parameters to the function. Therefore, it returns a string where all occurrences of the old substring is replaced with the new substring.\r\n",
        "\r\n",
        "Syntax:"
      ]
    },
    {
      "cell_type": "code",
      "metadata": {
        "id": "KVHOdZuuWIyJ"
      },
      "source": [
        "#!/usr/bin/env python3\r\n",
        "import sys\r\n",
        "import subprocess\r\n",
        "\r\n",
        "\r\n",
        "f = open(sys.argv[1], \"r\")\r\n",
        "for line in f.readlines():\r\n",
        " old_name = line.strip()\r\n",
        " new_name = old_name.replace(\"jane\", \"jdoe\")\r\n",
        " subprocess.run([\"mv\", old_name, new_name)\r\n",
        "f.close()"
      ],
      "execution_count": null,
      "outputs": []
    },
    {
      "cell_type": "markdown",
      "metadata": {
        "id": "W4PEDUMRWW7A"
      },
      "source": [
        "Run the script and pass the file oldFiles.txt as a command line argument.\r\n",
        "\r\n",
        "./changeJ"
      ]
    },
    {
      "cell_type": "code",
      "metadata": {
        "id": "QjPSonExWY1W"
      },
      "source": [
        "./changeJane.py oldFiles.txt"
      ],
      "execution_count": null,
      "outputs": []
    }
  ]
}