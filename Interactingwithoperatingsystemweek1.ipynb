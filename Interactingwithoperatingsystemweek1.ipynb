{
  "nbformat": 4,
  "nbformat_minor": 0,
  "metadata": {
    "colab": {
      "name": "Interactingwithoperatingsystemweek1.ipynb",
      "provenance": [],
      "collapsed_sections": [],
      "authorship_tag": "ABX9TyMM7MYHg7GFavk9djwHzW+I",
      "include_colab_link": true
    },
    "kernelspec": {
      "name": "python3",
      "display_name": "Python 3"
    }
  },
  "cells": [
    {
      "cell_type": "markdown",
      "metadata": {
        "id": "view-in-github",
        "colab_type": "text"
      },
      "source": [
        "<a href=\"https://colab.research.google.com/github/nksharma063/it-cert-automation-practice/blob/master/Interactingwithoperatingsystemweek1.ipynb\" target=\"_parent\"><img src=\"https://colab.research.google.com/assets/colab-badge.svg\" alt=\"Open In Colab\"/></a>"
      ]
    },
    {
      "cell_type": "code",
      "metadata": {
        "id": "fm9w75zg_-DX"
      },
      "source": [
        "#!/usr/bin/env python3\r\n",
        "import shutil\r\n",
        "import psutil\r\n",
        "def check_disk_usage(disk):\r\n",
        "    \"\"\"Verifies that there's enough free space on disk\"\"\"\r\n",
        "    du = shutil.disk_usage(disk)\r\n",
        "    free = du.free / du.total * 100\r\n",
        "    return free > 20\r\n",
        "def check_cpu_usage():\r\n",
        "    \"\"\"Verifies that there's enough unused CPU\"\"\"\r\n",
        "    usage = psutil.cpu_percent(1)\r\n",
        "    return usage > 75\r\n",
        "# If there's not enough disk, or not enough CPU, print an error\r\n",
        "if not check_disk_usage('/') or not check_cpu_usage():\r\n",
        "    print(\"ERROR!\")\r\n",
        "else:\r\n",
        "    print(\"Everything ok\")\r\n",
        "  -'"
      ],
      "execution_count": null,
      "outputs": []
    },
    {
      "cell_type": "markdown",
      "metadata": {
        "id": "pOjht10idTbt"
      },
      "source": [
        "Check whether cpu and disk usage are above certain level or not"
      ]
    },
    {
      "cell_type": "code",
      "metadata": {
        "id": "JDNYQnIJcIoZ"
      },
      "source": [
        "#!/usr/bin/env python3\r\n",
        "from network import *\r\n",
        "import shutil\r\n",
        "import psutil\r\n",
        "def check_disk_usage(disk):\r\n",
        "    \"\"\"Verifies that there's enough free space on disk\"\"\"\r\n",
        "    du = shutil.disk_usage(disk)\r\n",
        "    free = du.free / du.total * 100\r\n",
        "    return free > 20\r\n",
        "\r\n",
        "def check_cpu_usage():\r\n",
        "    \"\"\"Verifies that there's enough unused CPU\"\"\"\r\n",
        "    usage = psutil.cpu_percent(1)\r\n",
        "    return usage < 75\r\n",
        "\r\n",
        "# If there's not enough disk, or not enough CPU, print an error\r\n",
        "if not check_disk_usage('/') or not check_cpu_usage():\r\n",
        "    print(\"ERROR!\")\r\n",
        "elif check_localhost(\"localhost\") and check_connectivity(\"http://www.google.com\"):\r\n",
        "    print(\"Everything Ok\")\r\n",
        "else:\r\n",
        "    print(\"Network checks failed\")"
      ],
      "execution_count": null,
      "outputs": []
    },
    {
      "cell_type": "markdown",
      "metadata": {
        "id": "dMSprNxGdNE4"
      },
      "source": [
        "Use of request to module to connect with website and other localhost etc"
      ]
    },
    {
      "cell_type": "code",
      "metadata": {
        "id": "dAdn_DYPdHJ8"
      },
      "source": [
        "#!/usr/bin/env python3\r\n",
        "\r\n",
        "import requests\r\n",
        "import socket\r\n",
        "\r\n",
        "def check_localhost(localhost):\r\n",
        "    localhost = socket.gethostbyname('localhost')\r\n",
        "    return localhost == '127.0.0.1'\r\n",
        "\r\n",
        "print(check_localhost('localhost'))\r\n",
        "\r\n",
        "def check_connectivity(website):\r\n",
        "    request = requests.get(\"http://www.google.com\")\r\n",
        "    return request.status_code == 200\r\n",
        "\r\n",
        "print(check_connectivity(\"http://www.google.com\"))\r\n"
      ],
      "execution_count": null,
      "outputs": []
    }
  ]
}