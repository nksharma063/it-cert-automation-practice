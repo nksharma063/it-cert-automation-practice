{
  "nbformat": 4,
  "nbformat_minor": 0,
  "metadata": {
    "colab": {
      "name": "Interactingwithpythonweek5.ipynb",
      "provenance": [],
      "authorship_tag": "ABX9TyP66wiLPJODESmi++qTrwjW",
      "include_colab_link": true
    },
    "kernelspec": {
      "name": "python3",
      "display_name": "Python 3"
    }
  },
  "cells": [
    {
      "cell_type": "markdown",
      "metadata": {
        "id": "view-in-github",
        "colab_type": "text"
      },
      "source": [
        "<a href=\"https://colab.research.google.com/github/nksharma063/it-cert-automation-practice/blob/master/Interactingwithpythonweek5.ipynb\" target=\"_parent\"><img src=\"https://colab.research.google.com/assets/colab-badge.svg\" alt=\"Open In Colab\"/></a>"
      ]
    },
    {
      "cell_type": "markdown",
      "metadata": {
        "id": "Y8QShMjN_fEg"
      },
      "source": [
        "In below line we are testing a fucntions working in a appropriate manner or not \r\n",
        ", we are testing and replaicng the papremters , we are creatibg our own class which will inherit the properties for unitest module.\r\n",
        "then we are comparing the result with expected result."
      ]
    },
    {
      "cell_type": "code",
      "metadata": {
        "colab": {
          "base_uri": "https://localhost:8080/",
          "height": 35
        },
        "id": "6ofrPdVw8HL_",
        "outputId": "2e8a111f-68a5-4065-eea7-eba4cfeac56f"
      },
      "source": [
        "import re\r\n",
        "#ACtual Code to check \r\n",
        "def rearrange_name(parameter):\r\n",
        "  result = re.search(r\"^([\\w .]*), ([\\w .]*)$\", parameter)\r\n",
        "  return \"{} {}\".format(result[2], result[1])\r\n",
        "#test case :> parameter passing in fucntion\r\n",
        "#Testing unit module 1\r\n",
        "rearrange_name(\"love, addaM.\")"
      ],
      "execution_count": null,
      "outputs": [
        {
          "output_type": "execute_result",
          "data": {
            "application/vnd.google.colaboratory.intrinsic+json": {
              "type": "string"
            },
            "text/plain": [
              "'addaM. love'"
            ]
          },
          "metadata": {
            "tags": []
          },
          "execution_count": 6
        }
      ]
    },
    {
      "cell_type": "markdown",
      "metadata": {
        "id": "5Tv7wdJQC0Xk"
      },
      "source": [
        "Edge cases are utt patang cases which will help to discover thr data type error whether it is workibg or not,\r\n",
        "like passing number to sring fucntion\r\n",
        "or passing string with number to name fucntion  etc\""
      ]
    },
    {
      "cell_type": "code",
      "metadata": {
        "colab": {
          "base_uri": "https://localhost:8080/",
          "height": 316
        },
        "id": "R5ORM0Lz85jm",
        "outputId": "403d702f-1b74-483f-9537-de3f4d0e8afb"
      },
      "source": [
        "# Another way for unit test case is to import the unittest module\r\n",
        "#import rearrange_name\r\n",
        "import unittest\r\n",
        "\r\n",
        "class TestRearrange(unittest.TestCase):\r\n",
        "  def test_basic(self): #to test actual working\r\n",
        "    test = \"lovelace, ada\"\r\n",
        "    expected = \"Ada lovelace\"\r\n",
        "    self.assertEqual(rearrange_name(testcase), expected)\r\n",
        "  def empty_string(self): # to test empty string\r\n",
        "    test = \"\"\r\n",
        "    expected = \"\"\r\n",
        "    self.assertEqual(rearrange_name(testcase), expected)\r\n",
        "  def string_with_numbers(self): # to test end name with number\r\n",
        "    test = \"lovelace, 90\"\r\n",
        "    expected = \"90 lovelace\"\r\n",
        "    self.assertEqual(rearrange_name(testcase), expected)\r\n",
        "  def passing_0(self):\r\n",
        "    testcase = \"0\"\r\n",
        "    expected = Error, enter the complete name which contains...\r\n",
        "    self.assertEqual(rearrange_name(testcase, expected))\r\n",
        "  def test_double_name(self):\r\n",
        "    testcase = \"Hopper, Grace M.\"\r\n",
        "    expected = \"Grace M. Hopper\"\r\n",
        "    self.assert(testcase, expected)\r\n",
        "  def test_one_name(self):\r\n",
        "    testcase = \"Voltaire\"\r\n",
        "    exopected = \"Voltaire\"\r\n",
        "\r\n",
        "\r\n",
        "unittest.main(argv = ['first-arg-is-ignored'], exit = False)"
      ],
      "execution_count": null,
      "outputs": [
        {
          "output_type": "stream",
          "text": [
            "E\n",
            "======================================================================\n",
            "ERROR: /root/ (unittest.loader._FailedTest)\n",
            "----------------------------------------------------------------------\n",
            "AttributeError: module '__main__' has no attribute '/root/'\n",
            "\n",
            "----------------------------------------------------------------------\n",
            "Ran 1 test in 0.001s\n",
            "\n",
            "FAILED (errors=1)\n"
          ],
          "name": "stderr"
        },
        {
          "output_type": "error",
          "ename": "SystemExit",
          "evalue": "ignored",
          "traceback": [
            "An exception has occurred, use %tb to see the full traceback.\n",
            "\u001b[0;31mSystemExit\u001b[0m\u001b[0;31m:\u001b[0m True\n"
          ]
        },
        {
          "output_type": "stream",
          "text": [
            "/usr/local/lib/python3.6/dist-packages/IPython/core/interactiveshell.py:2890: UserWarning: To exit: use 'exit', 'quit', or Ctrl-D.\n",
            "  warn(\"To exit: use 'exit', 'quit', or Ctrl-D.\", stacklevel=1)\n"
          ],
          "name": "stderr"
        }
      ]
    },
    {
      "cell_type": "markdown",
      "metadata": {
        "id": "7WubMctvFsuw"
      },
      "source": [
        "Lab1"
      ]
    },
    {
      "cell_type": "markdown",
      "metadata": {
        "id": "EL6KvwltFxQq"
      },
      "source": [
        "Below we have some code that makes a list of specific letters found in any string. If you run it, you can see what it does."
      ]
    },
    {
      "cell_type": "code",
      "metadata": {
        "id": "NnsIA-P1_FTK"
      },
      "source": [
        "import re \r\n",
        "  \r\n",
        "my_txt = \"An investment in knowledge pays the best interest.\"\r\n",
        "\r\n",
        "def LetterCompiler(txt):\r\n",
        "    result = re.findall(r'([a-c]).', txt)\r\n",
        "    return result\r\n",
        "\r\n",
        "print(LetterCompiler(my_txt))"
      ],
      "execution_count": null,
      "outputs": []
    },
    {
      "cell_type": "markdown",
      "metadata": {
        "id": "pDrIIzyHF4aM"
      },
      "source": [
        "From the output, you can see that the LetterCompiler( ) function finds all matches for the letters a through c in an input string if followed by another character and returns them as a list of strings, with each string representing one match. Nice.\r\n",
        "\r\n",
        "But can we be sure that this function will always do what we expect it to do? We need to write code to help us catch mistakes, errors and bugs. This code should automate the process of checking if the returned value of our code matches the expectations by dynamically feeding into it test cases. Since we're dynamically feeding in different strings, it would be prudent to create unit tests for our code. We can use the module unittest for this.\r\n",
        "\r\n",
        "Fill in the blanks below to create an automatic unint test that verifies whether input strings have the correct list of string matches."
      ]
    },
    {
      "cell_type": "code",
      "metadata": {
        "id": "oMO5SG02F6kC"
      },
      "source": [
        "import unittest\r\n",
        "\r\n",
        "class TestCompiler(unittest.TestCase):\r\n",
        "\r\n",
        "    def test_basic(self):\r\n",
        "        testcase = \"The best preparation for tomorrow is doing your best today.\"\r\n",
        "        expected = ['b', 'a', 'a', 'b', 'a']\r\n",
        "        self.assertEqual(LetterCompiler(testcase), expected)"
      ],
      "execution_count": null,
      "outputs": []
    },
    {
      "cell_type": "markdown",
      "metadata": {
        "id": "wUrbTvjyGsQf"
      },
      "source": [
        "Now that your automatic test is coded, you need to call the unittest.main( ) function to run the test. It is important to note that the configuration for running unit tests in Jupyter is different than running unit tests from the command line. Running unittest.main( ) in Jupyter will result in an error. You can see this by runnig the following cell to execute your automatic test."
      ]
    },
    {
      "cell_type": "code",
      "metadata": {
        "id": "xouVZHerGtyr"
      },
      "source": [
        "unittest.main()"
      ],
      "execution_count": null,
      "outputs": []
    },
    {
      "cell_type": "markdown",
      "metadata": {
        "id": "Eib9VEbOHBlJ"
      },
      "source": [
        "Yikes! SystemExit: True means an error occurred, as expected. The reason is that unittest.main( ) looks at sys.argv. In Jupyter, by default, the first parameter of sys.argv is what started the Jupyter kernel which is not the case when executing it from the command line. This default parameter is passed into unittest.main( ) as an attribute when you don't explicitly pass it attributes and is therefore what causes the error about the kernel connection file not being a valid attribute. Passing an explicit list to unittest.main( ) prevents it from looking at sys.argv.\r\n",
        "\r\n",
        "Let's pass it the list ['first-arg-is-ignored'] for example. In addition, we will pass it the parameter exit = False to prevent unittest.main( ) from shutting down the kernel process. Run the following cell with the argv and exit parameters passed into unittest.main( ) to rerun your automatic test."
      ]
    },
    {
      "cell_type": "code",
      "metadata": {
        "id": "piBoIXXOHCUE"
      },
      "source": [
        "unittest.main(argv = ['first-arg-is-ignored'], exit = False)"
      ],
      "execution_count": null,
      "outputs": []
    },
    {
      "cell_type": "markdown",
      "metadata": {
        "id": "MnlRFShMHXta"
      },
      "source": [
        "id your automatic test pass? Was OK the result? If not, go back to your automatic test code and make sure you filled in the blanks correctly. If your automatic test passed, great! You have successfully filled in the gaps to create an automatic test that verifies whether input strings have the correct list of string matches.\r\n",
        "\r\n",
        "This is great work so far, but your automatic test includes only one test case. You need to make it grow. You can feed in more strings as test cases to test whether your code works in the general case. But you should also see what happens when you give it some input that you might not expect it to run into under normal operations.\r\n",
        "\r\n",
        "Edge cases are inputs to code that produce unexpected results, and are found at the extreme ends of the ranges of input we imagine programs will typically work with. Can you use the cell below to write some edge cases? We've already filled in another test case for you! As it is, this test will run fine. Can you come up with at least one test case that you think could result in a wrong return value? No wrong answers! Feel free to play around."
      ]
    },
    {
      "cell_type": "code",
      "metadata": {
        "id": "-9lHsF-1HYXB"
      },
      "source": [
        "class TestCompiler2(unittest.TestCase):\r\n",
        "    \r\n",
        "    def test_two(self):\r\n",
        "        testcase = \"A b c d e f g h i j k l m n o q r s t u v w x y z\"\r\n",
        "        expected = ['b', 'c']\r\n",
        "        self.assertEqual(LetterCompiler(testcase), expected)\r\n",
        "\r\n",
        "    def special_character(self):\r\n",
        "        testcase = \"Aa@a@B!b&c$c\"\r\n",
        "        expected = ['a','a','b','c','c']\r\n",
        "        self.assertEqual(LetterCompiler(testcase), expeceted)\r\n",
        "\r\n",
        "class TestCompiler3(unitest.TestCase):\r\n",
        "    \r\n",
        "    def numbers(self):\r\n",
        "        testcase = \"123456789\"\r\n",
        "        expected = \"\"\r\n",
        "        self.assertEqual(LetterCompiler(testcase), expected)\r\n",
        "    def largealphabets(self):\r\n",
        "        testcase = \"aaaaaaaaaaaaaaaaaaaaaaaaaaaaaaaaaaaaaaaaaaaaaaaaaaaaaaabbbbbbbbbbbbbbbbbbbbbbbbbbbbbbbbbcccccccccccccccccc\"\r\n",
        "        expected = \"aaaaaaaaaaaaaaaaaaaaaaaaaaaaaaaaaaaaaaaaaaaaaaaaaaaaaabbbbbbbbbbbbbbbbbbbbbbbbbbbbbbbbbcccccccccccccccccc\"\r\n",
        "\r\n",
        "unittest.main(argv = ['first-arg-is-ignored'], exit = False)"
      ],
      "execution_count": null,
      "outputs": []
    },
    {
      "cell_type": "markdown",
      "metadata": {
        "id": "mBpk48FCTd9z"
      },
      "source": [
        "errors and exceptions\r\n",
        "exampl1"
      ]
    },
    {
      "cell_type": "markdown",
      "metadata": {
        "id": "goqfjLmkVKQL"
      },
      "source": [
        "In below we tried to match any exception that our code can match but what if there is exception occured while takinh input from user."
      ]
    },
    {
      "cell_type": "code",
      "metadata": {
        "id": "_xr6pZyHTkXt"
      },
      "source": [
        "import os\r\n",
        "def read_file(filename):\r\n",
        "  if not os.path.exists(filename):\r\n",
        "    return \"\"\r\n",
        "  if not os.path.isfile(filename):\r\n",
        "    return \"\"\r\n",
        "  if not os.access(filename, os.R_OK):\r\n",
        "    return \"\"\r\n",
        "  if is_locked(filename):\r\n",
        "    return \"\"\r\n",
        "  if is_not_accessible(filename):\r\n",
        "    return \"\"\r\n"
      ],
      "execution_count": null,
      "outputs": []
    },
    {
      "cell_type": "markdown",
      "metadata": {
        "id": "V0DGhXCbWfD3"
      },
      "source": [
        "Example 2\r\n",
        "we cna perform fucntion but if we missed something goes to except block"
      ]
    },
    {
      "cell_type": "code",
      "metadata": {
        "id": "5KP66X2sTlGI"
      },
      "source": [
        "def character_frequency(filename):\r\n",
        "  \"\"\"counts the frequency of each charcter in the given file.\"\"\"\r\n",
        "  #open the file\r\n",
        "  try:\r\n",
        "    with open(filename) as f:\r\n",
        "  except OSError: # we can have n number of except block to pass the exception which we think wont make ijmpact in priduction environment or in performance\r\n",
        "    return None \r\n",
        "  # Now process tehn file\r\n",
        "  character = {}\r\n",
        "  for line in f:\r\n",
        "    for char in line:\r\n",
        "      characters[char] = characters.get(char, 0) + 1\r\n",
        "  f.close()\r\n",
        "  return characters"
      ],
      "execution_count": null,
      "outputs": []
    },
    {
      "cell_type": "markdown",
      "metadata": {
        "id": "O5l3mkicW0w-"
      },
      "source": [
        "if we want our form error for better understsanding of problem for user "
      ]
    },
    {
      "cell_type": "code",
      "metadata": {
        "id": "jcVufD5YW43H"
      },
      "source": [
        "def validate_user(username, minlen):\r\n",
        "  if minlen < 1: # we have mentionioed condition for username but what if user priovided minlen is - or negative than we should raiose an erorr\r\n",
        "    raise ValueError(\"minlen must be at least 1\") # we cna raise n number of errors\r\n",
        "  if len(username) < minlen:\r\n",
        "    return False\r\n",
        "  if not username.isalnum():\r\n",
        "    return False\r\n",
        "  return True"
      ],
      "execution_count": null,
      "outputs": []
    },
    {
      "cell_type": "code",
      "metadata": {
        "colab": {
          "base_uri": "https://localhost:8080/",
          "height": 282
        },
        "id": "swDSwapdX9lM",
        "outputId": "5f1991f6-7903-4d22-8d8e-113b9496252f"
      },
      "source": [
        "validate_user(\"\", -1) # condition 1"
      ],
      "execution_count": null,
      "outputs": [
        {
          "output_type": "error",
          "ename": "ValueError",
          "evalue": "ignored",
          "traceback": [
            "\u001b[0;31m---------------------------------------------------------------------------\u001b[0m",
            "\u001b[0;31mValueError\u001b[0m                                Traceback (most recent call last)",
            "\u001b[0;32m<ipython-input-2-b44615d064d4>\u001b[0m in \u001b[0;36m<module>\u001b[0;34m()\u001b[0m\n\u001b[0;32m----> 1\u001b[0;31m \u001b[0mvalidate_user\u001b[0m\u001b[0;34m(\u001b[0m\u001b[0;34m\"\"\u001b[0m\u001b[0;34m,\u001b[0m \u001b[0;34m-\u001b[0m\u001b[0;36m1\u001b[0m\u001b[0;34m)\u001b[0m\u001b[0;34m\u001b[0m\u001b[0;34m\u001b[0m\u001b[0m\n\u001b[0m",
            "\u001b[0;32m<ipython-input-1-52a5c1cd9d79>\u001b[0m in \u001b[0;36mvalidate_user\u001b[0;34m(username, minlen)\u001b[0m\n\u001b[1;32m      1\u001b[0m \u001b[0;32mdef\u001b[0m \u001b[0mvalidate_user\u001b[0m\u001b[0;34m(\u001b[0m\u001b[0musername\u001b[0m\u001b[0;34m,\u001b[0m \u001b[0mminlen\u001b[0m\u001b[0;34m)\u001b[0m\u001b[0;34m:\u001b[0m\u001b[0;34m\u001b[0m\u001b[0;34m\u001b[0m\u001b[0m\n\u001b[1;32m      2\u001b[0m   \u001b[0;32mif\u001b[0m \u001b[0mminlen\u001b[0m \u001b[0;34m<\u001b[0m \u001b[0;36m1\u001b[0m\u001b[0;34m:\u001b[0m \u001b[0;31m# we have mentionioed condition for username but what if user priovided minlen is - or negative than we should raiose an erorr\u001b[0m\u001b[0;34m\u001b[0m\u001b[0;34m\u001b[0m\u001b[0m\n\u001b[0;32m----> 3\u001b[0;31m     \u001b[0;32mraise\u001b[0m \u001b[0mValueError\u001b[0m\u001b[0;34m(\u001b[0m\u001b[0;34m\"minlen must be at least\"\u001b[0m\u001b[0;34m)\u001b[0m \u001b[0;31m# we cna raise n number of errors\u001b[0m\u001b[0;34m\u001b[0m\u001b[0;34m\u001b[0m\u001b[0m\n\u001b[0m\u001b[1;32m      4\u001b[0m   \u001b[0;32mif\u001b[0m \u001b[0mlen\u001b[0m\u001b[0;34m(\u001b[0m\u001b[0musername\u001b[0m\u001b[0;34m)\u001b[0m \u001b[0;34m<\u001b[0m \u001b[0mminlen\u001b[0m\u001b[0;34m:\u001b[0m\u001b[0;34m\u001b[0m\u001b[0;34m\u001b[0m\u001b[0m\n\u001b[1;32m      5\u001b[0m     \u001b[0;32mreturn\u001b[0m \u001b[0;32mFalse\u001b[0m\u001b[0;34m\u001b[0m\u001b[0;34m\u001b[0m\u001b[0m\n",
            "\u001b[0;31mValueError\u001b[0m: minlen must be at least"
          ]
        }
      ]
    },
    {
      "cell_type": "markdown",
      "metadata": {
        "id": "y-4XBfZJZoYj"
      },
      "source": [
        ""
      ]
    },
    {
      "cell_type": "code",
      "metadata": {
        "colab": {
          "base_uri": "https://localhost:8080/",
          "height": 350
        },
        "id": "E2YfZIs1YH7-",
        "outputId": "bd044c1c-d8c5-4189-f362-ef9717d6abd7"
      },
      "source": [
        "print(validate_user(\"\", 1))\r\n",
        "print(validate_user(\"\", 2))\r\n",
        "print(validate_user(88,1))"
      ],
      "execution_count": null,
      "outputs": [
        {
          "output_type": "stream",
          "text": [
            "False\n",
            "False\n"
          ],
          "name": "stdout"
        },
        {
          "output_type": "error",
          "ename": "TypeError",
          "evalue": "ignored",
          "traceback": [
            "\u001b[0;31m---------------------------------------------------------------------------\u001b[0m",
            "\u001b[0;31mTypeError\u001b[0m                                 Traceback (most recent call last)",
            "\u001b[0;32m<ipython-input-7-c403434c6e22>\u001b[0m in \u001b[0;36m<module>\u001b[0;34m()\u001b[0m\n\u001b[1;32m      1\u001b[0m \u001b[0mprint\u001b[0m\u001b[0;34m(\u001b[0m\u001b[0mvalidate_user\u001b[0m\u001b[0;34m(\u001b[0m\u001b[0;34m\"\"\u001b[0m\u001b[0;34m,\u001b[0m \u001b[0;36m1\u001b[0m\u001b[0;34m)\u001b[0m\u001b[0;34m)\u001b[0m\u001b[0;34m\u001b[0m\u001b[0;34m\u001b[0m\u001b[0m\n\u001b[1;32m      2\u001b[0m \u001b[0mprint\u001b[0m\u001b[0;34m(\u001b[0m\u001b[0mvalidate_user\u001b[0m\u001b[0;34m(\u001b[0m\u001b[0;34m\"\"\u001b[0m\u001b[0;34m,\u001b[0m \u001b[0;36m2\u001b[0m\u001b[0;34m)\u001b[0m\u001b[0;34m)\u001b[0m\u001b[0;34m\u001b[0m\u001b[0;34m\u001b[0m\u001b[0m\n\u001b[0;32m----> 3\u001b[0;31m \u001b[0mprint\u001b[0m\u001b[0;34m(\u001b[0m\u001b[0mvalidate_user\u001b[0m\u001b[0;34m(\u001b[0m\u001b[0;36m88\u001b[0m\u001b[0;34m,\u001b[0m\u001b[0;36m1\u001b[0m\u001b[0;34m)\u001b[0m\u001b[0;34m)\u001b[0m\u001b[0;34m\u001b[0m\u001b[0;34m\u001b[0m\u001b[0m\n\u001b[0m",
            "\u001b[0;32m<ipython-input-1-52a5c1cd9d79>\u001b[0m in \u001b[0;36mvalidate_user\u001b[0;34m(username, minlen)\u001b[0m\n\u001b[1;32m      2\u001b[0m   \u001b[0;32mif\u001b[0m \u001b[0mminlen\u001b[0m \u001b[0;34m<\u001b[0m \u001b[0;36m1\u001b[0m\u001b[0;34m:\u001b[0m \u001b[0;31m# we have mentionioed condition for username but what if user priovided minlen is - or negative than we should raiose an erorr\u001b[0m\u001b[0;34m\u001b[0m\u001b[0;34m\u001b[0m\u001b[0m\n\u001b[1;32m      3\u001b[0m     \u001b[0;32mraise\u001b[0m \u001b[0mValueError\u001b[0m\u001b[0;34m(\u001b[0m\u001b[0;34m\"minlen must be at least\"\u001b[0m\u001b[0;34m)\u001b[0m \u001b[0;31m# we cna raise n number of errors\u001b[0m\u001b[0;34m\u001b[0m\u001b[0;34m\u001b[0m\u001b[0m\n\u001b[0;32m----> 4\u001b[0;31m   \u001b[0;32mif\u001b[0m \u001b[0mlen\u001b[0m\u001b[0;34m(\u001b[0m\u001b[0musername\u001b[0m\u001b[0;34m)\u001b[0m \u001b[0;34m<\u001b[0m \u001b[0mminlen\u001b[0m\u001b[0;34m:\u001b[0m\u001b[0;34m\u001b[0m\u001b[0;34m\u001b[0m\u001b[0m\n\u001b[0m\u001b[1;32m      5\u001b[0m     \u001b[0;32mreturn\u001b[0m \u001b[0;32mFalse\u001b[0m\u001b[0;34m\u001b[0m\u001b[0;34m\u001b[0m\u001b[0m\n\u001b[1;32m      6\u001b[0m   \u001b[0;32mif\u001b[0m \u001b[0;32mnot\u001b[0m \u001b[0musername\u001b[0m\u001b[0;34m.\u001b[0m\u001b[0misalnum\u001b[0m\u001b[0;34m(\u001b[0m\u001b[0;34m)\u001b[0m\u001b[0;34m:\u001b[0m\u001b[0;34m\u001b[0m\u001b[0;34m\u001b[0m\u001b[0m\n",
            "\u001b[0;31mTypeError\u001b[0m: object of type 'int' has no len()"
          ]
        }
      ]
    },
    {
      "cell_type": "markdown",
      "metadata": {
        "id": "QUKa91TWZqqj"
      },
      "source": [
        "We had coupe fo errors like length of username , type of username but whaif we passed someother type in userbame field like list or int."
      ]
    },
    {
      "cell_type": "code",
      "metadata": {
        "id": "sLcqDmLfYlAL"
      },
      "source": [
        "def validate_user(username, minlen):\r\n",
        "  assert type(username) == str, \"username must be a string\"\r\n",
        "  if minlen < 1: # we have mentionioed condition for username but what if user priovided minlen is - or negative than we should raiose an erorr\r\n",
        "    raise ValueError(\"minlen must be at least 1\") # we cna raise n number of errors\r\n",
        "  if len(username) < minlen:\r\n",
        "    return False\r\n",
        "  if not username.isalnum():\r\n",
        "    return False\r\n",
        "  return True"
      ],
      "execution_count": null,
      "outputs": []
    },
    {
      "cell_type": "markdown",
      "metadata": {
        "id": "V699gOsnanp_"
      },
      "source": [
        "Example 2"
      ]
    },
    {
      "cell_type": "code",
      "metadata": {
        "colab": {
          "base_uri": "https://localhost:8080/"
        },
        "id": "m06aWYJEZl-0",
        "outputId": "540f19c7-e358-4f60-869d-44ebaf743c45"
      },
      "source": [
        "import unittest\r\n",
        "class TestValidateUser(unittest.TestCase):\r\n",
        "  def test_valid(self):\r\n",
        "    self.assertEqual(validate_user(\"validuser\", 3), True)\r\n",
        "  def test_too_short(self):\r\n",
        "    self.assertEqual(validate_user(\"inv\", 5), False)\r\n",
        "  def test_invalid_characters(self):\r\n",
        "    self.assertEqual(validate_user(\"Invalid_user\", 1), False)\r\n",
        "  def test_invalid_minlen(self):\r\n",
        "    self.assertRaises(ValueError, validate_user, \"user\", -1)\r\n",
        "unittest.main(argv = ['first-arg-is-ignored'], exit = False)"
      ],
      "execution_count": null,
      "outputs": [
        {
          "output_type": "stream",
          "text": [
            "....\n",
            "----------------------------------------------------------------------\n",
            "Ran 4 tests in 0.007s\n",
            "\n",
            "OK\n"
          ],
          "name": "stderr"
        },
        {
          "output_type": "execute_result",
          "data": {
            "text/plain": [
              "<unittest.main.TestProgram at 0x7fe29cb10f60>"
            ]
          },
          "metadata": {
            "tags": []
          },
          "execution_count": 12
        }
      ]
    },
    {
      "cell_type": "markdown",
      "metadata": {
        "id": "qZSiw0a7dJEW"
      },
      "source": [
        "Practcie Lab"
      ]
    },
    {
      "cell_type": "markdown",
      "metadata": {
        "id": "76hBArT9dasg"
      },
      "source": [
        "Below we have a function that removes an item from an input list. Run it to see what it does."
      ]
    },
    {
      "cell_type": "code",
      "metadata": {
        "colab": {
          "base_uri": "https://localhost:8080/"
        },
        "id": "LOjTowQKb5UC",
        "outputId": "18bf1a18-3569-46f3-a224-7fe7c9cbdaf6"
      },
      "source": [
        "my_list = [27, 5, 9, 6, 8]\r\n",
        "\r\n",
        "def RemoveValue(myVal):\r\n",
        "    my_list.remove(myVal)\r\n",
        "    return my_list\r\n",
        "\r\n",
        "print(RemoveValue(27))"
      ],
      "execution_count": null,
      "outputs": [
        {
          "output_type": "stream",
          "text": [
            "[5, 9, 6, 8]\n"
          ],
          "name": "stdout"
        }
      ]
    },
    {
      "cell_type": "markdown",
      "metadata": {
        "id": "0ZnO3SmfdghC"
      },
      "source": [
        "We used the RemoveValue() function to remove the number, 27 from the given list. Great! The function seems to be working fine. However, there is a problem when we try to call the function on the number 27 again. Run the following cell to see what happens."
      ]
    },
    {
      "cell_type": "code",
      "metadata": {
        "colab": {
          "base_uri": "https://localhost:8080/",
          "height": 163
        },
        "id": "n4vB88PRdhW2",
        "outputId": "f637a4a8-6b77-49eb-cd39-a771471f8c45"
      },
      "source": [
        "print(RemoveValue(27))"
      ],
      "execution_count": null,
      "outputs": [
        {
          "output_type": "error",
          "ename": "NameError",
          "evalue": "ignored",
          "traceback": [
            "\u001b[0;31m---------------------------------------------------------------------------\u001b[0m",
            "\u001b[0;31mNameError\u001b[0m                                 Traceback (most recent call last)",
            "\u001b[0;32m<ipython-input-13-3f8c37f416f6>\u001b[0m in \u001b[0;36m<module>\u001b[0;34m()\u001b[0m\n\u001b[0;32m----> 1\u001b[0;31m \u001b[0mprint\u001b[0m\u001b[0;34m(\u001b[0m\u001b[0mRemoveValue\u001b[0m\u001b[0;34m(\u001b[0m\u001b[0;36m27\u001b[0m\u001b[0;34m)\u001b[0m\u001b[0;34m)\u001b[0m\u001b[0;34m\u001b[0m\u001b[0;34m\u001b[0m\u001b[0m\n\u001b[0m",
            "\u001b[0;31mNameError\u001b[0m: name 'RemoveValue' is not defined"
          ]
        }
      ]
    },
    {
      "cell_type": "markdown",
      "metadata": {
        "id": "B-zvGg_Pea2h"
      },
      "source": [
        "From the above output we see that our function now raises a ValueError. This is because we are trying to remove a number from a list that is not in the list. When we removed 27 from the list the first time, it was no longer available in the list to be removed a second time. Python is letting us know that the number 27 no longer makes sense for our RemoveValue() function.\r\n",
        "\r\n",
        "We'd like to take control of the error messaging here and pre-empt this error. Fill in the blanks below to raise a ValueError in the RemoveValue() function if a value is not in the list. You can have the error message say something obvious like \"Value must be in the given list\"."
      ]
    },
    {
      "cell_type": "code",
      "metadata": {
        "colab": {
          "base_uri": "https://localhost:8080/",
          "height": 316
        },
        "id": "AfHDwjvpdjU4",
        "outputId": "e8d2a1e1-0875-4d1a-df11-3d21363b78b0"
      },
      "source": [
        "def RemoveValue(myVal):\r\n",
        "    if myVal not in my_list:\r\n",
        "        raise ValueError(\"Value mentioned must be in list\")\r\n",
        "    else:\r\n",
        "        my_list.remove(myVal)\r\n",
        "    return my_list\r\n",
        "\r\n",
        "print(RemoveValue(27))"
      ],
      "execution_count": null,
      "outputs": [
        {
          "output_type": "error",
          "ename": "ValueError",
          "evalue": "ignored",
          "traceback": [
            "\u001b[0;31m---------------------------------------------------------------------------\u001b[0m",
            "\u001b[0;31mValueError\u001b[0m                                Traceback (most recent call last)",
            "\u001b[0;32m<ipython-input-16-3594934683ab>\u001b[0m in \u001b[0;36m<module>\u001b[0;34m()\u001b[0m\n\u001b[1;32m      6\u001b[0m     \u001b[0;32mreturn\u001b[0m \u001b[0mmy_list\u001b[0m\u001b[0;34m\u001b[0m\u001b[0;34m\u001b[0m\u001b[0m\n\u001b[1;32m      7\u001b[0m \u001b[0;34m\u001b[0m\u001b[0m\n\u001b[0;32m----> 8\u001b[0;31m \u001b[0mprint\u001b[0m\u001b[0;34m(\u001b[0m\u001b[0mRemoveValue\u001b[0m\u001b[0;34m(\u001b[0m\u001b[0;36m27\u001b[0m\u001b[0;34m)\u001b[0m\u001b[0;34m)\u001b[0m\u001b[0;34m\u001b[0m\u001b[0;34m\u001b[0m\u001b[0m\n\u001b[0m",
            "\u001b[0;32m<ipython-input-16-3594934683ab>\u001b[0m in \u001b[0;36mRemoveValue\u001b[0;34m(myVal)\u001b[0m\n\u001b[1;32m      1\u001b[0m \u001b[0;32mdef\u001b[0m \u001b[0mRemoveValue\u001b[0m\u001b[0;34m(\u001b[0m\u001b[0mmyVal\u001b[0m\u001b[0;34m)\u001b[0m\u001b[0;34m:\u001b[0m\u001b[0;34m\u001b[0m\u001b[0;34m\u001b[0m\u001b[0m\n\u001b[1;32m      2\u001b[0m     \u001b[0;32mif\u001b[0m \u001b[0mmyVal\u001b[0m \u001b[0;32mnot\u001b[0m \u001b[0;32min\u001b[0m \u001b[0mmy_list\u001b[0m\u001b[0;34m:\u001b[0m\u001b[0;34m\u001b[0m\u001b[0;34m\u001b[0m\u001b[0m\n\u001b[0;32m----> 3\u001b[0;31m         \u001b[0;32mraise\u001b[0m \u001b[0mValueError\u001b[0m\u001b[0;34m(\u001b[0m\u001b[0;34m\"Value mentioned must be in list\"\u001b[0m\u001b[0;34m)\u001b[0m\u001b[0;34m\u001b[0m\u001b[0;34m\u001b[0m\u001b[0m\n\u001b[0m\u001b[1;32m      4\u001b[0m     \u001b[0;32melse\u001b[0m\u001b[0;34m:\u001b[0m\u001b[0;34m\u001b[0m\u001b[0;34m\u001b[0m\u001b[0m\n\u001b[1;32m      5\u001b[0m         \u001b[0mmy_list\u001b[0m\u001b[0;34m.\u001b[0m\u001b[0mremove\u001b[0m\u001b[0;34m(\u001b[0m\u001b[0mmyVal\u001b[0m\u001b[0;34m)\u001b[0m\u001b[0;34m\u001b[0m\u001b[0;34m\u001b[0m\u001b[0m\n",
            "\u001b[0;31mValueError\u001b[0m: Value mentioned must be in list"
          ]
        }
      ]
    },
    {
      "cell_type": "markdown",
      "metadata": {
        "id": "EXRuE1joeoJc"
      },
      "source": [
        "Did your error message print correctly? Was the output something like: ValueError: Value must be in the given list? If not, go back to the previous cell and make sure you filled in the blanks correctly. If your error message did print correctly, great! You are on your way to mastering the basics of handling errors and exceptions.\r\n",
        "\r\n",
        "Now, let's look at a different function. Below we have a function that sorts an input list alphabetically. Run it to see what it does."
      ]
    },
    {
      "cell_type": "code",
      "metadata": {
        "colab": {
          "base_uri": "https://localhost:8080/"
        },
        "id": "JXhMCofaefFM",
        "outputId": "ed775e0b-e3c6-4eea-dfc2-43c8942ed188"
      },
      "source": [
        "my_word_list = ['east', 'after', 'up', 'over', 'inside']\r\n",
        "\r\n",
        "def OrganizeList(myList):\r\n",
        "    myList.sort()\r\n",
        "    return myList\r\n",
        "\r\n",
        "print(OrganizeList(my_word_list))"
      ],
      "execution_count": null,
      "outputs": [
        {
          "output_type": "stream",
          "text": [
            "['after', 'east', 'inside', 'over', 'up']\n"
          ],
          "name": "stdout"
        }
      ]
    },
    {
      "cell_type": "markdown",
      "metadata": {
        "id": "M0ouQEKje2nK"
      },
      "source": [
        "We used the OrganizeList() function to sort a given list alphabetically. The function seems to be working fine. However, there is a problem when we try to call the function on a list containing number values. Run the following cell to see what happens."
      ]
    },
    {
      "cell_type": "code",
      "metadata": {
        "colab": {
          "base_uri": "https://localhost:8080/",
          "height": 299
        },
        "id": "38eIoYRtetvH",
        "outputId": "2bae625d-5885-4240-cd92-5195ea9ba5f2"
      },
      "source": [
        "my_new_list = [6, 3, 8, \"12\", 42]\r\n",
        "print(OrganizeList(my_new_list))"
      ],
      "execution_count": null,
      "outputs": [
        {
          "output_type": "error",
          "ename": "TypeError",
          "evalue": "ignored",
          "traceback": [
            "\u001b[0;31m---------------------------------------------------------------------------\u001b[0m",
            "\u001b[0;31mTypeError\u001b[0m                                 Traceback (most recent call last)",
            "\u001b[0;32m<ipython-input-18-459d95f39adf>\u001b[0m in \u001b[0;36m<module>\u001b[0;34m()\u001b[0m\n\u001b[1;32m      1\u001b[0m \u001b[0mmy_new_list\u001b[0m \u001b[0;34m=\u001b[0m \u001b[0;34m[\u001b[0m\u001b[0;36m6\u001b[0m\u001b[0;34m,\u001b[0m \u001b[0;36m3\u001b[0m\u001b[0;34m,\u001b[0m \u001b[0;36m8\u001b[0m\u001b[0;34m,\u001b[0m \u001b[0;34m\"12\"\u001b[0m\u001b[0;34m,\u001b[0m \u001b[0;36m42\u001b[0m\u001b[0;34m]\u001b[0m\u001b[0;34m\u001b[0m\u001b[0;34m\u001b[0m\u001b[0m\n\u001b[0;32m----> 2\u001b[0;31m \u001b[0mprint\u001b[0m\u001b[0;34m(\u001b[0m\u001b[0mOrganizeList\u001b[0m\u001b[0;34m(\u001b[0m\u001b[0mmy_new_list\u001b[0m\u001b[0;34m)\u001b[0m\u001b[0;34m)\u001b[0m\u001b[0;34m\u001b[0m\u001b[0;34m\u001b[0m\u001b[0m\n\u001b[0m",
            "\u001b[0;32m<ipython-input-17-252da45e411d>\u001b[0m in \u001b[0;36mOrganizeList\u001b[0;34m(myList)\u001b[0m\n\u001b[1;32m      2\u001b[0m \u001b[0;34m\u001b[0m\u001b[0m\n\u001b[1;32m      3\u001b[0m \u001b[0;32mdef\u001b[0m \u001b[0mOrganizeList\u001b[0m\u001b[0;34m(\u001b[0m\u001b[0mmyList\u001b[0m\u001b[0;34m)\u001b[0m\u001b[0;34m:\u001b[0m\u001b[0;34m\u001b[0m\u001b[0;34m\u001b[0m\u001b[0m\n\u001b[0;32m----> 4\u001b[0;31m     \u001b[0mmyList\u001b[0m\u001b[0;34m.\u001b[0m\u001b[0msort\u001b[0m\u001b[0;34m(\u001b[0m\u001b[0;34m)\u001b[0m\u001b[0;34m\u001b[0m\u001b[0;34m\u001b[0m\u001b[0m\n\u001b[0m\u001b[1;32m      5\u001b[0m     \u001b[0;32mreturn\u001b[0m \u001b[0mmyList\u001b[0m\u001b[0;34m\u001b[0m\u001b[0;34m\u001b[0m\u001b[0m\n\u001b[1;32m      6\u001b[0m \u001b[0;34m\u001b[0m\u001b[0m\n",
            "\u001b[0;31mTypeError\u001b[0m: '<' not supported between instances of 'str' and 'int'"
          ]
        }
      ]
    },
    {
      "cell_type": "markdown",
      "metadata": {
        "id": "Z5-OTt_ne_Un"
      },
      "source": [
        "From the above output we see that our function now raises a TypeError. This is because the OrganizeList() function makes sense for lists that are filled with only strings. Take control of the error messaging here and pre-empt this error by filling in the blanks below to add an assert type argument that verifies whether the input list is filled with only strings. You can have the error message say something like \"Word list must be a list of strings\"."
      ]
    },
    {
      "cell_type": "code",
      "metadata": {
        "colab": {
          "base_uri": "https://localhost:8080/",
          "height": 316
        },
        "id": "3yNiWj6_e54d",
        "outputId": "5269b4ea-6d2b-4c16-9c90-58b8611037e4"
      },
      "source": [
        "def OrganizeList(myList):\r\n",
        "    for item in myList:\r\n",
        "        assert type(item) == str, \"Word list must be a list of strings\"\r\n",
        "    myList.sort()\r\n",
        "    return myList\r\n",
        "\r\n",
        "print(OrganizeList(my_new_list))"
      ],
      "execution_count": null,
      "outputs": [
        {
          "output_type": "error",
          "ename": "AssertionError",
          "evalue": "ignored",
          "traceback": [
            "\u001b[0;31m---------------------------------------------------------------------------\u001b[0m",
            "\u001b[0;31mAssertionError\u001b[0m                            Traceback (most recent call last)",
            "\u001b[0;32m<ipython-input-19-1c21ea55a219>\u001b[0m in \u001b[0;36m<module>\u001b[0;34m()\u001b[0m\n\u001b[1;32m      5\u001b[0m     \u001b[0;32mreturn\u001b[0m \u001b[0mmyList\u001b[0m\u001b[0;34m\u001b[0m\u001b[0;34m\u001b[0m\u001b[0m\n\u001b[1;32m      6\u001b[0m \u001b[0;34m\u001b[0m\u001b[0m\n\u001b[0;32m----> 7\u001b[0;31m \u001b[0mprint\u001b[0m\u001b[0;34m(\u001b[0m\u001b[0mOrganizeList\u001b[0m\u001b[0;34m(\u001b[0m\u001b[0mmy_new_list\u001b[0m\u001b[0;34m)\u001b[0m\u001b[0;34m)\u001b[0m\u001b[0;34m\u001b[0m\u001b[0;34m\u001b[0m\u001b[0m\n\u001b[0m",
            "\u001b[0;32m<ipython-input-19-1c21ea55a219>\u001b[0m in \u001b[0;36mOrganizeList\u001b[0;34m(myList)\u001b[0m\n\u001b[1;32m      1\u001b[0m \u001b[0;32mdef\u001b[0m \u001b[0mOrganizeList\u001b[0m\u001b[0;34m(\u001b[0m\u001b[0mmyList\u001b[0m\u001b[0;34m)\u001b[0m\u001b[0;34m:\u001b[0m\u001b[0;34m\u001b[0m\u001b[0;34m\u001b[0m\u001b[0m\n\u001b[1;32m      2\u001b[0m     \u001b[0;32mfor\u001b[0m \u001b[0mitem\u001b[0m \u001b[0;32min\u001b[0m \u001b[0mmyList\u001b[0m\u001b[0;34m:\u001b[0m\u001b[0;34m\u001b[0m\u001b[0;34m\u001b[0m\u001b[0m\n\u001b[0;32m----> 3\u001b[0;31m         \u001b[0;32massert\u001b[0m \u001b[0mtype\u001b[0m\u001b[0;34m(\u001b[0m\u001b[0mitem\u001b[0m\u001b[0;34m)\u001b[0m \u001b[0;34m==\u001b[0m \u001b[0mstr\u001b[0m\u001b[0;34m,\u001b[0m \u001b[0;34m\"Word list must be a list of strings\"\u001b[0m\u001b[0;34m\u001b[0m\u001b[0;34m\u001b[0m\u001b[0m\n\u001b[0m\u001b[1;32m      4\u001b[0m     \u001b[0mmyList\u001b[0m\u001b[0;34m.\u001b[0m\u001b[0msort\u001b[0m\u001b[0;34m(\u001b[0m\u001b[0;34m)\u001b[0m\u001b[0;34m\u001b[0m\u001b[0;34m\u001b[0m\u001b[0m\n\u001b[1;32m      5\u001b[0m     \u001b[0;32mreturn\u001b[0m \u001b[0mmyList\u001b[0m\u001b[0;34m\u001b[0m\u001b[0;34m\u001b[0m\u001b[0m\n",
            "\u001b[0;31mAssertionError\u001b[0m: Word list must be a list of strings"
          ]
        }
      ]
    },
    {
      "cell_type": "markdown",
      "metadata": {
        "id": "9U9ecRbrgKQ6"
      },
      "source": [
        "Did your error message print correctly? Was the output something like: AssertionError: Word list must be a list of strings? If not, go back to the previous cell and make sure you filled in the blanks correctly. If your error message did print correctly, excellent! You are another step closer to mastering the basics of handling errors and exceptions.\r\n",
        "\r\n",
        "Let's look at one last code block. The Guess() function below takes a list of participants, assigns each a random number from 1 to 9, and stores this information in a dictionary with the participant name as the key. It then returns True if Larry was assigned the number 9 and False if this was not the case. Run it to see what it does."
      ]
    },
    {
      "cell_type": "code",
      "metadata": {
        "colab": {
          "base_uri": "https://localhost:8080/"
        },
        "id": "krlsOK1sf_X2",
        "outputId": "17d61f08-69ac-43d0-f40f-0714fcfa4e0c"
      },
      "source": [
        "import random\r\n",
        "\r\n",
        "participants = ['Jack','Jill','Larry','Tom']\r\n",
        "\r\n",
        "def Guess(participants):\r\n",
        "    my_participant_dict = {}\r\n",
        "    for participant in participants:\r\n",
        "        my_participant_dict[participant] = random.randint(1, 9)\r\n",
        "    if my_participant_dict['Larry'] == 9:\r\n",
        "        return True\r\n",
        "    else:\r\n",
        "        return False\r\n",
        "    \r\n",
        "print(Guess(participants))"
      ],
      "execution_count": null,
      "outputs": [
        {
          "output_type": "stream",
          "text": [
            "False\n"
          ],
          "name": "stdout"
        }
      ]
    },
    {
      "cell_type": "markdown",
      "metadata": {
        "id": "DeWmnSg2h6bY"
      },
      "source": [
        "We inscribed try except block in case user input name is not Larry which is essential block for code."
      ]
    },
    {
      "cell_type": "code",
      "metadata": {
        "id": "P6fH_UhLgfpS"
      },
      "source": [
        "# Revised Guess() function\r\n",
        "import random\r\n",
        "def Guess(participants):\r\n",
        "    my_participant_dict = {}\r\n",
        "    for participant in participants:\r\n",
        "        my_participant_dict[participant] = random.randint(1, 9)\r\n",
        "    try:\r\n",
        "        if my_participant_dict['Larry'] == 9:\r\n",
        "            return True\r\n",
        "        else:\r\n",
        "            return False\r\n",
        "    except:\r\n",
        "        return None"
      ],
      "execution_count": null,
      "outputs": []
    },
    {
      "cell_type": "code",
      "metadata": {
        "colab": {
          "base_uri": "https://localhost:8080/"
        },
        "id": "mJt46UbRh4fC",
        "outputId": "682b3271-cab4-4fce-ab1a-c460dcdd8fa5"
      },
      "source": [
        "participants = ['Cathy','Fred','Jack','Tom']\r\n",
        "print(Guess(participants))"
      ],
      "execution_count": null,
      "outputs": [
        {
          "output_type": "stream",
          "text": [
            "None\n"
          ],
          "name": "stdout"
        }
      ]
    },
    {
      "cell_type": "code",
      "metadata": {
        "id": "VbavVKJ7iCXW"
      },
      "source": [
        "#!/usr/bin/env python3\r\n",
        "\r\n",
        "import sys\r\n",
        "import csv\r\n",
        "\r\n",
        "def populate_dictionary(filename):\r\n",
        "  \"\"\"Populate a dictionary with name/email pairs for easy lookup.\"\"\"\r\n",
        "  email_dict = {}\r\n",
        "  with open(filename) as csvfile:\r\n",
        "    lines = csv.reader(csvfile, delimiter = ',')\r\n",
        "    for row in lines:\r\n",
        "      name = str(row[0].lower())\r\n",
        "      email_dict[name] = row[1]\r\n",
        "  return email_dict\r\n",
        "\r\n"
      ],
      "execution_count": null,
      "outputs": []
    },
    {
      "cell_type": "code",
      "metadata": {
        "id": "pmPwC3fbBToq"
      },
      "source": [
        "#!/usr/bin/env python3\r\n",
        "\r\n",
        "import sys\r\n",
        "import csv\r\n",
        "\r\n",
        "def populate_dictionary(filename):\r\n",
        "  \"\"\"Populate a dictionary with name/email pairs for easy lookup.\"\"\"\r\n",
        "  email_dict = {}\r\n",
        "  with open(filename) as csvfile:\r\n",
        "    lines = csv.reader(csvfile, delimiter = ',')\r\n",
        "    for row in lines:\r\n",
        "      name = str(row[0].lower())\r\n",
        "      email_dict[name] = row[1]\r\n",
        "  return email_dict\r\n",
        "\r\n",
        "  def find_email(argv):\r\n",
        "  \"\"\" Return an email address based on the username given.\"\"\"\r\n",
        "  # Create the username based on the command line input.\r\n",
        "  fullname = str(argv[1] + \" \" + argv[2])\r\n",
        "   # Preprocess the data\r\n",
        "  email_dict = populate_dictionary('/home/student-01-0be4628a3aa1/data/user_emails.csv'\r\n",
        "  # Find and print the email\r\n",
        "  return email_dict.get(fullname.lower())\r\n",
        "\r\n",
        "def main():\r\n",
        "  print(find_email(sys.argv))\r\n",
        "\r\n",
        "if __name__ == \"__main__\":\r\n",
        "  main()\r\n",
        "\r\n",
        "  \r\n"
      ],
      "execution_count": null,
      "outputs": []
    },
    {
      "cell_type": "markdown",
      "metadata": {
        "id": "jVlTAMDaMbgV"
      },
      "source": [
        "Actual code after all test cases"
      ]
    },
    {
      "cell_type": "code",
      "metadata": {
        "id": "BrOXrMnmMeLM"
      },
      "source": [
        "#!/usr/bin/env python3\r\n",
        "\r\n",
        "import csv\r\n",
        "import sys\r\n",
        "\r\n",
        "\r\n",
        "def populate_dictionary(filename):\r\n",
        "  \"\"\"Populate a dictionary with name/email pairs for easy lookup.\"\"\"\r\n",
        "  email_dict = {}\r\n",
        "  with open(filename) as csvfile:\r\n",
        "    lines = csv.reader(csvfile, delimiter = ',')\r\n",
        "    for row in lines:\r\n",
        "      name = str(row[0].lower())\r\n",
        "      email_dict[name] = row[1]\r\n",
        "  return email_dict\r\n",
        "\r\n",
        "def find_email(argv):\r\n",
        "  \"\"\" Return an email address based on the username given.\"\"\"\r\n",
        "  # Create the username based on the command line input.\r\n",
        "  try:\r\n",
        "    fullname = str(argv[1] + \" \" + argv[2])\r\n",
        "    # Preprocess the data\r\n",
        "    email_dict = populate_dictionary('/home/{{ username }}/data/user_emails.csv')\r\n",
        "     # If email exists, print it\r\n",
        "    if email_dict.get(fullname.lower()):\r\n",
        "      return email_dict.get(fullname.lower())\r\n",
        "    else:\r\n",
        "      return \"No email address found\"\r\n",
        "  except IndexError:\r\n",
        "    return \"Missing parameters\"\r\n",
        "\r\n",
        "def main():\r\n",
        "  print(find_email(sys.argv))\r\n",
        "\r\n",
        "if __name__ == \"__main__\":\r\n",
        "  main()"
      ],
      "execution_count": null,
      "outputs": []
    },
    {
      "cell_type": "markdown",
      "metadata": {
        "id": "lbyucQg-MlAy"
      },
      "source": [
        "Test cases for above line of code"
      ]
    },
    {
      "cell_type": "code",
      "metadata": {
        "id": "pdGov2RQMnou"
      },
      "source": [
        "#!/usr/bin/env python3\r\n",
        "\r\n",
        "import unittest\r\n",
        "from emails import find_email\r\n",
        "\r\n",
        "\r\n",
        "class EmailsTest(unittest.TestCase):\r\n",
        "  def test_basic(self):\r\n",
        "    testcase = [None, \"Bree\", \"Campbell\"]\r\n",
        "    expected = \"breee@abc.edu\"\r\n",
        "    self.assertEqual(find_email(testcase), expected)\r\n",
        "\r\n",
        "  def test_one_name(self):\r\n",
        "    testcase = [None, \"John\"]\r\n",
        "    expected = \"Missing parameters\"\r\n",
        "    self.assertEqual(find_email(testcase), expected)\r\n",
        "\r\n",
        "  def test_two_name(self):\r\n",
        "    testcase = [None, \"Roy\",\"Cooper\"]\r\n",
        "    expected = \"No email address found\"\r\n",
        "    self.assertEqual(find_email(testcase), expected)\r\n",
        "\r\n",
        "if __name__ == '__main__':\r\n",
        "  unittest.main()"
      ],
      "execution_count": null,
      "outputs": []
    }
  ]
}